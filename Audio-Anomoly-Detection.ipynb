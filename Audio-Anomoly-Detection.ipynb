{
 "cells": [
  {
   "cell_type": "code",
   "execution_count": null,
   "metadata": {},
   "outputs": [],
   "source": [
    "import os, csv\n",
    "\n",
    "f=open(\"D:/vscode/train1.csv\",'r+')\n",
    "w=csv.writer(f)\n",
    "\n",
    "for path, dirs, files in os.walk(\"D:/vscode/train/\"):\n",
    "    for filename in files:\n",
    "        w.writerow([filename])\n"
   ]
  },
  {
   "cell_type": "code",
   "execution_count": 1,
   "metadata": {},
   "outputs": [
    {
     "data": {
      "text/html": [
       "<div>\n",
       "<style scoped>\n",
       "    .dataframe tbody tr th:only-of-type {\n",
       "        vertical-align: middle;\n",
       "    }\n",
       "\n",
       "    .dataframe tbody tr th {\n",
       "        vertical-align: top;\n",
       "    }\n",
       "\n",
       "    .dataframe thead th {\n",
       "        text-align: right;\n",
       "    }\n",
       "</style>\n",
       "<table border=\"1\" class=\"dataframe\">\n",
       "  <thead>\n",
       "    <tr style=\"text-align: right;\">\n",
       "      <th></th>\n",
       "      <th>fname</th>\n",
       "      <th>label</th>\n",
       "    </tr>\n",
       "  </thead>\n",
       "  <tbody>\n",
       "    <tr>\n",
       "      <th>0</th>\n",
       "      <td>bomb-drop-impact-2804_10.wav</td>\n",
       "      <td>bomb-drop-impact</td>\n",
       "    </tr>\n",
       "    <tr>\n",
       "      <th>1</th>\n",
       "      <td>bomb-drop-impact-2804_11.wav</td>\n",
       "      <td>bomb-drop-impact</td>\n",
       "    </tr>\n",
       "    <tr>\n",
       "      <th>2</th>\n",
       "      <td>bomb-drop-impact-2804_110.wav</td>\n",
       "      <td>bomb-drop-impact</td>\n",
       "    </tr>\n",
       "    <tr>\n",
       "      <th>3</th>\n",
       "      <td>bomb-drop-impact-2804_111.wav</td>\n",
       "      <td>bomb-drop-impact</td>\n",
       "    </tr>\n",
       "    <tr>\n",
       "      <th>4</th>\n",
       "      <td>bomb-drop-impact-2804_12.wav</td>\n",
       "      <td>bomb-drop-impact</td>\n",
       "    </tr>\n",
       "  </tbody>\n",
       "</table>\n",
       "</div>"
      ],
      "text/plain": [
       "                           fname             label\n",
       "0   bomb-drop-impact-2804_10.wav  bomb-drop-impact\n",
       "1   bomb-drop-impact-2804_11.wav  bomb-drop-impact\n",
       "2  bomb-drop-impact-2804_110.wav  bomb-drop-impact\n",
       "3  bomb-drop-impact-2804_111.wav  bomb-drop-impact\n",
       "4   bomb-drop-impact-2804_12.wav  bomb-drop-impact"
      ]
     },
     "execution_count": 1,
     "metadata": {},
     "output_type": "execute_result"
    }
   ],
   "source": [
    "import numpy as np\n",
    "import pandas as pd\n",
    "\n",
    "\n",
    "dataa = pd.read_csv(\"D:/vscode/train1.csv\")\n",
    "dataa.head()"
   ]
  },
  {
   "cell_type": "code",
   "execution_count": 2,
   "metadata": {},
   "outputs": [
    {
     "name": "stdout",
     "output_type": "stream",
     "text": [
      "<class 'pandas.core.frame.DataFrame'>\n",
      "RangeIndex: 78 entries, 0 to 77\n",
      "Data columns (total 2 columns):\n",
      " #   Column  Non-Null Count  Dtype \n",
      "---  ------  --------------  ----- \n",
      " 0   fname   78 non-null     object\n",
      " 1   label   78 non-null     object\n",
      "dtypes: object(2)\n",
      "memory usage: 1.3+ KB\n"
     ]
    }
   ],
   "source": [
    "dataa.info()"
   ]
  },
  {
   "cell_type": "code",
   "execution_count": 3,
   "metadata": {},
   "outputs": [
    {
     "data": {
      "text/html": [
       "<div>\n",
       "<style scoped>\n",
       "    .dataframe tbody tr th:only-of-type {\n",
       "        vertical-align: middle;\n",
       "    }\n",
       "\n",
       "    .dataframe tbody tr th {\n",
       "        vertical-align: top;\n",
       "    }\n",
       "\n",
       "    .dataframe thead th {\n",
       "        text-align: right;\n",
       "    }\n",
       "</style>\n",
       "<table border=\"1\" class=\"dataframe\">\n",
       "  <thead>\n",
       "    <tr style=\"text-align: right;\">\n",
       "      <th></th>\n",
       "      <th>fname</th>\n",
       "      <th>label</th>\n",
       "    </tr>\n",
       "  </thead>\n",
       "  <tbody>\n",
       "    <tr>\n",
       "      <th>count</th>\n",
       "      <td>78</td>\n",
       "      <td>78</td>\n",
       "    </tr>\n",
       "    <tr>\n",
       "      <th>unique</th>\n",
       "      <td>78</td>\n",
       "      <td>7</td>\n",
       "    </tr>\n",
       "    <tr>\n",
       "      <th>top</th>\n",
       "      <td>bomb-drop-impact-2804_10.wav</td>\n",
       "      <td>boxer-getting-hit</td>\n",
       "    </tr>\n",
       "    <tr>\n",
       "      <th>freq</th>\n",
       "      <td>1</td>\n",
       "      <td>16</td>\n",
       "    </tr>\n",
       "  </tbody>\n",
       "</table>\n",
       "</div>"
      ],
      "text/plain": [
       "                               fname              label\n",
       "count                             78                 78\n",
       "unique                            78                  7\n",
       "top     bomb-drop-impact-2804_10.wav  boxer-getting-hit\n",
       "freq                               1                 16"
      ]
     },
     "execution_count": 3,
     "metadata": {},
     "output_type": "execute_result"
    }
   ],
   "source": [
    "dataa.describe()\n"
   ]
  },
  {
   "cell_type": "code",
   "execution_count": 4,
   "metadata": {},
   "outputs": [
    {
     "data": {
      "text/plain": [
       "<AxesSubplot:xlabel='fname', ylabel='count'>"
      ]
     },
     "execution_count": 4,
     "metadata": {},
     "output_type": "execute_result"
    },
    {
     "data": {
      "image/png": "[encoded data removed]",
      "text/plain": [
       "<Figure size 432x288 with 1 Axes>"
      ]
     },
     "metadata": {
      "needs_background": "light"
     },
     "output_type": "display_data"
    }
   ],
   "source": [
    "import seaborn as sns\n",
    "sns.countplot(x='fname',data=dataa)"
   ]
  },
  {
   "cell_type": "code",
   "execution_count": 6,
   "metadata": {},
   "outputs": [
    {
     "data": {
      "text/plain": [
       "<AxesSubplot:xlabel='label', ylabel='count'>"
      ]
     },
     "execution_count": 6,
     "metadata": {},
     "output_type": "execute_result"
    },
    {
     "data": {
      "image/png": "[encoded data removed]",
      "text/plain": [
       "<Figure size 432x288 with 1 Axes>"
      ]
     },
     "metadata": {
      "needs_background": "light"
     },
     "output_type": "display_data"
    }
   ],
   "source": [
    "import seaborn as sns\n",
    "sns.countplot(x='label',data=dataa)"
   ]
  },
  {
   "cell_type": "markdown",
   "metadata": {},
   "source": [
    "FEATURE EXTRACTION\n"
   ]
  },
  {
   "cell_type": "code",
   "execution_count": 7,
   "metadata": {},
   "outputs": [],
   "source": [
    "import numpy as np\n",
    "import pandas as pd\n",
    "\n",
    "import os\n",
    "import librosa\n",
    "\n",
    "import scipy\n",
    "from scipy.stats import skew\n",
    "from tqdm import tqdm, tqdm_pandas\n",
    "\n",
    "tqdm.pandas()\n",
    "\n",
    "from sklearn.model_selection import GridSearchCV\n",
    "from sklearn.model_selection import train_test_split\n",
    "from sklearn.metrics import accuracy_score\n",
    "from sklearn.preprocessing import StandardScaler\n",
    "from sklearn.decomposition import PCA\n",
    "\n",
    "from sklearn.svm import SVC"
   ]
  },
  {
   "cell_type": "code",
   "execution_count": 8,
   "metadata": {},
   "outputs": [],
   "source": [
    "# Load data\n",
    "\n",
    "audio_train_files = os.listdir('D:/vscode/train/')\n",
    "#audio_test_files = os.listdir('/content/drive/MyDrive/Thesis dataset/test/')\n",
    "\n",
    "train = pd.read_csv('D:/vscode/train1.csv')\n"
   ]
  },
  {
   "cell_type": "code",
   "execution_count": 9,
   "metadata": {},
   "outputs": [],
   "source": [
    "# Function from EDA kernel: https://www.kaggle.com/codename007/a-very-extensive-freesound-exploratory-analysis\n",
    "SAMPLE_RATE = 44100\n",
    "\n",
    "def clean_filename(fname, string):   \n",
    "    file_name = fname.split('/')[1]\n",
    "    if file_name[:2] == '__':        \n",
    "        file_name = string + file_name\n",
    "    return file_name\n",
    "\n",
    "# Generate mfcc features with mean and standard deviation\n",
    "def get_mfcc(name, path):\n",
    "    data, _ = librosa.core.load(path + name, sr = SAMPLE_RATE)\n",
    "    assert _ == SAMPLE_RATE\n",
    "    try:\n",
    "        ft1 = librosa.feature.mfcc(data, sr = SAMPLE_RATE, n_mfcc=40)\n",
    "        ft2 = librosa.feature.zero_crossing_rate(data)[0]\n",
    "        ft3 = librosa.feature.spectral_rolloff(data)[0]\n",
    "        ft4 = librosa.feature.spectral_centroid(data)[0]\n",
    "        ft5 = librosa.feature.spectral_contrast(data)[0]\n",
    "        ft6 = librosa.feature.spectral_bandwidth(data)[0]\n",
    "        ft1_trunc = np.hstack((np.mean(ft1, axis=1), np.std(ft1, axis=1), skew(ft1, axis = 1), np.max(ft1, axis = 1), np.median(ft1, axis = 1), np.min(ft1, axis = 1)))\n",
    "        ft2_trunc = np.hstack((np.mean(ft2), np.std(ft2), skew(ft2), np.max(ft2), np.median(ft2), np.min(ft2)))\n",
    "        ft3_trunc = np.hstack((np.mean(ft3), np.std(ft3), skew(ft3), np.max(ft3), np.median(ft3), np.min(ft3)))\n",
    "        ft4_trunc = np.hstack((np.mean(ft4), np.std(ft4), skew(ft4), np.max(ft4), np.median(ft4), np.min(ft4)))\n",
    "        ft5_trunc = np.hstack((np.mean(ft5), np.std(ft5), skew(ft5), np.max(ft5), np.median(ft5), np.min(ft5)))\n",
    "        ft6_trunc = np.hstack((np.mean(ft6), np.std(ft6), skew(ft6), np.max(ft6), np.median(ft6), np.max(ft6)))\n",
    "        return pd.Series(np.hstack((ft1_trunc, ft2_trunc, ft3_trunc, ft4_trunc, ft5_trunc, ft6_trunc)))\n",
    "    except:\n",
    "        print('bad file')\n",
    "        return pd.Series([0]*210)"
   ]
  },
  {
   "cell_type": "code",
   "execution_count": 10,
   "metadata": {},
   "outputs": [],
   "source": [
    "def convert_to_labels(preds, i2c, k=3):\n",
    "    ans = []\n",
    "    ids = []\n",
    "    for p in preds:\n",
    "        idx = np.argsort(p)[::-1]\n",
    "        ids.append([i for i in idx[:k]])\n",
    "        ans.append(' '.join([i2c[i] for i in idx[:k]]))\n",
    "\n",
    "    return ans, ids"
   ]
  },
  {
   "cell_type": "code",
   "execution_count": 11,
   "metadata": {},
   "outputs": [
    {
     "name": "stderr",
     "output_type": "stream",
     "text": [
      "  0%|          | 0/78 [00:00<?, ?it/s]C:\\Users\\Azka\\AppData\\Local\\Temp\\ipykernel_16088\\1789638589.py:15: FutureWarning: Pass y=[-0.01068115 -0.01930237 -0.0189209  ...  0.          0.\n",
      "  0.        ] as keyword args. From version 0.10 passing these as positional arguments will result in an error\n",
      "  ft1 = librosa.feature.mfcc(data, sr = SAMPLE_RATE, n_mfcc=40)\n",
      "C:\\Users\\Azka\\AppData\\Local\\Temp\\ipykernel_16088\\1789638589.py:17: FutureWarning: Pass y=[-0.01068115 -0.01930237 -0.0189209  ...  0.          0.\n",
      "  0.        ] as keyword args. From version 0.10 passing these as positional arguments will result in an error\n",
      "  ft3 = librosa.feature.spectral_rolloff(data)[0]\n",
      "C:\\Users\\Azka\\AppData\\Local\\Temp\\ipykernel_16088\\1789638589.py:18: FutureWarning: Pass y=[-0.01068115 -0.01930237 -0.0189209  ...  0.          0.\n",
      "  0.        ] as keyword args. From version 0.10 passing these as positional arguments will result in an error\n",
      "  ft4 = librosa.feature.spectral_centroid(data)[0]\n",
      "C:\\Users\\Azka\\AppData\\Local\\Temp\\ipykernel_16088\\1789638589.py:19: FutureWarning: Pass y=[-0.01068115 -0.01930237 -0.0189209  ...  0.          0.\n",
      "  0.        ] as keyword args. From version 0.10 passing these as positional arguments will result in an error\n",
      "  ft5 = librosa.feature.spectral_contrast(data)[0]\n",
      "C:\\Users\\Azka\\AppData\\Local\\Temp\\ipykernel_16088\\1789638589.py:20: FutureWarning: Pass y=[-0.01068115 -0.01930237 -0.0189209  ...  0.          0.\n",
      "  0.        ] as keyword args. From version 0.10 passing these as positional arguments will result in an error\n",
      "  ft6 = librosa.feature.spectral_bandwidth(data)[0]\n",
      "  3%|▎         | 2/78 [00:05<03:35,  2.84s/it]C:\\Users\\Azka\\AppData\\Local\\Temp\\ipykernel_16088\\1789638589.py:15: FutureWarning: Pass y=[0. 0. 0. ... 0. 0. 0.] as keyword args. From version 0.10 passing these as positional arguments will result in an error\n",
      "  ft1 = librosa.feature.mfcc(data, sr = SAMPLE_RATE, n_mfcc=40)\n",
      "C:\\Users\\Azka\\AppData\\Local\\Temp\\ipykernel_16088\\1789638589.py:17: FutureWarning: Pass y=[0. 0. 0. ... 0. 0. 0.] as keyword args. From version 0.10 passing these as positional arguments will result in an error\n",
      "  ft3 = librosa.feature.spectral_rolloff(data)[0]\n",
      "C:\\Users\\Azka\\AppData\\Local\\Temp\\ipykernel_16088\\1789638589.py:18: FutureWarning: Pass y=[0. 0. 0. ... 0. 0. 0.] as keyword args. From version 0.10 passing these as positional arguments will result in an error\n",
      "  ft4 = librosa.feature.spectral_centroid(data)[0]\n",
      "C:\\Users\\Azka\\AppData\\Local\\Temp\\ipykernel_16088\\1789638589.py:19: FutureWarning: Pass y=[0. 0. 0. ... 0. 0. 0.] as keyword args. From version 0.10 passing these as positional arguments will result in an error\n",
      "  ft5 = librosa.feature.spectral_contrast(data)[0]\n",
      "C:\\Users\\Azka\\AppData\\Local\\Temp\\ipykernel_16088\\1789638589.py:20: FutureWarning: Pass y=[0. 0. 0. ... 0. 0. 0.] as keyword args. From version 0.10 passing these as positional arguments will result in an error\n",
      "  ft6 = librosa.feature.spectral_bandwidth(data)[0]\n",
      "  4%|▍         | 3/78 [00:09<03:51,  3.09s/it]C:\\Users\\Azka\\AppData\\Local\\Temp\\ipykernel_16088\\1789638589.py:15: FutureWarning: Pass y=[0.00457764 0.00611877 0.00865173 ... 0.         0.         0.        ] as keyword args. From version 0.10 passing these as positional arguments will result in an error\n",
      "  ft1 = librosa.feature.mfcc(data, sr = SAMPLE_RATE, n_mfcc=40)\n",
      "C:\\Users\\Azka\\AppData\\Local\\Temp\\ipykernel_16088\\1789638589.py:17: FutureWarning: Pass y=[0.00457764 0.00611877 0.00865173 ... 0.         0.         0.        ] as keyword args. From version 0.10 passing these as positional arguments will result in an error\n",
      "  ft3 = librosa.feature.spectral_rolloff(data)[0]\n",
      "C:\\Users\\Azka\\AppData\\Local\\Temp\\ipykernel_16088\\1789638589.py:18: FutureWarning: Pass y=[0.00457764 0.00611877 0.00865173 ... 0.         0.         0.        ] as keyword args. From version 0.10 passing these as positional arguments will result in an error\n",
      "  ft4 = librosa.feature.spectral_centroid(data)[0]\n",
      "C:\\Users\\Azka\\AppData\\Local\\Temp\\ipykernel_16088\\1789638589.py:19: FutureWarning: Pass y=[0.00457764 0.00611877 0.00865173 ... 0.         0.         0.        ] as keyword args. From version 0.10 passing these as positional arguments will result in an error\n",
      "  ft5 = librosa.feature.spectral_contrast(data)[0]\n",
      "C:\\Users\\Azka\\AppData\\Local\\Temp\\ipykernel_16088\\1789638589.py:20: FutureWarning: Pass y=[0.00457764 0.00611877 0.00865173 ... 0.         0.         0.        ] as keyword args. From version 0.10 passing these as positional arguments will result in an error\n",
      "  ft6 = librosa.feature.spectral_bandwidth(data)[0]\n",
      "  5%|▌         | 4/78 [00:10<02:54,  2.36s/it]C:\\Users\\Azka\\AppData\\Local\\Temp\\ipykernel_16088\\1789638589.py:15: FutureWarning: Pass y=[ 0.0000000e+00  0.0000000e+00 -1.5258789e-05 ...  0.0000000e+00\n",
      " -3.0517578e-05 -1.5258789e-05] as keyword args. From version 0.10 passing these as positional arguments will result in an error\n",
      "  ft1 = librosa.feature.mfcc(data, sr = SAMPLE_RATE, n_mfcc=40)\n",
      "C:\\Users\\Azka\\AppData\\Local\\Temp\\ipykernel_16088\\1789638589.py:17: FutureWarning: Pass y=[ 0.0000000e+00  0.0000000e+00 -1.5258789e-05 ...  0.0000000e+00\n",
      " -3.0517578e-05 -1.5258789e-05] as keyword args. From version 0.10 passing these as positional arguments will result in an error\n",
      "  ft3 = librosa.feature.spectral_rolloff(data)[0]\n",
      "C:\\Users\\Azka\\AppData\\Local\\Temp\\ipykernel_16088\\1789638589.py:18: FutureWarning: Pass y=[ 0.0000000e+00  0.0000000e+00 -1.5258789e-05 ...  0.0000000e+00\n",
      " -3.0517578e-05 -1.5258789e-05] as keyword args. From version 0.10 passing these as positional arguments will result in an error\n",
      "  ft4 = librosa.feature.spectral_centroid(data)[0]\n",
      "C:\\Users\\Azka\\AppData\\Local\\Temp\\ipykernel_16088\\1789638589.py:19: FutureWarning: Pass y=[ 0.0000000e+00  0.0000000e+00 -1.5258789e-05 ...  0.0000000e+00\n",
      " -3.0517578e-05 -1.5258789e-05] as keyword args. From version 0.10 passing these as positional arguments will result in an error\n",
      "  ft5 = librosa.feature.spectral_contrast(data)[0]\n",
      "C:\\Users\\Azka\\AppData\\Local\\Temp\\ipykernel_16088\\1789638589.py:20: FutureWarning: Pass y=[ 0.0000000e+00  0.0000000e+00 -1.5258789e-05 ...  0.0000000e+00\n",
      " -3.0517578e-05 -1.5258789e-05] as keyword args. From version 0.10 passing these as positional arguments will result in an error\n",
      "  ft6 = librosa.feature.spectral_bandwidth(data)[0]\n",
      "  6%|▋         | 5/78 [00:11<02:12,  1.82s/it]C:\\Users\\Azka\\AppData\\Local\\Temp\\ipykernel_16088\\1789638589.py:15: FutureWarning: Pass y=[0.03227234 0.03315735 0.0296936  ... 0.         0.         0.        ] as keyword args. From version 0.10 passing these as positional arguments will result in an error\n",
      "  ft1 = librosa.feature.mfcc(data, sr = SAMPLE_RATE, n_mfcc=40)\n",
      "C:\\Users\\Azka\\AppData\\Local\\Temp\\ipykernel_16088\\1789638589.py:17: FutureWarning: Pass y=[0.03227234 0.03315735 0.0296936  ... 0.         0.         0.        ] as keyword args. From version 0.10 passing these as positional arguments will result in an error\n",
      "  ft3 = librosa.feature.spectral_rolloff(data)[0]\n",
      "C:\\Users\\Azka\\AppData\\Local\\Temp\\ipykernel_16088\\1789638589.py:18: FutureWarning: Pass y=[0.03227234 0.03315735 0.0296936  ... 0.         0.         0.        ] as keyword args. From version 0.10 passing these as positional arguments will result in an error\n",
      "  ft4 = librosa.feature.spectral_centroid(data)[0]\n",
      "C:\\Users\\Azka\\AppData\\Local\\Temp\\ipykernel_16088\\1789638589.py:19: FutureWarning: Pass y=[0.03227234 0.03315735 0.0296936  ... 0.         0.         0.        ] as keyword args. From version 0.10 passing these as positional arguments will result in an error\n",
      "  ft5 = librosa.feature.spectral_contrast(data)[0]\n",
      "C:\\Users\\Azka\\AppData\\Local\\Temp\\ipykernel_16088\\1789638589.py:20: FutureWarning: Pass y=[0.03227234 0.03315735 0.0296936  ... 0.         0.         0.        ] as keyword args. From version 0.10 passing these as positional arguments will result in an error\n",
      "  ft6 = librosa.feature.spectral_bandwidth(data)[0]\n",
      "  8%|▊         | 6/78 [00:13<02:20,  1.96s/it]C:\\Users\\Azka\\AppData\\Local\\Temp\\ipykernel_16088\\1789638589.py:15: FutureWarning: Pass y=[0.0000000e+00 1.5258789e-05 0.0000000e+00 ... 3.3111572e-03 2.8533936e-03\n",
      " 3.3874512e-03] as keyword args. From version 0.10 passing these as positional arguments will result in an error\n",
      "  ft1 = librosa.feature.mfcc(data, sr = SAMPLE_RATE, n_mfcc=40)\n",
      "C:\\Users\\Azka\\AppData\\Local\\Temp\\ipykernel_16088\\1789638589.py:17: FutureWarning: Pass y=[0.0000000e+00 1.5258789e-05 0.0000000e+00 ... 3.3111572e-03 2.8533936e-03\n",
      " 3.3874512e-03] as keyword args. From version 0.10 passing these as positional arguments will result in an error\n",
      "  ft3 = librosa.feature.spectral_rolloff(data)[0]\n",
      "C:\\Users\\Azka\\AppData\\Local\\Temp\\ipykernel_16088\\1789638589.py:18: FutureWarning: Pass y=[0.0000000e+00 1.5258789e-05 0.0000000e+00 ... 3.3111572e-03 2.8533936e-03\n",
      " 3.3874512e-03] as keyword args. From version 0.10 passing these as positional arguments will result in an error\n",
      "  ft4 = librosa.feature.spectral_centroid(data)[0]\n",
      "C:\\Users\\Azka\\AppData\\Local\\Temp\\ipykernel_16088\\1789638589.py:19: FutureWarning: Pass y=[0.0000000e+00 1.5258789e-05 0.0000000e+00 ... 3.3111572e-03 2.8533936e-03\n",
      " 3.3874512e-03] as keyword args. From version 0.10 passing these as positional arguments will result in an error\n",
      "  ft5 = librosa.feature.spectral_contrast(data)[0]\n",
      "C:\\Users\\Azka\\AppData\\Local\\Temp\\ipykernel_16088\\1789638589.py:20: FutureWarning: Pass y=[0.0000000e+00 1.5258789e-05 0.0000000e+00 ... 3.3111572e-03 2.8533936e-03\n",
      " 3.3874512e-03] as keyword args. From version 0.10 passing these as positional arguments will result in an error\n",
      "  ft6 = librosa.feature.spectral_bandwidth(data)[0]\n",
      "  9%|▉         | 7/78 [00:13<01:48,  1.53s/it]C:\\Users\\Azka\\AppData\\Local\\Temp\\ipykernel_16088\\1789638589.py:15: FutureWarning: Pass y=[-0.03451538 -0.04067993 -0.03964233 ...  0.          0.\n",
      "  0.        ] as keyword args. From version 0.10 passing these as positional arguments will result in an error\n",
      "  ft1 = librosa.feature.mfcc(data, sr = SAMPLE_RATE, n_mfcc=40)\n",
      "C:\\Users\\Azka\\AppData\\Local\\Temp\\ipykernel_16088\\1789638589.py:17: FutureWarning: Pass y=[-0.03451538 -0.04067993 -0.03964233 ...  0.          0.\n",
      "  0.        ] as keyword args. From version 0.10 passing these as positional arguments will result in an error\n",
      "  ft3 = librosa.feature.spectral_rolloff(data)[0]\n",
      "C:\\Users\\Azka\\AppData\\Local\\Temp\\ipykernel_16088\\1789638589.py:18: FutureWarning: Pass y=[-0.03451538 -0.04067993 -0.03964233 ...  0.          0.\n",
      "  0.        ] as keyword args. From version 0.10 passing these as positional arguments will result in an error\n",
      "  ft4 = librosa.feature.spectral_centroid(data)[0]\n",
      "C:\\Users\\Azka\\AppData\\Local\\Temp\\ipykernel_16088\\1789638589.py:19: FutureWarning: Pass y=[-0.03451538 -0.04067993 -0.03964233 ...  0.          0.\n",
      "  0.        ] as keyword args. From version 0.10 passing these as positional arguments will result in an error\n",
      "  ft5 = librosa.feature.spectral_contrast(data)[0]\n",
      "C:\\Users\\Azka\\AppData\\Local\\Temp\\ipykernel_16088\\1789638589.py:20: FutureWarning: Pass y=[-0.03451538 -0.04067993 -0.03964233 ...  0.          0.\n",
      "  0.        ] as keyword args. From version 0.10 passing these as positional arguments will result in an error\n",
      "  ft6 = librosa.feature.spectral_bandwidth(data)[0]\n",
      " 10%|█         | 8/78 [00:15<01:47,  1.53s/it]C:\\Users\\Azka\\AppData\\Local\\Temp\\ipykernel_16088\\1789638589.py:15: FutureWarning: Pass y=[-2.3956299e-03 -1.7395020e-03 -2.0751953e-03 ...  0.0000000e+00\n",
      " -1.5258789e-05 -1.5258789e-05] as keyword args. From version 0.10 passing these as positional arguments will result in an error\n",
      "  ft1 = librosa.feature.mfcc(data, sr = SAMPLE_RATE, n_mfcc=40)\n",
      "C:\\Users\\Azka\\AppData\\Local\\Temp\\ipykernel_16088\\1789638589.py:17: FutureWarning: Pass y=[-2.3956299e-03 -1.7395020e-03 -2.0751953e-03 ...  0.0000000e+00\n",
      " -1.5258789e-05 -1.5258789e-05] as keyword args. From version 0.10 passing these as positional arguments will result in an error\n",
      "  ft3 = librosa.feature.spectral_rolloff(data)[0]\n",
      "C:\\Users\\Azka\\AppData\\Local\\Temp\\ipykernel_16088\\1789638589.py:18: FutureWarning: Pass y=[-2.3956299e-03 -1.7395020e-03 -2.0751953e-03 ...  0.0000000e+00\n",
      " -1.5258789e-05 -1.5258789e-05] as keyword args. From version 0.10 passing these as positional arguments will result in an error\n",
      "  ft4 = librosa.feature.spectral_centroid(data)[0]\n",
      "C:\\Users\\Azka\\AppData\\Local\\Temp\\ipykernel_16088\\1789638589.py:19: FutureWarning: Pass y=[-2.3956299e-03 -1.7395020e-03 -2.0751953e-03 ...  0.0000000e+00\n",
      " -1.5258789e-05 -1.5258789e-05] as keyword args. From version 0.10 passing these as positional arguments will result in an error\n",
      "  ft5 = librosa.feature.spectral_contrast(data)[0]\n",
      "C:\\Users\\Azka\\AppData\\Local\\Temp\\ipykernel_16088\\1789638589.py:20: FutureWarning: Pass y=[-2.3956299e-03 -1.7395020e-03 -2.0751953e-03 ...  0.0000000e+00\n",
      " -1.5258789e-05 -1.5258789e-05] as keyword args. From version 0.10 passing these as positional arguments will result in an error\n",
      "  ft6 = librosa.feature.spectral_bandwidth(data)[0]\n",
      " 12%|█▏        | 9/78 [00:16<01:37,  1.41s/it]C:\\Users\\Azka\\AppData\\Local\\Temp\\ipykernel_16088\\1789638589.py:15: FutureWarning: Pass y=[-3.6621094e-04 -5.1879883e-04 -6.1035156e-05 ... -8.3923340e-04\n",
      " -7.9345703e-04 -9.0026855e-04] as keyword args. From version 0.10 passing these as positional arguments will result in an error\n",
      "  ft1 = librosa.feature.mfcc(data, sr = SAMPLE_RATE, n_mfcc=40)\n",
      "C:\\Users\\Azka\\AppData\\Local\\Temp\\ipykernel_16088\\1789638589.py:17: FutureWarning: Pass y=[-3.6621094e-04 -5.1879883e-04 -6.1035156e-05 ... -8.3923340e-04\n",
      " -7.9345703e-04 -9.0026855e-04] as keyword args. From version 0.10 passing these as positional arguments will result in an error\n",
      "  ft3 = librosa.feature.spectral_rolloff(data)[0]\n",
      "C:\\Users\\Azka\\AppData\\Local\\Temp\\ipykernel_16088\\1789638589.py:18: FutureWarning: Pass y=[-3.6621094e-04 -5.1879883e-04 -6.1035156e-05 ... -8.3923340e-04\n",
      " -7.9345703e-04 -9.0026855e-04] as keyword args. From version 0.10 passing these as positional arguments will result in an error\n",
      "  ft4 = librosa.feature.spectral_centroid(data)[0]\n",
      "C:\\Users\\Azka\\AppData\\Local\\Temp\\ipykernel_16088\\1789638589.py:19: FutureWarning: Pass y=[-3.6621094e-04 -5.1879883e-04 -6.1035156e-05 ... -8.3923340e-04\n",
      " -7.9345703e-04 -9.0026855e-04] as keyword args. From version 0.10 passing these as positional arguments will result in an error\n",
      "  ft5 = librosa.feature.spectral_contrast(data)[0]\n",
      "C:\\Users\\Azka\\AppData\\Local\\Temp\\ipykernel_16088\\1789638589.py:20: FutureWarning: Pass y=[-3.6621094e-04 -5.1879883e-04 -6.1035156e-05 ... -8.3923340e-04\n",
      " -7.9345703e-04 -9.0026855e-04] as keyword args. From version 0.10 passing these as positional arguments will result in an error\n",
      "  ft6 = librosa.feature.spectral_bandwidth(data)[0]\n",
      " 14%|█▍        | 11/78 [00:26<04:06,  3.67s/it]C:\\Users\\Azka\\AppData\\Local\\Temp\\ipykernel_16088\\1789638589.py:15: FutureWarning: Pass y=[-0.01954651 -0.02159119 -0.0194397  ...  0.          0.\n",
      "  0.        ] as keyword args. From version 0.10 passing these as positional arguments will result in an error\n",
      "  ft1 = librosa.feature.mfcc(data, sr = SAMPLE_RATE, n_mfcc=40)\n",
      "C:\\Users\\Azka\\AppData\\Local\\Temp\\ipykernel_16088\\1789638589.py:17: FutureWarning: Pass y=[-0.01954651 -0.02159119 -0.0194397  ...  0.          0.\n",
      "  0.        ] as keyword args. From version 0.10 passing these as positional arguments will result in an error\n",
      "  ft3 = librosa.feature.spectral_rolloff(data)[0]\n",
      "C:\\Users\\Azka\\AppData\\Local\\Temp\\ipykernel_16088\\1789638589.py:18: FutureWarning: Pass y=[-0.01954651 -0.02159119 -0.0194397  ...  0.          0.\n",
      "  0.        ] as keyword args. From version 0.10 passing these as positional arguments will result in an error\n",
      "  ft4 = librosa.feature.spectral_centroid(data)[0]\n",
      "C:\\Users\\Azka\\AppData\\Local\\Temp\\ipykernel_16088\\1789638589.py:19: FutureWarning: Pass y=[-0.01954651 -0.02159119 -0.0194397  ...  0.          0.\n",
      "  0.        ] as keyword args. From version 0.10 passing these as positional arguments will result in an error\n",
      "  ft5 = librosa.feature.spectral_contrast(data)[0]\n",
      "C:\\Users\\Azka\\AppData\\Local\\Temp\\ipykernel_16088\\1789638589.py:20: FutureWarning: Pass y=[-0.01954651 -0.02159119 -0.0194397  ...  0.          0.\n",
      "  0.        ] as keyword args. From version 0.10 passing these as positional arguments will result in an error\n",
      "  ft6 = librosa.feature.spectral_bandwidth(data)[0]\n",
      " 21%|██        | 16/78 [00:44<03:45,  3.64s/it]C:\\Users\\Azka\\AppData\\Local\\Temp\\ipykernel_16088\\1789638589.py:15: FutureWarning: Pass y=[ 0.0000000e+00  0.0000000e+00 -1.5258789e-05 ...  1.5258789e-05\n",
      " -1.5258789e-05  0.0000000e+00] as keyword args. From version 0.10 passing these as positional arguments will result in an error\n",
      "  ft1 = librosa.feature.mfcc(data, sr = SAMPLE_RATE, n_mfcc=40)\n",
      "C:\\Users\\Azka\\AppData\\Local\\Temp\\ipykernel_16088\\1789638589.py:17: FutureWarning: Pass y=[ 0.0000000e+00  0.0000000e+00 -1.5258789e-05 ...  1.5258789e-05\n",
      " -1.5258789e-05  0.0000000e+00] as keyword args. From version 0.10 passing these as positional arguments will result in an error\n",
      "  ft3 = librosa.feature.spectral_rolloff(data)[0]\n",
      "C:\\Users\\Azka\\AppData\\Local\\Temp\\ipykernel_16088\\1789638589.py:18: FutureWarning: Pass y=[ 0.0000000e+00  0.0000000e+00 -1.5258789e-05 ...  1.5258789e-05\n",
      " -1.5258789e-05  0.0000000e+00] as keyword args. From version 0.10 passing these as positional arguments will result in an error\n",
      "  ft4 = librosa.feature.spectral_centroid(data)[0]\n",
      "C:\\Users\\Azka\\AppData\\Local\\Temp\\ipykernel_16088\\1789638589.py:19: FutureWarning: Pass y=[ 0.0000000e+00  0.0000000e+00 -1.5258789e-05 ...  1.5258789e-05\n",
      " -1.5258789e-05  0.0000000e+00] as keyword args. From version 0.10 passing these as positional arguments will result in an error\n",
      "  ft5 = librosa.feature.spectral_contrast(data)[0]\n",
      "C:\\Users\\Azka\\AppData\\Local\\Temp\\ipykernel_16088\\1789638589.py:20: FutureWarning: Pass y=[ 0.0000000e+00  0.0000000e+00 -1.5258789e-05 ...  1.5258789e-05\n",
      " -1.5258789e-05  0.0000000e+00] as keyword args. From version 0.10 passing these as positional arguments will result in an error\n",
      "  ft6 = librosa.feature.spectral_bandwidth(data)[0]\n",
      " 22%|██▏       | 17/78 [00:46<03:11,  3.13s/it]C:\\Users\\Azka\\AppData\\Local\\Temp\\ipykernel_16088\\1789638589.py:15: FutureWarning: Pass y=[-1.5258789e-05  4.5776367e-05 -9.1552734e-05 ...  3.0517578e-05\n",
      " -1.5258789e-05  1.5258789e-05] as keyword args. From version 0.10 passing these as positional arguments will result in an error\n",
      "  ft1 = librosa.feature.mfcc(data, sr = SAMPLE_RATE, n_mfcc=40)\n",
      "C:\\Users\\Azka\\AppData\\Local\\Temp\\ipykernel_16088\\1789638589.py:17: FutureWarning: Pass y=[-1.5258789e-05  4.5776367e-05 -9.1552734e-05 ...  3.0517578e-05\n",
      " -1.5258789e-05  1.5258789e-05] as keyword args. From version 0.10 passing these as positional arguments will result in an error\n",
      "  ft3 = librosa.feature.spectral_rolloff(data)[0]\n",
      "C:\\Users\\Azka\\AppData\\Local\\Temp\\ipykernel_16088\\1789638589.py:18: FutureWarning: Pass y=[-1.5258789e-05  4.5776367e-05 -9.1552734e-05 ...  3.0517578e-05\n",
      " -1.5258789e-05  1.5258789e-05] as keyword args. From version 0.10 passing these as positional arguments will result in an error\n",
      "  ft4 = librosa.feature.spectral_centroid(data)[0]\n",
      "C:\\Users\\Azka\\AppData\\Local\\Temp\\ipykernel_16088\\1789638589.py:19: FutureWarning: Pass y=[-1.5258789e-05  4.5776367e-05 -9.1552734e-05 ...  3.0517578e-05\n",
      " -1.5258789e-05  1.5258789e-05] as keyword args. From version 0.10 passing these as positional arguments will result in an error\n",
      "  ft5 = librosa.feature.spectral_contrast(data)[0]\n",
      "C:\\Users\\Azka\\AppData\\Local\\Temp\\ipykernel_16088\\1789638589.py:20: FutureWarning: Pass y=[-1.5258789e-05  4.5776367e-05 -9.1552734e-05 ...  3.0517578e-05\n",
      " -1.5258789e-05  1.5258789e-05] as keyword args. From version 0.10 passing these as positional arguments will result in an error\n",
      "  ft6 = librosa.feature.spectral_bandwidth(data)[0]\n",
      " 26%|██▌       | 20/78 [01:01<04:37,  4.78s/it]C:\\Users\\Azka\\AppData\\Local\\Temp\\ipykernel_16088\\1789638589.py:15: FutureWarning: Pass y=[-9.1552734e-05 -1.5258789e-04 -2.1362305e-04 ...  5.3253174e-03\n",
      "  5.3405762e-03  5.4473877e-03] as keyword args. From version 0.10 passing these as positional arguments will result in an error\n",
      "  ft1 = librosa.feature.mfcc(data, sr = SAMPLE_RATE, n_mfcc=40)\n",
      "C:\\Users\\Azka\\AppData\\Local\\Temp\\ipykernel_16088\\1789638589.py:17: FutureWarning: Pass y=[-9.1552734e-05 -1.5258789e-04 -2.1362305e-04 ...  5.3253174e-03\n",
      "  5.3405762e-03  5.4473877e-03] as keyword args. From version 0.10 passing these as positional arguments will result in an error\n",
      "  ft3 = librosa.feature.spectral_rolloff(data)[0]\n",
      "C:\\Users\\Azka\\AppData\\Local\\Temp\\ipykernel_16088\\1789638589.py:18: FutureWarning: Pass y=[-9.1552734e-05 -1.5258789e-04 -2.1362305e-04 ...  5.3253174e-03\n",
      "  5.3405762e-03  5.4473877e-03] as keyword args. From version 0.10 passing these as positional arguments will result in an error\n",
      "  ft4 = librosa.feature.spectral_centroid(data)[0]\n",
      "C:\\Users\\Azka\\AppData\\Local\\Temp\\ipykernel_16088\\1789638589.py:19: FutureWarning: Pass y=[-9.1552734e-05 -1.5258789e-04 -2.1362305e-04 ...  5.3253174e-03\n",
      "  5.3405762e-03  5.4473877e-03] as keyword args. From version 0.10 passing these as positional arguments will result in an error\n",
      "  ft5 = librosa.feature.spectral_contrast(data)[0]\n",
      "C:\\Users\\Azka\\AppData\\Local\\Temp\\ipykernel_16088\\1789638589.py:20: FutureWarning: Pass y=[-9.1552734e-05 -1.5258789e-04 -2.1362305e-04 ...  5.3253174e-03\n",
      "  5.3405762e-03  5.4473877e-03] as keyword args. From version 0.10 passing these as positional arguments will result in an error\n",
      "  ft6 = librosa.feature.spectral_bandwidth(data)[0]\n",
      " 28%|██▊       | 22/78 [01:13<04:53,  5.25s/it]C:\\Users\\Azka\\AppData\\Local\\Temp\\ipykernel_16088\\1789638589.py:15: FutureWarning: Pass y=[0.0000000e+00 1.5258789e-05 0.0000000e+00 ... 0.0000000e+00 0.0000000e+00\n",
      " 0.0000000e+00] as keyword args. From version 0.10 passing these as positional arguments will result in an error\n",
      "  ft1 = librosa.feature.mfcc(data, sr = SAMPLE_RATE, n_mfcc=40)\n",
      "C:\\Users\\Azka\\AppData\\Local\\Temp\\ipykernel_16088\\1789638589.py:17: FutureWarning: Pass y=[0.0000000e+00 1.5258789e-05 0.0000000e+00 ... 0.0000000e+00 0.0000000e+00\n",
      " 0.0000000e+00] as keyword args. From version 0.10 passing these as positional arguments will result in an error\n",
      "  ft3 = librosa.feature.spectral_rolloff(data)[0]\n",
      "C:\\Users\\Azka\\AppData\\Local\\Temp\\ipykernel_16088\\1789638589.py:18: FutureWarning: Pass y=[0.0000000e+00 1.5258789e-05 0.0000000e+00 ... 0.0000000e+00 0.0000000e+00\n",
      " 0.0000000e+00] as keyword args. From version 0.10 passing these as positional arguments will result in an error\n",
      "  ft4 = librosa.feature.spectral_centroid(data)[0]\n",
      "C:\\Users\\Azka\\AppData\\Local\\Temp\\ipykernel_16088\\1789638589.py:19: FutureWarning: Pass y=[0.0000000e+00 1.5258789e-05 0.0000000e+00 ... 0.0000000e+00 0.0000000e+00\n",
      " 0.0000000e+00] as keyword args. From version 0.10 passing these as positional arguments will result in an error\n",
      "  ft5 = librosa.feature.spectral_contrast(data)[0]\n",
      "C:\\Users\\Azka\\AppData\\Local\\Temp\\ipykernel_16088\\1789638589.py:20: FutureWarning: Pass y=[0.0000000e+00 1.5258789e-05 0.0000000e+00 ... 0.0000000e+00 0.0000000e+00\n",
      " 0.0000000e+00] as keyword args. From version 0.10 passing these as positional arguments will result in an error\n",
      "  ft6 = librosa.feature.spectral_bandwidth(data)[0]\n",
      " 31%|███       | 24/78 [01:16<03:00,  3.34s/it]C:\\Users\\Azka\\AppData\\Local\\Temp\\ipykernel_16088\\1789638589.py:15: FutureWarning: Pass y=[-0.00239563 -0.0017395  -0.0020752  ...  0.          0.\n",
      "  0.        ] as keyword args. From version 0.10 passing these as positional arguments will result in an error\n",
      "  ft1 = librosa.feature.mfcc(data, sr = SAMPLE_RATE, n_mfcc=40)\n",
      "C:\\Users\\Azka\\AppData\\Local\\Temp\\ipykernel_16088\\1789638589.py:17: FutureWarning: Pass y=[-0.00239563 -0.0017395  -0.0020752  ...  0.          0.\n",
      "  0.        ] as keyword args. From version 0.10 passing these as positional arguments will result in an error\n",
      "  ft3 = librosa.feature.spectral_rolloff(data)[0]\n",
      "C:\\Users\\Azka\\AppData\\Local\\Temp\\ipykernel_16088\\1789638589.py:18: FutureWarning: Pass y=[-0.00239563 -0.0017395  -0.0020752  ...  0.          0.\n",
      "  0.        ] as keyword args. From version 0.10 passing these as positional arguments will result in an error\n",
      "  ft4 = librosa.feature.spectral_centroid(data)[0]\n",
      "C:\\Users\\Azka\\AppData\\Local\\Temp\\ipykernel_16088\\1789638589.py:19: FutureWarning: Pass y=[-0.00239563 -0.0017395  -0.0020752  ...  0.          0.\n",
      "  0.        ] as keyword args. From version 0.10 passing these as positional arguments will result in an error\n",
      "  ft5 = librosa.feature.spectral_contrast(data)[0]\n",
      "C:\\Users\\Azka\\AppData\\Local\\Temp\\ipykernel_16088\\1789638589.py:20: FutureWarning: Pass y=[-0.00239563 -0.0017395  -0.0020752  ...  0.          0.\n",
      "  0.        ] as keyword args. From version 0.10 passing these as positional arguments will result in an error\n",
      "  ft6 = librosa.feature.spectral_bandwidth(data)[0]\n",
      " 58%|█████▊    | 45/78 [02:25<02:42,  4.93s/it]C:\\Users\\Azka\\AppData\\Local\\Temp\\ipykernel_16088\\1789638589.py:15: FutureWarning: Pass y=[ 0.05378723  0.0750885   0.07992554 ... -0.03672791 -0.04145813\n",
      " -0.02549744] as keyword args. From version 0.10 passing these as positional arguments will result in an error\n",
      "  ft1 = librosa.feature.mfcc(data, sr = SAMPLE_RATE, n_mfcc=40)\n",
      "C:\\Users\\Azka\\AppData\\Local\\Temp\\ipykernel_16088\\1789638589.py:17: FutureWarning: Pass y=[ 0.05378723  0.0750885   0.07992554 ... -0.03672791 -0.04145813\n",
      " -0.02549744] as keyword args. From version 0.10 passing these as positional arguments will result in an error\n",
      "  ft3 = librosa.feature.spectral_rolloff(data)[0]\n",
      "C:\\Users\\Azka\\AppData\\Local\\Temp\\ipykernel_16088\\1789638589.py:18: FutureWarning: Pass y=[ 0.05378723  0.0750885   0.07992554 ... -0.03672791 -0.04145813\n",
      " -0.02549744] as keyword args. From version 0.10 passing these as positional arguments will result in an error\n",
      "  ft4 = librosa.feature.spectral_centroid(data)[0]\n",
      "C:\\Users\\Azka\\AppData\\Local\\Temp\\ipykernel_16088\\1789638589.py:19: FutureWarning: Pass y=[ 0.05378723  0.0750885   0.07992554 ... -0.03672791 -0.04145813\n",
      " -0.02549744] as keyword args. From version 0.10 passing these as positional arguments will result in an error\n",
      "  ft5 = librosa.feature.spectral_contrast(data)[0]\n",
      "C:\\Users\\Azka\\AppData\\Local\\Temp\\ipykernel_16088\\1789638589.py:20: FutureWarning: Pass y=[ 0.05378723  0.0750885   0.07992554 ... -0.03672791 -0.04145813\n",
      " -0.02549744] as keyword args. From version 0.10 passing these as positional arguments will result in an error\n",
      "  ft6 = librosa.feature.spectral_bandwidth(data)[0]\n",
      " 60%|██████    | 47/78 [02:31<02:04,  4.03s/it]C:\\Users\\Azka\\AppData\\Local\\Temp\\ipykernel_16088\\1789638589.py:15: FutureWarning: Pass y=[-0.19151306 -0.1854248  -0.16101074 ... -0.17272949 -0.18132019\n",
      " -0.18087769] as keyword args. From version 0.10 passing these as positional arguments will result in an error\n",
      "  ft1 = librosa.feature.mfcc(data, sr = SAMPLE_RATE, n_mfcc=40)\n",
      "C:\\Users\\Azka\\AppData\\Local\\Temp\\ipykernel_16088\\1789638589.py:17: FutureWarning: Pass y=[-0.19151306 -0.1854248  -0.16101074 ... -0.17272949 -0.18132019\n",
      " -0.18087769] as keyword args. From version 0.10 passing these as positional arguments will result in an error\n",
      "  ft3 = librosa.feature.spectral_rolloff(data)[0]\n",
      "C:\\Users\\Azka\\AppData\\Local\\Temp\\ipykernel_16088\\1789638589.py:18: FutureWarning: Pass y=[-0.19151306 -0.1854248  -0.16101074 ... -0.17272949 -0.18132019\n",
      " -0.18087769] as keyword args. From version 0.10 passing these as positional arguments will result in an error\n",
      "  ft4 = librosa.feature.spectral_centroid(data)[0]\n",
      "C:\\Users\\Azka\\AppData\\Local\\Temp\\ipykernel_16088\\1789638589.py:19: FutureWarning: Pass y=[-0.19151306 -0.1854248  -0.16101074 ... -0.17272949 -0.18132019\n",
      " -0.18087769] as keyword args. From version 0.10 passing these as positional arguments will result in an error\n",
      "  ft5 = librosa.feature.spectral_contrast(data)[0]\n",
      "C:\\Users\\Azka\\AppData\\Local\\Temp\\ipykernel_16088\\1789638589.py:20: FutureWarning: Pass y=[-0.19151306 -0.1854248  -0.16101074 ... -0.17272949 -0.18132019\n",
      " -0.18087769] as keyword args. From version 0.10 passing these as positional arguments will result in an error\n",
      "  ft6 = librosa.feature.spectral_bandwidth(data)[0]\n",
      " 62%|██████▏   | 48/78 [02:35<02:07,  4.24s/it]C:\\Users\\Azka\\AppData\\Local\\Temp\\ipykernel_16088\\1789638589.py:15: FutureWarning: Pass y=[ 0.00456238  0.00491333  0.00491333 ... -0.00132751 -0.00209045\n",
      " -0.00253296] as keyword args. From version 0.10 passing these as positional arguments will result in an error\n",
      "  ft1 = librosa.feature.mfcc(data, sr = SAMPLE_RATE, n_mfcc=40)\n",
      "C:\\Users\\Azka\\AppData\\Local\\Temp\\ipykernel_16088\\1789638589.py:17: FutureWarning: Pass y=[ 0.00456238  0.00491333  0.00491333 ... -0.00132751 -0.00209045\n",
      " -0.00253296] as keyword args. From version 0.10 passing these as positional arguments will result in an error\n",
      "  ft3 = librosa.feature.spectral_rolloff(data)[0]\n",
      "C:\\Users\\Azka\\AppData\\Local\\Temp\\ipykernel_16088\\1789638589.py:18: FutureWarning: Pass y=[ 0.00456238  0.00491333  0.00491333 ... -0.00132751 -0.00209045\n",
      " -0.00253296] as keyword args. From version 0.10 passing these as positional arguments will result in an error\n",
      "  ft4 = librosa.feature.spectral_centroid(data)[0]\n",
      "C:\\Users\\Azka\\AppData\\Local\\Temp\\ipykernel_16088\\1789638589.py:19: FutureWarning: Pass y=[ 0.00456238  0.00491333  0.00491333 ... -0.00132751 -0.00209045\n",
      " -0.00253296] as keyword args. From version 0.10 passing these as positional arguments will result in an error\n",
      "  ft5 = librosa.feature.spectral_contrast(data)[0]\n",
      "C:\\Users\\Azka\\AppData\\Local\\Temp\\ipykernel_16088\\1789638589.py:20: FutureWarning: Pass y=[ 0.00456238  0.00491333  0.00491333 ... -0.00132751 -0.00209045\n",
      " -0.00253296] as keyword args. From version 0.10 passing these as positional arguments will result in an error\n",
      "  ft6 = librosa.feature.spectral_bandwidth(data)[0]\n",
      " 63%|██████▎   | 49/78 [02:37<01:39,  3.44s/it]C:\\Users\\Azka\\AppData\\Local\\Temp\\ipykernel_16088\\1789638589.py:15: FutureWarning: Pass y=[ 0.0000000e+00  1.5258789e-05 -1.5258789e-05 ...  0.0000000e+00\n",
      "  0.0000000e+00  0.0000000e+00] as keyword args. From version 0.10 passing these as positional arguments will result in an error\n",
      "  ft1 = librosa.feature.mfcc(data, sr = SAMPLE_RATE, n_mfcc=40)\n",
      "C:\\Users\\Azka\\AppData\\Local\\Temp\\ipykernel_16088\\1789638589.py:17: FutureWarning: Pass y=[ 0.0000000e+00  1.5258789e-05 -1.5258789e-05 ...  0.0000000e+00\n",
      "  0.0000000e+00  0.0000000e+00] as keyword args. From version 0.10 passing these as positional arguments will result in an error\n",
      "  ft3 = librosa.feature.spectral_rolloff(data)[0]\n",
      "C:\\Users\\Azka\\AppData\\Local\\Temp\\ipykernel_16088\\1789638589.py:18: FutureWarning: Pass y=[ 0.0000000e+00  1.5258789e-05 -1.5258789e-05 ...  0.0000000e+00\n",
      "  0.0000000e+00  0.0000000e+00] as keyword args. From version 0.10 passing these as positional arguments will result in an error\n",
      "  ft4 = librosa.feature.spectral_centroid(data)[0]\n",
      "C:\\Users\\Azka\\AppData\\Local\\Temp\\ipykernel_16088\\1789638589.py:19: FutureWarning: Pass y=[ 0.0000000e+00  1.5258789e-05 -1.5258789e-05 ...  0.0000000e+00\n",
      "  0.0000000e+00  0.0000000e+00] as keyword args. From version 0.10 passing these as positional arguments will result in an error\n",
      "  ft5 = librosa.feature.spectral_contrast(data)[0]\n",
      "C:\\Users\\Azka\\AppData\\Local\\Temp\\ipykernel_16088\\1789638589.py:20: FutureWarning: Pass y=[ 0.0000000e+00  1.5258789e-05 -1.5258789e-05 ...  0.0000000e+00\n",
      "  0.0000000e+00  0.0000000e+00] as keyword args. From version 0.10 passing these as positional arguments will result in an error\n",
      "  ft6 = librosa.feature.spectral_bandwidth(data)[0]\n",
      " 65%|██████▌   | 51/78 [02:40<01:11,  2.65s/it]C:\\Users\\Azka\\AppData\\Local\\Temp\\ipykernel_16088\\1789638589.py:15: FutureWarning: Pass y=[ 0.00248718  0.00506592 -0.03240967 ...  0.          0.\n",
      "  0.        ] as keyword args. From version 0.10 passing these as positional arguments will result in an error\n",
      "  ft1 = librosa.feature.mfcc(data, sr = SAMPLE_RATE, n_mfcc=40)\n",
      "C:\\Users\\Azka\\AppData\\Local\\Temp\\ipykernel_16088\\1789638589.py:17: FutureWarning: Pass y=[ 0.00248718  0.00506592 -0.03240967 ...  0.          0.\n",
      "  0.        ] as keyword args. From version 0.10 passing these as positional arguments will result in an error\n",
      "  ft3 = librosa.feature.spectral_rolloff(data)[0]\n",
      "C:\\Users\\Azka\\AppData\\Local\\Temp\\ipykernel_16088\\1789638589.py:18: FutureWarning: Pass y=[ 0.00248718  0.00506592 -0.03240967 ...  0.          0.\n",
      "  0.        ] as keyword args. From version 0.10 passing these as positional arguments will result in an error\n",
      "  ft4 = librosa.feature.spectral_centroid(data)[0]\n",
      "C:\\Users\\Azka\\AppData\\Local\\Temp\\ipykernel_16088\\1789638589.py:19: FutureWarning: Pass y=[ 0.00248718  0.00506592 -0.03240967 ...  0.          0.\n",
      "  0.        ] as keyword args. From version 0.10 passing these as positional arguments will result in an error\n",
      "  ft5 = librosa.feature.spectral_contrast(data)[0]\n",
      "C:\\Users\\Azka\\AppData\\Local\\Temp\\ipykernel_16088\\1789638589.py:20: FutureWarning: Pass y=[ 0.00248718  0.00506592 -0.03240967 ...  0.          0.\n",
      "  0.        ] as keyword args. From version 0.10 passing these as positional arguments will result in an error\n",
      "  ft6 = librosa.feature.spectral_bandwidth(data)[0]\n",
      "100%|██████████| 78/78 [04:30<00:00,  3.47s/it]"
     ]
    },
    {
     "name": "stdout",
     "output_type": "stream",
     "text": [
      "done loading train mfcc\n"
     ]
    },
    {
     "name": "stderr",
     "output_type": "stream",
     "text": [
      "\n"
     ]
    }
   ],
   "source": [
    "# Prepare data\n",
    "\n",
    "train_data = pd.DataFrame()\n",
    "train_data['fname'] = train['fname']\n",
    "# test_data = pd.DataFrame()\n",
    "# test_data['fname'] = audio_test_files\n",
    "\n",
    "train_data = train_data['fname'].progress_apply(get_mfcc, path='D:/vscode/train/')\n",
    "print('done loading train mfcc')\n",
    "# test_data = test_data['fname'].progress_apply(get_mfcc, path='/content/drive/MyDrive/Thesis dataset/test/')\n",
    "# print('done loading test mfcc')\n",
    "\n",
    "train_data['fname'] = train['fname']\n",
    "# test_data['fname'] = audio_test_files\n",
    "\n",
    "train_data['label'] = train['label']\n",
    "# test_data['label'] = np.zeros((len(audio_test_files)))"
   ]
  },
  {
   "cell_type": "code",
   "execution_count": 12,
   "metadata": {},
   "outputs": [
    {
     "data": {
      "text/html": [
       "<div>\n",
       "<style scoped>\n",
       "    .dataframe tbody tr th:only-of-type {\n",
       "        vertical-align: middle;\n",
       "    }\n",
       "\n",
       "    .dataframe tbody tr th {\n",
       "        vertical-align: top;\n",
       "    }\n",
       "\n",
       "    .dataframe thead th {\n",
       "        text-align: right;\n",
       "    }\n",
       "</style>\n",
       "<table border=\"1\" class=\"dataframe\">\n",
       "  <thead>\n",
       "    <tr style=\"text-align: right;\">\n",
       "      <th></th>\n",
       "      <th>0</th>\n",
       "      <th>1</th>\n",
       "      <th>2</th>\n",
       "      <th>3</th>\n",
       "      <th>4</th>\n",
       "      <th>5</th>\n",
       "      <th>6</th>\n",
       "      <th>7</th>\n",
       "      <th>8</th>\n",
       "      <th>9</th>\n",
       "      <th>...</th>\n",
       "      <th>262</th>\n",
       "      <th>263</th>\n",
       "      <th>264</th>\n",
       "      <th>265</th>\n",
       "      <th>266</th>\n",
       "      <th>267</th>\n",
       "      <th>268</th>\n",
       "      <th>269</th>\n",
       "      <th>fname</th>\n",
       "      <th>label</th>\n",
       "    </tr>\n",
       "  </thead>\n",
       "  <tbody>\n",
       "    <tr>\n",
       "      <th>73</th>\n",
       "      <td>-144.978256</td>\n",
       "      <td>149.947052</td>\n",
       "      <td>-34.258343</td>\n",
       "      <td>13.824046</td>\n",
       "      <td>-11.346879</td>\n",
       "      <td>9.321922</td>\n",
       "      <td>-11.153991</td>\n",
       "      <td>4.465878</td>\n",
       "      <td>-7.679976</td>\n",
       "      <td>0.958845</td>\n",
       "      <td>...</td>\n",
       "      <td>12.489848</td>\n",
       "      <td>4.150931</td>\n",
       "      <td>1786.635371</td>\n",
       "      <td>71.409885</td>\n",
       "      <td>-0.194809</td>\n",
       "      <td>2371.814372</td>\n",
       "      <td>1789.251389</td>\n",
       "      <td>2371.814372</td>\n",
       "      <td>police-short-whistle_118.wav</td>\n",
       "      <td>police-short-whistle</td>\n",
       "    </tr>\n",
       "    <tr>\n",
       "      <th>74</th>\n",
       "      <td>-296.551544</td>\n",
       "      <td>8.070956</td>\n",
       "      <td>-6.097872</td>\n",
       "      <td>18.726402</td>\n",
       "      <td>-13.055694</td>\n",
       "      <td>13.968189</td>\n",
       "      <td>-5.726114</td>\n",
       "      <td>11.090051</td>\n",
       "      <td>-3.264198</td>\n",
       "      <td>8.445715</td>\n",
       "      <td>...</td>\n",
       "      <td>13.383461</td>\n",
       "      <td>4.339640</td>\n",
       "      <td>2531.762857</td>\n",
       "      <td>201.156264</td>\n",
       "      <td>-0.052707</td>\n",
       "      <td>3415.376873</td>\n",
       "      <td>2526.689316</td>\n",
       "      <td>3415.376873</td>\n",
       "      <td>police-short-whistle_119.wav</td>\n",
       "      <td>police-short-whistle</td>\n",
       "    </tr>\n",
       "    <tr>\n",
       "      <th>75</th>\n",
       "      <td>-380.786926</td>\n",
       "      <td>-26.057056</td>\n",
       "      <td>-23.584499</td>\n",
       "      <td>10.628330</td>\n",
       "      <td>-10.751615</td>\n",
       "      <td>1.527869</td>\n",
       "      <td>-9.378188</td>\n",
       "      <td>0.891587</td>\n",
       "      <td>-6.987409</td>\n",
       "      <td>1.825466</td>\n",
       "      <td>...</td>\n",
       "      <td>14.041843</td>\n",
       "      <td>5.022371</td>\n",
       "      <td>2624.135597</td>\n",
       "      <td>384.878387</td>\n",
       "      <td>0.358425</td>\n",
       "      <td>3465.885135</td>\n",
       "      <td>2451.531044</td>\n",
       "      <td>3465.885135</td>\n",
       "      <td>police-short-whistle_120.wav</td>\n",
       "      <td>police-short-whistle</td>\n",
       "    </tr>\n",
       "    <tr>\n",
       "      <th>76</th>\n",
       "      <td>-384.575470</td>\n",
       "      <td>174.646591</td>\n",
       "      <td>33.699718</td>\n",
       "      <td>-15.505001</td>\n",
       "      <td>6.143358</td>\n",
       "      <td>16.201485</td>\n",
       "      <td>6.523266</td>\n",
       "      <td>3.074730</td>\n",
       "      <td>4.569120</td>\n",
       "      <td>2.742083</td>\n",
       "      <td>...</td>\n",
       "      <td>20.290531</td>\n",
       "      <td>3.866270</td>\n",
       "      <td>1069.383921</td>\n",
       "      <td>84.486988</td>\n",
       "      <td>-1.341023</td>\n",
       "      <td>2432.344565</td>\n",
       "      <td>1067.381857</td>\n",
       "      <td>2432.344565</td>\n",
       "      <td>police-short-whistle_121.wav</td>\n",
       "      <td>police-short-whistle</td>\n",
       "    </tr>\n",
       "    <tr>\n",
       "      <th>77</th>\n",
       "      <td>-402.230621</td>\n",
       "      <td>1.558649</td>\n",
       "      <td>-23.404167</td>\n",
       "      <td>-1.017949</td>\n",
       "      <td>4.305564</td>\n",
       "      <td>15.438205</td>\n",
       "      <td>2.328336</td>\n",
       "      <td>-4.239151</td>\n",
       "      <td>1.856259</td>\n",
       "      <td>7.074194</td>\n",
       "      <td>...</td>\n",
       "      <td>32.866898</td>\n",
       "      <td>3.370490</td>\n",
       "      <td>3620.695487</td>\n",
       "      <td>1026.157923</td>\n",
       "      <td>-0.188425</td>\n",
       "      <td>4687.670724</td>\n",
       "      <td>3968.488705</td>\n",
       "      <td>4687.670724</td>\n",
       "      <td>police-short-whistle_122.wav</td>\n",
       "      <td>police-short-whistle</td>\n",
       "    </tr>\n",
       "  </tbody>\n",
       "</table>\n",
       "<p>5 rows × 272 columns</p>\n",
       "</div>"
      ],
      "text/plain": [
       "             0           1          2          3          4          5  \\\n",
       "73 -144.978256  149.947052 -34.258343  13.824046 -11.346879   9.321922   \n",
       "74 -296.551544    8.070956  -6.097872  18.726402 -13.055694  13.968189   \n",
       "75 -380.786926  -26.057056 -23.584499  10.628330 -10.751615   1.527869   \n",
       "76 -384.575470  174.646591  33.699718 -15.505001   6.143358  16.201485   \n",
       "77 -402.230621    1.558649 -23.404167  -1.017949   4.305564  15.438205   \n",
       "\n",
       "            6          7         8         9  ...        262       263  \\\n",
       "73 -11.153991   4.465878 -7.679976  0.958845  ...  12.489848  4.150931   \n",
       "74  -5.726114  11.090051 -3.264198  8.445715  ...  13.383461  4.339640   \n",
       "75  -9.378188   0.891587 -6.987409  1.825466  ...  14.041843  5.022371   \n",
       "76   6.523266   3.074730  4.569120  2.742083  ...  20.290531  3.866270   \n",
       "77   2.328336  -4.239151  1.856259  7.074194  ...  32.866898  3.370490   \n",
       "\n",
       "            264          265       266          267          268          269  \\\n",
       "73  1786.635371    71.409885 -0.194809  2371.814372  1789.251389  2371.814372   \n",
       "74  2531.762857   201.156264 -0.052707  3415.376873  2526.689316  3415.376873   \n",
       "75  2624.135597   384.878387  0.358425  3465.885135  2451.531044  3465.885135   \n",
       "76  1069.383921    84.486988 -1.341023  2432.344565  1067.381857  2432.344565   \n",
       "77  3620.695487  1026.157923 -0.188425  4687.670724  3968.488705  4687.670724   \n",
       "\n",
       "                           fname                 label  \n",
       "73  police-short-whistle_118.wav  police-short-whistle  \n",
       "74  police-short-whistle_119.wav  police-short-whistle  \n",
       "75  police-short-whistle_120.wav  police-short-whistle  \n",
       "76  police-short-whistle_121.wav  police-short-whistle  \n",
       "77  police-short-whistle_122.wav  police-short-whistle  \n",
       "\n",
       "[5 rows x 272 columns]"
      ]
     },
     "execution_count": 12,
     "metadata": {},
     "output_type": "execute_result"
    }
   ],
   "source": [
    "train_data.tail()"
   ]
  },
  {
   "cell_type": "code",
   "execution_count": 13,
   "metadata": {},
   "outputs": [],
   "source": [
    "# Functions from Random Foresth using MFCC ttps://www.kaggle.com/amlanpraharaj/random-forest-using-mfcc-features\n",
    "# Construct features set\n",
    "X = train_data.drop(['label', 'fname'], axis=1)\n",
    "feature_names = list(X.columns)\n",
    "X = X.values\n",
    "labels = np.sort(np.unique(train_data.label.values))\n",
    "num_class = len(labels)\n",
    "c2i = {}\n",
    "i2c = {}\n",
    "for i, c in enumerate(labels):\n",
    "    c2i[c] = i\n",
    "    i2c[i] = c\n",
    "y = np.array([c2i[x] for x in train_data.label.values])"
   ]
  },
  {
   "cell_type": "code",
   "execution_count": 14,
   "metadata": {},
   "outputs": [
    {
     "name": "stdout",
     "output_type": "stream",
     "text": [
      "270\n"
     ]
    }
   ],
   "source": [
    "print(X.shape[1])\n",
    "# print(X_test.shape)"
   ]
  },
  {
   "cell_type": "code",
   "execution_count": 15,
   "metadata": {},
   "outputs": [],
   "source": [
    "# Apply scaling for PCA\n",
    "scaler = StandardScaler()\n",
    "X_scaled = scaler.fit_transform(X)\n",
    "# X_test_scaled = scaler.transform(X_test)"
   ]
  },
  {
   "cell_type": "code",
   "execution_count": 16,
   "metadata": {},
   "outputs": [
    {
     "name": "stdout",
     "output_type": "stream",
     "text": [
      "0.9997921695740001\n"
     ]
    }
   ],
   "source": [
    "# Apply PCA for dimension reduction\n",
    "pca = PCA(n_components=70).fit(X_scaled)\n",
    "X_pca = pca.transform(X_scaled)\n",
    "# X_test_pca = pca.transform(X_test_scaled)\n",
    "\n",
    "print(sum(pca.explained_variance_ratio_)) "
   ]
  },
  {
   "cell_type": "code",
   "execution_count": null,
   "metadata": {},
   "outputs": [],
   "source": []
  },
  {
   "cell_type": "code",
   "execution_count": 17,
   "metadata": {},
   "outputs": [
    {
     "name": "stdout",
     "output_type": "stream",
     "text": [
      "0.125\n"
     ]
    }
   ],
   "source": [
    "# Fit an SVM model\n",
    "# X_train, X_val, y_train, y_val = train_test_split(X_pca, y, test_size = 0.2, random_state = 42, shuffle = True)\n",
    "X_train, X_test, y_train, y_test = train_test_split(X_pca,y, test_size=0.2, random_state=42,shuffle = True)\n",
    "\n",
    "clf = SVC(kernel = 'rbf', probability=True)\n",
    "\n",
    "clf.fit(X_train, y_train)\n",
    "\n",
    "# print(accuracy_score(clf.predict(X_val), y_val))\n",
    "print(accuracy_score(clf.predict(X_test), y_test))"
   ]
  },
  {
   "cell_type": "code",
   "execution_count": 18,
   "metadata": {},
   "outputs": [
    {
     "name": "stdout",
     "output_type": "stream",
     "text": [
      "0.3238095238095238\n",
      "{'C': 10, 'gamma': 0.001}\n",
      "SVC(C=10, gamma=0.001)\n"
     ]
    }
   ],
   "source": [
    "# Define the paramter grid for C from 0.001 to 10, gamma from 0.001 to 10\n",
    "C_grid = [0.001, 0.01, 0.1, 1, 10]\n",
    "gamma_grid = [0.001, 0.01, 0.1, 1, 10]\n",
    "param_grid = {'C': C_grid, 'gamma' : gamma_grid}\n",
    "\n",
    "grid = GridSearchCV(SVC(kernel='rbf'), param_grid, cv = 3, scoring = \"accuracy\")\n",
    "grid.fit(X_train, y_train)\n",
    "\n",
    "# Find the best model\n",
    "print(grid.best_score_)\n",
    "\n",
    "print(grid.best_params_)\n",
    "\n",
    "print(grid.best_estimator_)"
   ]
  },
  {
   "cell_type": "code",
   "execution_count": 19,
   "metadata": {},
   "outputs": [
    {
     "name": "stdout",
     "output_type": "stream",
     "text": [
      "25.0\n"
     ]
    }
   ],
   "source": [
    "# Optimal model\n",
    "clf1 = SVC(kernel = 'rbf', C = 4, gamma = 0.001, probability=True)\n",
    "\n",
    "clf1.fit(X_train, y_train)\n",
    "print(accuracy_score(clf1.predict(X_test), y_test)*100.0)"
   ]
  },
  {
   "cell_type": "code",
   "execution_count": 20,
   "metadata": {},
   "outputs": [
    {
     "name": "stdout",
     "output_type": "stream",
     "text": [
      "Accuracy\n",
      "25.0\n",
      "Validation\n"
     ]
    }
   ],
   "source": [
    "from sklearn.mixture import GaussianMixture\n",
    "gm = GaussianMixture(n_components=4, random_state=42).fit(X_train, y_train)\n",
    "print(\"Accuracy\")\n",
    "print(accuracy_score(gm.predict(X_test), y_test)*100.0)\n",
    "print(\"Validation\")\n",
    "# print(accuracy_score(gm.predict(X_val), y_val))\n"
   ]
  },
  {
   "cell_type": "code",
   "execution_count": 21,
   "metadata": {},
   "outputs": [
    {
     "name": "stdout",
     "output_type": "stream",
     "text": [
      "[[0 1 2 0 0 0 0]\n",
      " [0 0 2 0 0 1 0]\n",
      " [1 2 0 0 0 0 0]\n",
      " [0 1 0 0 0 1 0]\n",
      " [0 1 0 1 0 0 0]\n",
      " [0 0 0 0 0 0 1]\n",
      " [0 0 0 1 0 1 0]]\n",
      "              precision    recall  f1-score   support\n",
      "\n",
      "           0       0.00      0.00      0.00       3.0\n",
      "           1       0.00      0.00      0.00       3.0\n",
      "           2       0.00      0.00      0.00       3.0\n",
      "           3       0.00      0.00      0.00       2.0\n",
      "           4       0.00      0.00      0.00       2.0\n",
      "           5       0.00      0.00      0.00       1.0\n",
      "           6       0.00      0.00      0.00       2.0\n",
      "\n",
      "    accuracy                           0.00      16.0\n",
      "   macro avg       0.00      0.00      0.00      16.0\n",
      "weighted avg       0.00      0.00      0.00      16.0\n",
      "\n",
      "Accuracy score after train test split (KNN):  0.0\n"
     ]
    },
    {
     "name": "stderr",
     "output_type": "stream",
     "text": [
      "c:\\Users\\Azka\\anaconda3\\lib\\site-packages\\sklearn\\metrics\\_classification.py:1318: UndefinedMetricWarning: Precision and F-score are ill-defined and being set to 0.0 in labels with no predicted samples. Use `zero_division` parameter to control this behavior.\n",
      "  _warn_prf(average, modifier, msg_start, len(result))\n",
      "c:\\Users\\Azka\\anaconda3\\lib\\site-packages\\sklearn\\metrics\\_classification.py:1318: UndefinedMetricWarning: Precision and F-score are ill-defined and being set to 0.0 in labels with no predicted samples. Use `zero_division` parameter to control this behavior.\n",
      "  _warn_prf(average, modifier, msg_start, len(result))\n",
      "c:\\Users\\Azka\\anaconda3\\lib\\site-packages\\sklearn\\metrics\\_classification.py:1318: UndefinedMetricWarning: Precision and F-score are ill-defined and being set to 0.0 in labels with no predicted samples. Use `zero_division` parameter to control this behavior.\n",
      "  _warn_prf(average, modifier, msg_start, len(result))\n"
     ]
    }
   ],
   "source": [
    "from sklearn.preprocessing import StandardScaler\n",
    "from sklearn import  preprocessing\n",
    "scaler = StandardScaler()\n",
    "scaler.fit(X_train)\n",
    "from sklearn.preprocessing import PowerTransformer\n",
    "\n",
    "from sklearn.neighbors import KNeighborsClassifier\n",
    "classifier = KNeighborsClassifier(n_neighbors=2, weights='distance', p=2, leaf_size=30)\n",
    "classifier.fit(X_train, y_train)\n",
    "from sklearn.metrics import accuracy_score\n",
    "y_pred = classifier.predict(X_test)\n",
    "from sklearn.metrics import classification_report, confusion_matrix\n",
    "print(confusion_matrix(y_test, y_pred))\n",
    "print(classification_report(y_test, y_pred))\n",
    "accuracyScore = accuracy_score(y_pred, y_test )\n",
    "print(\"Accuracy score after train test split (KNN): \", accuracyScore * 100.0)"
   ]
  },
  {
   "cell_type": "code",
   "execution_count": 22,
   "metadata": {},
   "outputs": [
    {
     "name": "stdout",
     "output_type": "stream",
     "text": [
      "KNN Accuracy: 0.0\n",
      "KNN Accuracy: 0.0\n",
      "KNN Accuracy: 6.25\n",
      "KNN Accuracy: 12.5\n",
      "KNN Accuracy: 18.75\n",
      "KNN Accuracy: 6.25\n",
      "CPU times: total: 93.8 ms\n",
      "Wall time: 60.8 ms\n"
     ]
    }
   ],
   "source": [
    "%%time\n",
    "#Setup arrays to store training and test accuracies\n",
    "neighbors = np.arange(1,7)\n",
    "train_accuracy =np.empty(len(neighbors))\n",
    "test_accuracy = np.empty(len(neighbors))\n",
    "\n",
    "for i,k in enumerate(neighbors):\n",
    "    #Setup a knn classifier with k neighbors\n",
    "    knn1 = KNeighborsClassifier(n_neighbors=k)\n",
    "    \n",
    "    #Fit the mode\n",
    "    knn1.fit(X_train, y_train)\n",
    "    \n",
    "    #Compute accuracy on the training set\n",
    "    train_accuracy[i] = knn1.score(X_train, y_train)\n",
    "    \n",
    "    #Compute accuracy on the test set\n",
    "    test_accuracy[i] = knn1.score(X_test, y_test) \n",
    "    Accuracy1=knn1.score(X_test,y_test)\n",
    "    print('KNN Accuracy:',Accuracy1 * 100.0)"
   ]
  },
  {
   "cell_type": "code",
   "execution_count": 23,
   "metadata": {},
   "outputs": [
    {
     "data": {
      "text/plain": [
       "Text(0, 0.5, 'Accuracy')"
      ]
     },
     "execution_count": 23,
     "metadata": {},
     "output_type": "execute_result"
    },
    {
     "data": {
      "image/png": "[encoded data removed]",
      "text/plain": [
       "<Figure size 720x432 with 1 Axes>"
      ]
     },
     "metadata": {
      "needs_background": "light"
     },
     "output_type": "display_data"
    }
   ],
   "source": [
    "#Generate plot\n",
    "import matplotlib.pyplot as plt\n",
    "plt.figure(figsize=(10,6))\n",
    "plt.title('k-NN Varying number of neighbors')\n",
    "plt.plot(neighbors, test_accuracy, label='Testing Accuracy')\n",
    "plt.plot(neighbors, train_accuracy, label='Training accuracy')\n",
    "plt.legend()\n",
    "plt.xlabel('Number of neighbors')\n",
    "plt.ylabel('Accuracy')\n",
    "#plt.show()\n",
    "\n",
    "#Text(0, 0.5, 'Accuracy')\n",
    "\n"
   ]
  },
  {
   "cell_type": "markdown",
   "metadata": {},
   "source": [
    "knn"
   ]
  },
  {
   "cell_type": "code",
   "execution_count": 24,
   "metadata": {},
   "outputs": [],
   "source": [
    "#Setup a knn classifier with k neighbors\n",
    "knn = KNeighborsClassifier(n_neighbors=2, weights='distance', p=2, leaf_size=30) #Using Eucledian distance"
   ]
  },
  {
   "cell_type": "code",
   "execution_count": 25,
   "metadata": {},
   "outputs": [
    {
     "data": {
      "text/plain": [
       "KNeighborsClassifier(n_neighbors=2, weights='distance')"
      ]
     },
     "execution_count": 25,
     "metadata": {},
     "output_type": "execute_result"
    }
   ],
   "source": [
    "#Fit the model\n",
    "knn.fit(X_train,y_train)"
   ]
  },
  {
   "cell_type": "code",
   "execution_count": 26,
   "metadata": {},
   "outputs": [
    {
     "name": "stdout",
     "output_type": "stream",
     "text": [
      "KNN Accuracy: 0.0\n"
     ]
    }
   ],
   "source": [
    "#Get accuracy. Note: In case of classification algorithms score method represents accuracy.\n",
    "Accuracy=knn.score(X_test,y_test)\n",
    "print('KNN Accuracy:',Accuracy * 100.0)"
   ]
  },
  {
   "cell_type": "code",
   "execution_count": 52,
   "metadata": {},
   "outputs": [],
   "source": [
    "from sklearn.metrics import accuracy_score\n",
    "from sklearn.preprocessing import StandardScaler\n",
    "from sklearn.neighbors import KNeighborsClassifier\n",
    "from sklearn.metrics import accuracy_score\n",
    "from sklearn.model_selection import train_test_split\n",
    "from sklearn.model_selection import cross_val_score\n",
    "from sklearn.neural_network import MLPClassifier\n",
    "from sklearn.naive_bayes import GaussianNB\n",
    "from sklearn.multiclass import OutputCodeClassifier\n",
    "from sklearn.neighbors import KNeighborsClassifier\n",
    "from sklearn.ensemble import RandomForestClassifier\n",
    "from sklearn.ensemble import AdaBoostClassifier\n",
    "from sklearn.ensemble import BaggingClassifier\n",
    "from sklearn.multiclass import OneVsRestClassifier\n",
    "from sklearn import svm\n",
    "from sklearn.preprocessing import StandardScaler"
   ]
  },
  {
   "cell_type": "code",
   "execution_count": 53,
   "metadata": {},
   "outputs": [
    {
     "name": "stderr",
     "output_type": "stream",
     "text": [
      "c:\\Users\\Azka\\anaconda3\\lib\\site-packages\\sklearn\\neural_network\\_multilayer_perceptron.py:692: ConvergenceWarning: Stochastic Optimizer: Maximum iterations (200) reached and the optimization hasn't converged yet.\n",
      "  warnings.warn(\n",
      "c:\\Users\\Azka\\anaconda3\\lib\\site-packages\\xgboost\\sklearn.py:1224: UserWarning: The use of label encoder in XGBClassifier is deprecated and will be removed in a future release. To remove this warning, do the following: 1) Pass option use_label_encoder=False when constructing XGBClassifier object; and 2) Encode your labels (y) as integers starting with 0, i.e. 0, 1, 2, ..., [num_class - 1].\n",
      "  warnings.warn(label_encoder_deprecation_msg, UserWarning)\n"
     ]
    },
    {
     "name": "stdout",
     "output_type": "stream",
     "text": [
      "[13:24:39] WARNING: ..\\src\\learner.cc:1115: Starting in XGBoost 1.3.0, the default evaluation metric used with the objective 'multi:softprob' was changed from 'merror' to 'mlogloss'. Explicitly set eval_metric if you'd like to restore the old behavior.\n",
      "CPU times: total: 1.44 s\n",
      "Wall time: 745 ms\n"
     ]
    }
   ],
   "source": [
    "%%time\n",
    "import xgboost as xgb\n",
    "MLA = []\n",
    "Z = [MLPClassifier(),RandomForestClassifier(), xgb.XGBClassifier(),KNeighborsClassifier() ]\n",
    "Y = [\"MLPClassifier\",\"RandomForestClassifier\" , \"XGBClassifier\", \"knn\"]\n",
    "\n",
    "\n",
    "\n",
    "for i in range(0,len(Z)):\n",
    "    model = Z[i]\n",
    "    model.fit( X_train , y_train )\n",
    "    pred = model.predict(X_test)\n",
    "    MLA.append(accuracy_score(pred , y_test) * 100.0)"
   ]
  },
  {
   "cell_type": "code",
   "execution_count": 54,
   "metadata": {},
   "outputs": [
    {
     "data": {
      "text/html": [
       "<div>\n",
       "<style scoped>\n",
       "    .dataframe tbody tr th:only-of-type {\n",
       "        vertical-align: middle;\n",
       "    }\n",
       "\n",
       "    .dataframe tbody tr th {\n",
       "        vertical-align: top;\n",
       "    }\n",
       "\n",
       "    .dataframe thead th {\n",
       "        text-align: right;\n",
       "    }\n",
       "</style>\n",
       "<table border=\"1\" class=\"dataframe\">\n",
       "  <thead>\n",
       "    <tr style=\"text-align: right;\">\n",
       "      <th></th>\n",
       "      <th>Algorithm</th>\n",
       "      <th>Accuracy</th>\n",
       "    </tr>\n",
       "  </thead>\n",
       "  <tbody>\n",
       "    <tr>\n",
       "      <th>0</th>\n",
       "      <td>MLPClassifier</td>\n",
       "      <td>37.50</td>\n",
       "    </tr>\n",
       "    <tr>\n",
       "      <th>1</th>\n",
       "      <td>RandomForestClassifier</td>\n",
       "      <td>18.75</td>\n",
       "    </tr>\n",
       "    <tr>\n",
       "      <th>2</th>\n",
       "      <td>XGBClassifier</td>\n",
       "      <td>37.50</td>\n",
       "    </tr>\n",
       "    <tr>\n",
       "      <th>3</th>\n",
       "      <td>knn</td>\n",
       "      <td>18.75</td>\n",
       "    </tr>\n",
       "  </tbody>\n",
       "</table>\n",
       "</div>"
      ],
      "text/plain": [
       "                Algorithm  Accuracy\n",
       "0           MLPClassifier     37.50\n",
       "1  RandomForestClassifier     18.75\n",
       "2           XGBClassifier     37.50\n",
       "3                     knn     18.75"
      ]
     },
     "execution_count": 54,
     "metadata": {},
     "output_type": "execute_result"
    }
   ],
   "source": [
    "d = { \"Algorithm\" : Y, \"Accuracy\" : MLA }\n",
    "\n",
    "dfm = pd.DataFrame(d)\n",
    "dfm"
   ]
  },
  {
   "cell_type": "code",
   "execution_count": 55,
   "metadata": {},
   "outputs": [
    {
     "name": "stderr",
     "output_type": "stream",
     "text": [
      "c:\\Users\\Azka\\anaconda3\\lib\\site-packages\\xgboost\\sklearn.py:1224: UserWarning: The use of label encoder in XGBClassifier is deprecated and will be removed in a future release. To remove this warning, do the following: 1) Pass option use_label_encoder=False when constructing XGBClassifier object; and 2) Encode your labels (y) as integers starting with 0, i.e. 0, 1, 2, ..., [num_class - 1].\n",
      "  warnings.warn(label_encoder_deprecation_msg, UserWarning)\n"
     ]
    },
    {
     "name": "stdout",
     "output_type": "stream",
     "text": [
      "[13:24:54] WARNING: ..\\src\\learner.cc:1115: Starting in XGBoost 1.3.0, the default evaluation metric used with the objective 'multi:softprob' was changed from 'merror' to 'mlogloss'. Explicitly set eval_metric if you'd like to restore the old behavior.\n",
      "[[0 0 2 0 1 0 0]\n",
      " [0 0 1 0 1 1 0]\n",
      " [1 0 1 0 1 0 0]\n",
      " [0 0 0 1 1 0 0]\n",
      " [0 0 0 0 2 0 0]\n",
      " [0 0 0 0 0 1 0]\n",
      " [0 0 0 0 0 0 2]]\n",
      "              precision    recall  f1-score   support\n",
      "\n",
      "           0       0.00      0.00      0.00         3\n",
      "           1       0.00      0.00      0.00         3\n",
      "           2       0.25      0.33      0.29         3\n",
      "           3       1.00      0.50      0.67         2\n",
      "           4       0.33      1.00      0.50         2\n",
      "           5       0.50      1.00      0.67         1\n",
      "           6       1.00      1.00      1.00         2\n",
      "\n",
      "    accuracy                           0.44        16\n",
      "   macro avg       0.44      0.55      0.45        16\n",
      "weighted avg       0.37      0.44      0.37        16\n",
      "\n",
      "Accuracy score after train test split (XGB):  43.75\n"
     ]
    },
    {
     "name": "stderr",
     "output_type": "stream",
     "text": [
      "c:\\Users\\Azka\\anaconda3\\lib\\site-packages\\sklearn\\metrics\\_classification.py:1318: UndefinedMetricWarning: Precision and F-score are ill-defined and being set to 0.0 in labels with no predicted samples. Use `zero_division` parameter to control this behavior.\n",
      "  _warn_prf(average, modifier, msg_start, len(result))\n",
      "c:\\Users\\Azka\\anaconda3\\lib\\site-packages\\sklearn\\metrics\\_classification.py:1318: UndefinedMetricWarning: Precision and F-score are ill-defined and being set to 0.0 in labels with no predicted samples. Use `zero_division` parameter to control this behavior.\n",
      "  _warn_prf(average, modifier, msg_start, len(result))\n",
      "c:\\Users\\Azka\\anaconda3\\lib\\site-packages\\sklearn\\metrics\\_classification.py:1318: UndefinedMetricWarning: Precision and F-score are ill-defined and being set to 0.0 in labels with no predicted samples. Use `zero_division` parameter to control this behavior.\n",
      "  _warn_prf(average, modifier, msg_start, len(result))\n"
     ]
    }
   ],
   "source": [
    "#Fit the model again, make predictions, calculate accuracy\n",
    "import xgboost as xgb\n",
    "from sklearn.preprocessing import StandardScaler\n",
    "\n",
    "model1 = xgb.XGBClassifier(learning_rate=0.1, n_estimators=1000)\n",
    "model1.fit(X_train, y_train)\n",
    "# make predictions for test data\n",
    "y_predict = model1.predict(X_test)\n",
    "predictions3 = [round(value) for value in y_predict]\n",
    "# evaluate predictions\n",
    "\n",
    "from sklearn.metrics import classification_report, confusion_matrix\n",
    "print(confusion_matrix(y_test, predictions3))\n",
    "print(classification_report(y_test, predictions3))\n",
    "accuracyScore = accuracy_score(predictions3, y_test )\n",
    "print(\"Accuracy score after train test split (XGB): \", accuracyScore * 100.0)\n",
    "\n",
    "\n",
    "\n"
   ]
  },
  {
   "cell_type": "code",
   "execution_count": 56,
   "metadata": {},
   "outputs": [
    {
     "name": "stdout",
     "output_type": "stream",
     "text": [
      "Training time for MLPClassifier:  0.331  seconds\n",
      "Prediction time for MLPClassifier:  0.001  seconds\n",
      "[[0 0 2 0 0 1 0]\n",
      " [0 0 2 0 0 1 0]\n",
      " [1 1 1 0 0 0 0]\n",
      " [0 0 1 0 0 1 0]\n",
      " [0 0 0 0 2 0 0]\n",
      " [0 0 0 0 0 1 0]\n",
      " [0 0 0 0 0 1 1]]\n",
      "              precision    recall  f1-score   support\n",
      "\n",
      "           0       0.00      0.00      0.00         3\n",
      "           1       0.00      0.00      0.00         3\n",
      "           2       0.17      0.33      0.22         3\n",
      "           3       0.00      0.00      0.00         2\n",
      "           4       1.00      1.00      1.00         2\n",
      "           5       0.20      1.00      0.33         1\n",
      "           6       1.00      0.50      0.67         2\n",
      "\n",
      "    accuracy                           0.31        16\n",
      "   macro avg       0.34      0.40      0.32        16\n",
      "weighted avg       0.29      0.31      0.27        16\n",
      "\n",
      "Accuracy score after train test split (MLP):  31.25\n"
     ]
    },
    {
     "name": "stderr",
     "output_type": "stream",
     "text": [
      "c:\\Users\\Azka\\anaconda3\\lib\\site-packages\\sklearn\\neural_network\\_multilayer_perceptron.py:692: ConvergenceWarning: Stochastic Optimizer: Maximum iterations (200) reached and the optimization hasn't converged yet.\n",
      "  warnings.warn(\n",
      "c:\\Users\\Azka\\anaconda3\\lib\\site-packages\\sklearn\\metrics\\_classification.py:1318: UndefinedMetricWarning: Precision and F-score are ill-defined and being set to 0.0 in labels with no predicted samples. Use `zero_division` parameter to control this behavior.\n",
      "  _warn_prf(average, modifier, msg_start, len(result))\n",
      "c:\\Users\\Azka\\anaconda3\\lib\\site-packages\\sklearn\\metrics\\_classification.py:1318: UndefinedMetricWarning: Precision and F-score are ill-defined and being set to 0.0 in labels with no predicted samples. Use `zero_division` parameter to control this behavior.\n",
      "  _warn_prf(average, modifier, msg_start, len(result))\n",
      "c:\\Users\\Azka\\anaconda3\\lib\\site-packages\\sklearn\\metrics\\_classification.py:1318: UndefinedMetricWarning: Precision and F-score are ill-defined and being set to 0.0 in labels with no predicted samples. Use `zero_division` parameter to control this behavior.\n",
      "  _warn_prf(average, modifier, msg_start, len(result))\n"
     ]
    }
   ],
   "source": [
    "#Trying out SGDClassifier\n",
    "from sklearn.neural_network import MLPClassifier\n",
    "from sklearn.preprocessing import StandardScaler\n",
    "mlp = MLPClassifier()\n",
    "from time import time\n",
    "#Calculating fitting time\n",
    "startTime = time()\n",
    "mlp.fit(X_train, y_train)\n",
    "print(\"Training time for MLPClassifier: \", round(time()-startTime, 3), \" seconds\")\n",
    "\n",
    "#Making predictions and calculating the prediction time \n",
    "startTime = time()\n",
    "y_predict1 = mlp.predict(X_test)\n",
    "predictions4 =  [round(value) for value in y_predict1]\n",
    "print(\"Prediction time for MLPClassifier: \", round(time()-startTime, 3), \" seconds\")\n",
    "from sklearn.metrics import classification_report, confusion_matrix\n",
    "print(confusion_matrix(y_test, predictions4))\n",
    "print(classification_report(y_test, predictions4))\n",
    "accuracyScore = accuracy_score(predictions4, y_test )\n",
    "print(\"Accuracy score after train test split (MLP): \", accuracyScore * 100.0)\n",
    "\n"
   ]
  },
  {
   "cell_type": "code",
   "execution_count": 57,
   "metadata": {},
   "outputs": [
    {
     "name": "stdout",
     "output_type": "stream",
     "text": [
      "Fitting time for Random Forest (no preprocessing):  0.292 seconds\n"
     ]
    }
   ],
   "source": [
    "#Fitting the random forest classifier without any preprocessing\n",
    "from sklearn.ensemble import RandomForestClassifier\n",
    "from time import time\n",
    "\n",
    "randomForest = RandomForestClassifier(n_estimators=200,random_state=0)\n",
    "\n",
    "#Calculating the predicition time \n",
    "startTime = time()\n",
    "randomForest.fit(X_train, y_train)\n",
    "print(\"Fitting time for Random Forest (no preprocessing): \", round(time()-startTime, 3), \"seconds\")"
   ]
  },
  {
   "cell_type": "code",
   "execution_count": 58,
   "metadata": {},
   "outputs": [
    {
     "name": "stdout",
     "output_type": "stream",
     "text": [
      "Prediction time for Random Forest (no preproccessing):  0.029  seconds\n"
     ]
    }
   ],
   "source": [
    "#Making predictions with the model and calculating the accuracy score\n",
    "from sklearn.metrics import accuracy_score\n",
    "\n",
    "#Calculating the prediction time \n",
    "startTime = time()\n",
    "predictions = randomForest.predict(X_test)\n",
    "print(\"Prediction time for Random Forest (no preproccessing): \", round(time()-startTime, 3), \" seconds\")"
   ]
  },
  {
   "cell_type": "code",
   "execution_count": 59,
   "metadata": {},
   "outputs": [
    {
     "name": "stdout",
     "output_type": "stream",
     "text": [
      "Cross-validation score: \n",
      "[0.23076923 0.15384615 0.5        0.25       0.5       ]\n",
      "Confusion matrix: \n",
      "[[ 1  4  4  0  0  0  0]\n",
      " [ 0 12  1  0  0  0  0]\n",
      " [ 3  5  3  0  0  0  0]\n",
      " [ 0  2  2  0  1  2  0]\n",
      " [ 0  4  0  1  2  2  0]\n",
      " [ 0  7  0  0  0  1  0]\n",
      " [ 0  2  1  0  0  2  0]]\n",
      "[[ 1  4  4  0  0  0  0]\n",
      " [ 0 12  1  0  0  0  0]\n",
      " [ 3  5  3  0  0  0  0]\n",
      " [ 0  2  2  0  1  2  0]\n",
      " [ 0  4  0  1  2  2  0]\n",
      " [ 0  7  0  0  0  1  0]\n",
      " [ 0  2  1  0  0  2  0]] ['boxer-getting-hit', 'explosion-gun', 'fighting-man-voice-of-pain', 'man-in-pain', 'meat-hit-sound', 'police-short-whistle']\n",
      "Precision score: \n",
      "0.3064516129032258\n",
      "Recall score: \n",
      "0.3064516129032258\n",
      "F1 score: \n",
      "0.3064516129032258\n"
     ]
    }
   ],
   "source": [
    "#Evaluation metrics for Random Forest (no preprocessing)\n",
    "from sklearn.model_selection import cross_val_score, cross_val_predict\n",
    "from sklearn.metrics import confusion_matrix, precision_score, recall_score, f1_score\n",
    "\n",
    "#Names of the classes\n",
    "classNames = [\"boxer-getting-hit\",\"explosion-gun\",\"fighting-man-voice-of-pain\",\"man-in-pain\",\"meat-hit-sound\",\"police-short-whistle\"] \n",
    "\n",
    "#Cross-validation score\n",
    "print(\"Cross-validation score: \")\n",
    "print(cross_val_score(randomForest, X_train, y_train, scoring=\"accuracy\"))\n",
    "\n",
    "#Cross_validation predictions\n",
    "predictions = cross_val_predict(randomForest, X_train, y_train, cv=3)\n",
    "\n",
    "#Confusion matrix\n",
    "print(\"Confusion matrix: \")\n",
    "print(confusion_matrix(y_train, predictions))\n",
    "\n",
    "#A better figure representation of the confusion matrix\n",
    "print(confusion_matrix(y_train, predictions), classNames)\n",
    "\n",
    "#Precision\n",
    "print(\"Precision score: \")\n",
    "print(precision_score(y_train, predictions, average='micro'))\n",
    "\n",
    "#Recall score\n",
    "print(\"Recall score: \")\n",
    "print(recall_score(y_train, predictions, average='micro')) \n",
    "\n",
    "#F1 score\n",
    "print(\"F1 score: \")\n",
    "print(f1_score(y_train, predictions, average='micro'))"
   ]
  },
  {
   "cell_type": "code",
   "execution_count": 60,
   "metadata": {},
   "outputs": [
    {
     "name": "stdout",
     "output_type": "stream",
     "text": [
      "The log loss:  1.9460153664969577\n"
     ]
    }
   ],
   "source": [
    "#Calculate the log loss\n",
    "from sklearn.metrics import log_loss\n",
    "logLoss = log_loss(y_test, randomForest.predict_proba(X_test))\n",
    "print(\"The log loss: \", logLoss)\n",
    "\n",
    "#HUGE LOGLOSS\n",
    "#Inference: The model slowly stops predicting; lack of training instances may be a problem"
   ]
  },
  {
   "cell_type": "code",
   "execution_count": 61,
   "metadata": {},
   "outputs": [
    {
     "name": "stdout",
     "output_type": "stream",
     "text": [
      "Training time for Random Forest:  0.36  seconds\n",
      "Prediction time for Random Forest:  0.023  seconds\n",
      "Accuracy score after train test split (Random Forest):  18.75\n"
     ]
    }
   ],
   "source": [
    "#Fit the model again, make predictions, calculate accuracy\n",
    "from sklearn.preprocessing import StandardScaler\n",
    "\n",
    "#Calculate training time \n",
    "startTime = time()\n",
    "randomForest.fit(X_train, y_train)\n",
    "print(\"Training time for Random Forest: \", round(time()-startTime, 3), \" seconds\")\n",
    "\n",
    "#Calculate prediction time \n",
    "startTime = time()\n",
    "predictions = randomForest.predict(X_test)\n",
    "print(\"Prediction time for Random Forest: \", round(time()-startTime, 3), \" seconds\")\n",
    "\n",
    "#Accuracy score\n",
    "accuracyScore = accuracy_score(predictions, y_test )\n",
    "print(\"Accuracy score after train test split (Random Forest): \", accuracyScore * 100.0)\n"
   ]
  },
  {
   "cell_type": "code",
   "execution_count": 62,
   "metadata": {},
   "outputs": [
    {
     "name": "stdout",
     "output_type": "stream",
     "text": [
      "25.0\n"
     ]
    }
   ],
   "source": [
    "\n",
    "from sklearn.ensemble import RandomForestClassifier\n",
    "rfc = RandomForestClassifier(n_estimators = 500)\n",
    "# X_train, X_val, y_train, y_val = train_test_split(X, y, test_size=0.2, random_state=10, shuffle = True)\n",
    "rfc.fit(X_train, y_train)\n",
    "#more functions from LightGBM baseline: https://www.kaggle.com/opanichev/lightgbm-baseline\n",
    "def proba2labels(preds, i2c, k=3):\n",
    "    ans = []\n",
    "    ids = []\n",
    "    for p in preds:\n",
    "        idx = np.argsort(p)[::-1]\n",
    "        ids.append([i for i in idx[:k]])\n",
    "        ans.append(' '.join([i2c[i] for i in idx[:k]]))\n",
    "\n",
    "    return ans, ids\n",
    "#checking the accuracy of the model\n",
    "print(rfc.score(X_test, y_test)*100.0)"
   ]
  },
  {
   "cell_type": "code",
   "execution_count": 63,
   "metadata": {},
   "outputs": [
    {
     "name": "stderr",
     "output_type": "stream",
     "text": [
      "c:\\Users\\Azka\\anaconda3\\lib\\site-packages\\sklearn\\neural_network\\_multilayer_perceptron.py:692: ConvergenceWarning: Stochastic Optimizer: Maximum iterations (200) reached and the optimization hasn't converged yet.\n",
      "  warnings.warn(\n",
      "c:\\Users\\Azka\\anaconda3\\lib\\site-packages\\xgboost\\sklearn.py:1224: UserWarning: The use of label encoder in XGBClassifier is deprecated and will be removed in a future release. To remove this warning, do the following: 1) Pass option use_label_encoder=False when constructing XGBClassifier object; and 2) Encode your labels (y) as integers starting with 0, i.e. 0, 1, 2, ..., [num_class - 1].\n",
      "  warnings.warn(label_encoder_deprecation_msg, UserWarning)\n"
     ]
    },
    {
     "name": "stdout",
     "output_type": "stream",
     "text": [
      "[13:26:44] WARNING: ..\\src\\learner.cc:1115: Starting in XGBoost 1.3.0, the default evaluation metric used with the objective 'multi:softprob' was changed from 'merror' to 'mlogloss'. Explicitly set eval_metric if you'd like to restore the old behavior.\n",
      "[[0 0 2 0 1 0 0]\n",
      " [0 0 2 0 0 1 0]\n",
      " [1 0 1 0 1 0 0]\n",
      " [0 0 0 1 0 1 0]\n",
      " [0 0 0 0 1 1 0]\n",
      " [0 0 0 0 0 1 0]\n",
      " [0 0 0 0 0 1 1]]\n",
      "              precision    recall  f1-score   support\n",
      "\n",
      "           0       0.00      0.00      0.00         3\n",
      "           1       0.00      0.00      0.00         3\n",
      "           2       0.20      0.33      0.25         3\n",
      "           3       1.00      0.50      0.67         2\n",
      "           4       0.33      0.50      0.40         2\n",
      "           5       0.20      1.00      0.33         1\n",
      "           6       1.00      0.50      0.67         2\n",
      "\n",
      "    accuracy                           0.31        16\n",
      "   macro avg       0.39      0.40      0.33        16\n",
      "weighted avg       0.34      0.31      0.28        16\n",
      "\n",
      "Accuracy score after train test split (Ensemble):  31.25\n"
     ]
    },
    {
     "name": "stderr",
     "output_type": "stream",
     "text": [
      "c:\\Users\\Azka\\anaconda3\\lib\\site-packages\\sklearn\\metrics\\_classification.py:1318: UndefinedMetricWarning: Precision and F-score are ill-defined and being set to 0.0 in labels with no predicted samples. Use `zero_division` parameter to control this behavior.\n",
      "  _warn_prf(average, modifier, msg_start, len(result))\n",
      "c:\\Users\\Azka\\anaconda3\\lib\\site-packages\\sklearn\\metrics\\_classification.py:1318: UndefinedMetricWarning: Precision and F-score are ill-defined and being set to 0.0 in labels with no predicted samples. Use `zero_division` parameter to control this behavior.\n",
      "  _warn_prf(average, modifier, msg_start, len(result))\n",
      "c:\\Users\\Azka\\anaconda3\\lib\\site-packages\\sklearn\\metrics\\_classification.py:1318: UndefinedMetricWarning: Precision and F-score are ill-defined and being set to 0.0 in labels with no predicted samples. Use `zero_division` parameter to control this behavior.\n",
      "  _warn_prf(average, modifier, msg_start, len(result))\n"
     ]
    },
    {
     "data": {
      "text/plain": [
       "array([[0, 0, 2, 0, 1, 0, 0],\n",
       "       [0, 0, 2, 0, 0, 1, 0],\n",
       "       [1, 0, 1, 0, 1, 0, 0],\n",
       "       [0, 0, 0, 1, 0, 1, 0],\n",
       "       [0, 0, 0, 0, 1, 1, 0],\n",
       "       [0, 0, 0, 0, 0, 1, 0],\n",
       "       [0, 0, 0, 0, 0, 1, 1]], dtype=int64)"
      ]
     },
     "execution_count": 63,
     "metadata": {},
     "output_type": "execute_result"
    }
   ],
   "source": [
    "#voting classifier\n",
    "\n",
    "from sklearn import metrics\n",
    "from sklearn.model_selection import validation_curve\n",
    "import tensorflow as tf\n",
    "from tensorflow import keras\n",
    "from sklearn.ensemble import VotingClassifier\n",
    "voting_clf = VotingClassifier(estimators=[('mlp', mlp), ('xgb', model1), ('randomfor', randomForest)], voting='soft')\n",
    "hist=voting_clf.fit(X_train, y_train)\n",
    "predss = voting_clf.predict(X_test)\n",
    "\n",
    "preds = [round(value) for value in predss]\n",
    "from sklearn.metrics import classification_report, confusion_matrix\n",
    "print(confusion_matrix(y_test, preds))\n",
    "print(classification_report(y_test, preds))\n",
    "accuracyScore = accuracy_score(preds, y_test )\n",
    "print(\"Accuracy score after train test split (Ensemble): \", accuracyScore * 100.0)\n",
    "\n",
    "confusion_matrix=metrics.confusion_matrix(y_test,preds)\n",
    "confusion_matrix\n",
    "\n",
    "\n",
    "#from sklearn.metrics import plot_roc_curve\n",
    "\n",
    "#metrics.plot_roc_curve(voting_clf, X_test, y_test)  # doctest: +SKIP\n",
    "#plt.show() \n",
    "\n"
   ]
  },
  {
   "cell_type": "code",
   "execution_count": 64,
   "metadata": {},
   "outputs": [
    {
     "name": "stderr",
     "output_type": "stream",
     "text": [
      "c:\\Users\\Azka\\anaconda3\\lib\\site-packages\\xgboost\\sklearn.py:1224: UserWarning: The use of label encoder in XGBClassifier is deprecated and will be removed in a future release. To remove this warning, do the following: 1) Pass option use_label_encoder=False when constructing XGBClassifier object; and 2) Encode your labels (y) as integers starting with 0, i.e. 0, 1, 2, ..., [num_class - 1].\n",
      "  warnings.warn(label_encoder_deprecation_msg, UserWarning)\n"
     ]
    },
    {
     "name": "stdout",
     "output_type": "stream",
     "text": [
      "[13:26:51] WARNING: ..\\src\\learner.cc:1115: Starting in XGBoost 1.3.0, the default evaluation metric used with the objective 'multi:softprob' was changed from 'merror' to 'mlogloss'. Explicitly set eval_metric if you'd like to restore the old behavior.\n",
      "12.5\n"
     ]
    }
   ],
   "source": [
    "from xgboost import XGBClassifier\n",
    "clf2 = XGBClassifier(max_depth=5, learning_rate=0.05, n_estimators=3000,\n",
    "                    n_jobs=-1, random_state=0, reg_alpha=0.2, \n",
    "                    colsample_bylevel=0.9, colsample_bytree=0.9)\n",
    "clf2.fit(X_train, y_train)\n",
    "print(accuracy_score(clf.predict(X_test), y_test)*100.0)\n",
    "#more functions from LightGBM baseline: https://www.kaggle.com/opanichev/lightgbm-baseline\n",
    "def proba2labels(preds, i2c, k=3):\n",
    "    ans = []\n",
    "    ids = []\n",
    "    for p in preds:\n",
    "        idx = np.argsort(p)[::-1]\n",
    "        ids.append([i for i in idx[:k]])\n",
    "        ans.append(' '.join([i2c[i] for i in idx[:k]]))\n",
    "\n",
    "    return ans, ids"
   ]
  },
  {
   "cell_type": "code",
   "execution_count": 65,
   "metadata": {},
   "outputs": [
    {
     "name": "stdout",
     "output_type": "stream",
     "text": [
      "12.5\n"
     ]
    }
   ],
   "source": [
    "\n",
    "\n",
    "clf5 = svm.OneClassSVM(kernel='sigmoid',gamma='scale')\n",
    "clf5.fit(X_train, y_train)\n",
    "print(accuracy_score(clf5.predict(X_test), y_test)*100.0)\n",
    "#more functions from LightGBM baseline: https://www.kaggle.com/opanichev/lightgbm-baseline\n",
    "def proba2labels(preds, i2c, k=3):\n",
    "    ans = []\n",
    "    ids = []\n",
    "    for p in preds:\n",
    "        idx = np.argsort(p)[::-1]\n",
    "        ids.append([i for i in idx[:k]])\n",
    "        ans.append(' '.join([i2c[i] for i in idx[:k]]))\n",
    "\n",
    "    return ans, ids"
   ]
  },
  {
   "cell_type": "code",
   "execution_count": 66,
   "metadata": {},
   "outputs": [
    {
     "data": {
      "text/plain": [
       "OneClassSVM(gamma=0.007)"
      ]
     },
     "execution_count": 66,
     "metadata": {},
     "output_type": "execute_result"
    }
   ],
   "source": [
    "from sklearn.svm import OneClassSVM\n",
    "model5 = svm.OneClassSVM(kernel='rbf',gamma=0.007)\n",
    "model5.fit(X_train, y_train)\n",
    "\n"
   ]
  },
  {
   "cell_type": "code",
   "execution_count": 67,
   "metadata": {},
   "outputs": [
    {
     "name": "stdout",
     "output_type": "stream",
     "text": [
      "Accuracy score after train test split (ONESVM):  12.5\n"
     ]
    }
   ],
   "source": [
    "\n",
    "pred5 = model5.predict(X_test)\n",
    "\n",
    "accuracyScore123 = accuracy_score(pred5, y_test )\n",
    "print(\"Accuracy score after train test split (ONESVM): \", accuracyScore123 * 100.0)\n"
   ]
  },
  {
   "cell_type": "code",
   "execution_count": 68,
   "metadata": {},
   "outputs": [],
   "source": [
    "# Import Joblib Module from Scikit Learn\n",
    "\n",
    "import joblib"
   ]
  },
  {
   "cell_type": "code",
   "execution_count": 69,
   "metadata": {},
   "outputs": [],
   "source": [
    "# Import Required packages \n",
    "#-------------------------\n",
    "\n",
    "# Import the Logistic Regression Module from Scikit Learn\n",
    "from sklearn.linear_model import LogisticRegression  \n",
    "\n",
    "# Import the IRIS Dataset to be used in this Kernel\n",
    "from sklearn.datasets import load_iris  \n",
    "\n",
    "# Load the Module to split the Dataset into Train & Test \n",
    "from sklearn.model_selection import train_test_split"
   ]
  },
  {
   "cell_type": "code",
   "execution_count": 70,
   "metadata": {},
   "outputs": [],
   "source": [
    "# Load the data\n",
    "Iris_data = load_iris() "
   ]
  },
  {
   "cell_type": "code",
   "execution_count": 71,
   "metadata": {},
   "outputs": [],
   "source": [
    "# Split data\n",
    "Xtrain, Xtest, Ytrain, Ytest = train_test_split(Iris_data.data, \n",
    "                                                Iris_data.target, \n",
    "                                                test_size=0.3, \n",
    "                                                random_state=4)  "
   ]
  },
  {
   "cell_type": "code",
   "execution_count": 72,
   "metadata": {},
   "outputs": [
    {
     "name": "stderr",
     "output_type": "stream",
     "text": [
      "c:\\Users\\Azka\\anaconda3\\lib\\site-packages\\sklearn\\linear_model\\_logistic.py:1523: UserWarning: 'n_jobs' > 1 does not have any effect when 'solver' is set to 'liblinear'. Got 'n_jobs' = 3.\n",
      "  warnings.warn(\n"
     ]
    },
    {
     "data": {
      "text/plain": [
       "LogisticRegression(C=0.1, max_iter=20, n_jobs=3, solver='liblinear')"
      ]
     },
     "execution_count": 72,
     "metadata": {},
     "output_type": "execute_result"
    }
   ],
   "source": [
    "# Define the Model\n",
    "LR_Model = LogisticRegression(C=0.1,  \n",
    "                               max_iter=20, \n",
    "                               fit_intercept=True, \n",
    "                               n_jobs=3, \n",
    "                               solver='liblinear')\n",
    "\n",
    "# Train the Model\n",
    "LR_Model.fit(Xtrain, Ytrain)"
   ]
  },
  {
   "cell_type": "code",
   "execution_count": 73,
   "metadata": {},
   "outputs": [
    {
     "data": {
      "text/plain": [
       "['joblib_RL_Model.pkl']"
      ]
     },
     "execution_count": 73,
     "metadata": {},
     "output_type": "execute_result"
    }
   ],
   "source": [
    "# Save RL_Model to file in the current working directory\n",
    "\n",
    "joblib_file = \"joblib_RL_Model.pkl\"  \n",
    "joblib.dump(LR_Model, joblib_file)"
   ]
  },
  {
   "cell_type": "code",
   "execution_count": 74,
   "metadata": {},
   "outputs": [
    {
     "data": {
      "text/plain": [
       "LogisticRegression(C=0.1, max_iter=20, n_jobs=3, solver='liblinear')"
      ]
     },
     "execution_count": 74,
     "metadata": {},
     "output_type": "execute_result"
    }
   ],
   "source": [
    "# Load from file\n",
    "\n",
    "joblib_LR_model = joblib.load(joblib_file)\n",
    "\n",
    "\n",
    "joblib_LR_model"
   ]
  },
  {
   "cell_type": "code",
   "execution_count": 75,
   "metadata": {},
   "outputs": [
    {
     "name": "stdout",
     "output_type": "stream",
     "text": [
      "Test score: 91.11 %\n"
     ]
    },
    {
     "data": {
      "text/plain": [
       "array([2, 0, 2, 2, 2, 2, 2, 0, 0, 2, 0, 0, 0, 2, 2, 0, 1, 0, 0, 2, 0, 2,\n",
       "       1, 0, 0, 0, 0, 0, 0, 2, 2, 0, 2, 0, 1, 2, 2, 1, 1, 0, 2, 0, 1, 0,\n",
       "       2])"
      ]
     },
     "execution_count": 75,
     "metadata": {},
     "output_type": "execute_result"
    }
   ],
   "source": [
    "# Use the Reloaded Joblib Model to \n",
    "# Calculate the accuracy score and predict target values\n",
    "\n",
    "# Calculate the Score \n",
    "score = joblib_LR_model.score(Xtest, Ytest)  \n",
    "# Print the Score\n",
    "print(\"Test score: {0:.2f} %\".format(100 * score))  \n",
    "\n",
    "# Predict the Labels using the reloaded Model\n",
    "Ypredict = joblib_LR_model.predict(Xtest)  \n",
    "\n",
    "Ypredict"
   ]
  }
 ],
 "metadata": {
  "kernelspec": {
   "display_name": "Python 3.9.12 ('base')",
   "language": "python",
   "name": "python3"
  },
  "language_info": {
   "codemirror_mode": {
    "name": "ipython",
    "version": 3
   },
   "file_extension": ".py",
   "mimetype": "text/x-python",
   "name": "python",
   "nbconvert_exporter": "python",
   "pygments_lexer": "ipython3",
   "version": "3.9.12"
  },
  "orig_nbformat": 4,
  "vscode": {
   "interpreter": {
    "hash": "69eb46f2bce47a2509c2b9deeedf7121a5e08aa609b9358637954fdcc3621e06"
   }
  }
 },
 "nbformat": 4,
 "nbformat_minor": 2
}
