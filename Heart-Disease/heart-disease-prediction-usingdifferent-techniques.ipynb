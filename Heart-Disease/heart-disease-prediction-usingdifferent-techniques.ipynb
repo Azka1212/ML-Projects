{
 "cells": [
  {
   "cell_type": "code",
   "execution_count": null,
   "id": "bed47686",
   "metadata": {
    "_cell_guid": "b1076dfc-b9ad-4769-8c92-a6c4dae69d19",
    "_uuid": "8f2839f25d086af736a60e9eeb907d3b93b6e0e5",
    "execution": {
     "iopub.execute_input": "2021-10-22T13:39:08.899058Z",
     "iopub.status.busy": "2021-10-22T13:39:08.897503Z",
     "iopub.status.idle": "2021-10-22T13:39:08.918607Z",
     "shell.execute_reply": "2021-10-22T13:39:08.919261Z",
     "shell.execute_reply.started": "2021-10-22T13:18:39.199318Z"
    },
    "papermill": {
     "duration": 0.074375,
     "end_time": "2021-10-22T13:39:08.919554",
     "exception": false,
     "start_time": "2021-10-22T13:39:08.845179",
     "status": "completed"
    },
    "tags": []
   },
   "outputs": [],
   "source": [
    "\n",
    "import numpy as np # linear algebra\n",
    "import pandas as pd # data processing, CSV file I/O (e.g. pd.read_csv)\n",
    "\n",
    "\n",
    "\n"
   ]
  },
  {
   "cell_type": "code",
   "execution_count": null,
   "id": "4358f982",
   "metadata": {
    "execution": {
     "iopub.execute_input": "2021-10-22T13:39:09.019032Z",
     "iopub.status.busy": "2021-10-22T13:39:09.018480Z",
     "iopub.status.idle": "2021-10-22T13:39:09.032171Z",
     "shell.execute_reply": "2021-10-22T13:39:09.032609Z",
     "shell.execute_reply.started": "2021-10-22T13:18:39.241729Z"
    },
    "papermill": {
     "duration": 0.065629,
     "end_time": "2021-10-22T13:39:09.032732",
     "exception": false,
     "start_time": "2021-10-22T13:39:08.967103",
     "status": "completed"
    },
    "tags": []
   },
   "outputs": [],
   "source": [
    "df=pd.read_csv(r\"C:\\Users\\Lenovo\\Downloads\\heart\\heart.csv\")"
   ]
  },
  {
   "cell_type": "code",
   "execution_count": null,
   "id": "7a264c71",
   "metadata": {
    "execution": {
     "iopub.execute_input": "2021-10-22T13:39:09.145489Z",
     "iopub.status.busy": "2021-10-22T13:39:09.144630Z",
     "iopub.status.idle": "2021-10-22T13:39:09.170524Z",
     "shell.execute_reply": "2021-10-22T13:39:09.171003Z",
     "shell.execute_reply.started": "2021-10-22T13:18:39.262980Z"
    },
    "papermill": {
     "duration": 0.092387,
     "end_time": "2021-10-22T13:39:09.171162",
     "exception": false,
     "start_time": "2021-10-22T13:39:09.078775",
     "status": "completed"
    },
    "tags": []
   },
   "outputs": [
    {
     "data": {
      "text/html": [
       "<div>\n",
       "<style scoped>\n",
       "    .dataframe tbody tr th:only-of-type {\n",
       "        vertical-align: middle;\n",
       "    }\n",
       "\n",
       "    .dataframe tbody tr th {\n",
       "        vertical-align: top;\n",
       "    }\n",
       "\n",
       "    .dataframe thead th {\n",
       "        text-align: right;\n",
       "    }\n",
       "</style>\n",
       "<table border=\"1\" class=\"dataframe\">\n",
       "  <thead>\n",
       "    <tr style=\"text-align: right;\">\n",
       "      <th></th>\n",
       "      <th>age</th>\n",
       "      <th>sex</th>\n",
       "      <th>cp</th>\n",
       "      <th>trestbps</th>\n",
       "      <th>chol</th>\n",
       "      <th>fbs</th>\n",
       "      <th>restecg</th>\n",
       "      <th>thalach</th>\n",
       "      <th>exang</th>\n",
       "      <th>oldpeak</th>\n",
       "      <th>slope</th>\n",
       "      <th>ca</th>\n",
       "      <th>thal</th>\n",
       "      <th>target</th>\n",
       "    </tr>\n",
       "  </thead>\n",
       "  <tbody>\n",
       "    <tr>\n",
       "      <th>0</th>\n",
       "      <td>63</td>\n",
       "      <td>1</td>\n",
       "      <td>3</td>\n",
       "      <td>145</td>\n",
       "      <td>233</td>\n",
       "      <td>1</td>\n",
       "      <td>0</td>\n",
       "      <td>150</td>\n",
       "      <td>0</td>\n",
       "      <td>2.3</td>\n",
       "      <td>0</td>\n",
       "      <td>0</td>\n",
       "      <td>1</td>\n",
       "      <td>1</td>\n",
       "    </tr>\n",
       "    <tr>\n",
       "      <th>1</th>\n",
       "      <td>37</td>\n",
       "      <td>1</td>\n",
       "      <td>2</td>\n",
       "      <td>130</td>\n",
       "      <td>250</td>\n",
       "      <td>0</td>\n",
       "      <td>1</td>\n",
       "      <td>187</td>\n",
       "      <td>0</td>\n",
       "      <td>3.5</td>\n",
       "      <td>0</td>\n",
       "      <td>0</td>\n",
       "      <td>2</td>\n",
       "      <td>1</td>\n",
       "    </tr>\n",
       "    <tr>\n",
       "      <th>2</th>\n",
       "      <td>41</td>\n",
       "      <td>0</td>\n",
       "      <td>1</td>\n",
       "      <td>130</td>\n",
       "      <td>204</td>\n",
       "      <td>0</td>\n",
       "      <td>0</td>\n",
       "      <td>172</td>\n",
       "      <td>0</td>\n",
       "      <td>1.4</td>\n",
       "      <td>2</td>\n",
       "      <td>0</td>\n",
       "      <td>2</td>\n",
       "      <td>1</td>\n",
       "    </tr>\n",
       "    <tr>\n",
       "      <th>3</th>\n",
       "      <td>56</td>\n",
       "      <td>1</td>\n",
       "      <td>1</td>\n",
       "      <td>120</td>\n",
       "      <td>236</td>\n",
       "      <td>0</td>\n",
       "      <td>1</td>\n",
       "      <td>178</td>\n",
       "      <td>0</td>\n",
       "      <td>0.8</td>\n",
       "      <td>2</td>\n",
       "      <td>0</td>\n",
       "      <td>2</td>\n",
       "      <td>1</td>\n",
       "    </tr>\n",
       "    <tr>\n",
       "      <th>4</th>\n",
       "      <td>57</td>\n",
       "      <td>0</td>\n",
       "      <td>0</td>\n",
       "      <td>120</td>\n",
       "      <td>354</td>\n",
       "      <td>0</td>\n",
       "      <td>1</td>\n",
       "      <td>163</td>\n",
       "      <td>1</td>\n",
       "      <td>0.6</td>\n",
       "      <td>2</td>\n",
       "      <td>0</td>\n",
       "      <td>2</td>\n",
       "      <td>1</td>\n",
       "    </tr>\n",
       "  </tbody>\n",
       "</table>\n",
       "</div>"
      ],
      "text/plain": [
       "   age  sex  cp  trestbps  chol  fbs  restecg  thalach  exang  oldpeak  slope  \\\n",
       "0   63    1   3       145   233    1        0      150      0      2.3      0   \n",
       "1   37    1   2       130   250    0        1      187      0      3.5      0   \n",
       "2   41    0   1       130   204    0        0      172      0      1.4      2   \n",
       "3   56    1   1       120   236    0        1      178      0      0.8      2   \n",
       "4   57    0   0       120   354    0        1      163      1      0.6      2   \n",
       "\n",
       "   ca  thal  target  \n",
       "0   0     1       1  \n",
       "1   0     2       1  \n",
       "2   0     2       1  \n",
       "3   0     2       1  \n",
       "4   0     2       1  "
      ]
     },
     "execution_count": 6,
     "metadata": {},
     "output_type": "execute_result"
    }
   ],
   "source": [
    "df.head()"
   ]
  },
  {
   "cell_type": "code",
   "execution_count": null,
   "id": "b3cd83f9",
   "metadata": {
    "execution": {
     "iopub.execute_input": "2021-10-22T13:39:09.290968Z",
     "iopub.status.busy": "2021-10-22T13:39:09.290235Z",
     "iopub.status.idle": "2021-10-22T13:39:09.293094Z",
     "shell.execute_reply": "2021-10-22T13:39:09.293513Z",
     "shell.execute_reply.started": "2021-10-22T13:18:39.287593Z"
    },
    "papermill": {
     "duration": 0.061109,
     "end_time": "2021-10-22T13:39:09.293640",
     "exception": false,
     "start_time": "2021-10-22T13:39:09.232531",
     "status": "completed"
    },
    "tags": []
   },
   "outputs": [
    {
     "data": {
      "text/html": [
       "<div>\n",
       "<style scoped>\n",
       "    .dataframe tbody tr th:only-of-type {\n",
       "        vertical-align: middle;\n",
       "    }\n",
       "\n",
       "    .dataframe tbody tr th {\n",
       "        vertical-align: top;\n",
       "    }\n",
       "\n",
       "    .dataframe thead th {\n",
       "        text-align: right;\n",
       "    }\n",
       "</style>\n",
       "<table border=\"1\" class=\"dataframe\">\n",
       "  <thead>\n",
       "    <tr style=\"text-align: right;\">\n",
       "      <th></th>\n",
       "      <th>age</th>\n",
       "      <th>sex</th>\n",
       "      <th>cp</th>\n",
       "      <th>trestbps</th>\n",
       "      <th>chol</th>\n",
       "      <th>fbs</th>\n",
       "      <th>restecg</th>\n",
       "      <th>thalach</th>\n",
       "      <th>exang</th>\n",
       "      <th>oldpeak</th>\n",
       "      <th>slope</th>\n",
       "      <th>ca</th>\n",
       "      <th>thal</th>\n",
       "      <th>target</th>\n",
       "    </tr>\n",
       "  </thead>\n",
       "  <tbody>\n",
       "    <tr>\n",
       "      <th>298</th>\n",
       "      <td>57</td>\n",
       "      <td>0</td>\n",
       "      <td>0</td>\n",
       "      <td>140</td>\n",
       "      <td>241</td>\n",
       "      <td>0</td>\n",
       "      <td>1</td>\n",
       "      <td>123</td>\n",
       "      <td>1</td>\n",
       "      <td>0.2</td>\n",
       "      <td>1</td>\n",
       "      <td>0</td>\n",
       "      <td>3</td>\n",
       "      <td>0</td>\n",
       "    </tr>\n",
       "    <tr>\n",
       "      <th>299</th>\n",
       "      <td>45</td>\n",
       "      <td>1</td>\n",
       "      <td>3</td>\n",
       "      <td>110</td>\n",
       "      <td>264</td>\n",
       "      <td>0</td>\n",
       "      <td>1</td>\n",
       "      <td>132</td>\n",
       "      <td>0</td>\n",
       "      <td>1.2</td>\n",
       "      <td>1</td>\n",
       "      <td>0</td>\n",
       "      <td>3</td>\n",
       "      <td>0</td>\n",
       "    </tr>\n",
       "    <tr>\n",
       "      <th>300</th>\n",
       "      <td>68</td>\n",
       "      <td>1</td>\n",
       "      <td>0</td>\n",
       "      <td>144</td>\n",
       "      <td>193</td>\n",
       "      <td>1</td>\n",
       "      <td>1</td>\n",
       "      <td>141</td>\n",
       "      <td>0</td>\n",
       "      <td>3.4</td>\n",
       "      <td>1</td>\n",
       "      <td>2</td>\n",
       "      <td>3</td>\n",
       "      <td>0</td>\n",
       "    </tr>\n",
       "    <tr>\n",
       "      <th>301</th>\n",
       "      <td>57</td>\n",
       "      <td>1</td>\n",
       "      <td>0</td>\n",
       "      <td>130</td>\n",
       "      <td>131</td>\n",
       "      <td>0</td>\n",
       "      <td>1</td>\n",
       "      <td>115</td>\n",
       "      <td>1</td>\n",
       "      <td>1.2</td>\n",
       "      <td>1</td>\n",
       "      <td>1</td>\n",
       "      <td>3</td>\n",
       "      <td>0</td>\n",
       "    </tr>\n",
       "    <tr>\n",
       "      <th>302</th>\n",
       "      <td>57</td>\n",
       "      <td>0</td>\n",
       "      <td>1</td>\n",
       "      <td>130</td>\n",
       "      <td>236</td>\n",
       "      <td>0</td>\n",
       "      <td>0</td>\n",
       "      <td>174</td>\n",
       "      <td>0</td>\n",
       "      <td>0.0</td>\n",
       "      <td>1</td>\n",
       "      <td>1</td>\n",
       "      <td>2</td>\n",
       "      <td>0</td>\n",
       "    </tr>\n",
       "  </tbody>\n",
       "</table>\n",
       "</div>"
      ],
      "text/plain": [
       "     age  sex  cp  trestbps  chol  fbs  restecg  thalach  exang  oldpeak  \\\n",
       "298   57    0   0       140   241    0        1      123      1      0.2   \n",
       "299   45    1   3       110   264    0        1      132      0      1.2   \n",
       "300   68    1   0       144   193    1        1      141      0      3.4   \n",
       "301   57    1   0       130   131    0        1      115      1      1.2   \n",
       "302   57    0   1       130   236    0        0      174      0      0.0   \n",
       "\n",
       "     slope  ca  thal  target  \n",
       "298      1   0     3       0  \n",
       "299      1   0     3       0  \n",
       "300      1   2     3       0  \n",
       "301      1   1     3       0  \n",
       "302      1   1     2       0  "
      ]
     },
     "execution_count": 7,
     "metadata": {},
     "output_type": "execute_result"
    }
   ],
   "source": [
    "df.tail()"
   ]
  },
  {
   "cell_type": "code",
   "execution_count": null,
   "id": "03046d40",
   "metadata": {
    "execution": {
     "iopub.execute_input": "2021-10-22T13:39:09.493632Z",
     "iopub.status.busy": "2021-10-22T13:39:09.492965Z",
     "iopub.status.idle": "2021-10-22T13:39:09.495576Z",
     "shell.execute_reply": "2021-10-22T13:39:09.496021Z",
     "shell.execute_reply.started": "2021-10-22T13:18:39.305391Z"
    },
    "papermill": {
     "duration": 0.122298,
     "end_time": "2021-10-22T13:39:09.496156",
     "exception": false,
     "start_time": "2021-10-22T13:39:09.373858",
     "status": "completed"
    },
    "tags": []
   },
   "outputs": [
    {
     "data": {
      "text/plain": [
       "(303, 14)"
      ]
     },
     "execution_count": 9,
     "metadata": {},
     "output_type": "execute_result"
    }
   ],
   "source": [
    "df.shape"
   ]
  },
  {
   "cell_type": "code",
   "execution_count": null,
   "id": "5c475732",
   "metadata": {
    "execution": {
     "iopub.execute_input": "2021-10-22T13:39:09.646533Z",
     "iopub.status.busy": "2021-10-22T13:39:09.645788Z",
     "iopub.status.idle": "2021-10-22T13:39:09.649016Z",
     "shell.execute_reply": "2021-10-22T13:39:09.649474Z",
     "shell.execute_reply.started": "2021-10-22T13:18:39.313402Z"
    },
    "papermill": {
     "duration": 0.084585,
     "end_time": "2021-10-22T13:39:09.649609",
     "exception": false,
     "start_time": "2021-10-22T13:39:09.565024",
     "status": "completed"
    },
    "tags": []
   },
   "outputs": [
    {
     "name": "stdout",
     "output_type": "stream",
     "text": [
      "<class 'pandas.core.frame.DataFrame'>\n",
      "RangeIndex: 303 entries, 0 to 302\n",
      "Data columns (total 14 columns):\n",
      " #   Column    Non-Null Count  Dtype  \n",
      "---  ------    --------------  -----  \n",
      " 0   age       303 non-null    int64  \n",
      " 1   sex       303 non-null    int64  \n",
      " 2   cp        303 non-null    int64  \n",
      " 3   trestbps  303 non-null    int64  \n",
      " 4   chol      303 non-null    int64  \n",
      " 5   fbs       303 non-null    int64  \n",
      " 6   restecg   303 non-null    int64  \n",
      " 7   thalach   303 non-null    int64  \n",
      " 8   exang     303 non-null    int64  \n",
      " 9   oldpeak   303 non-null    float64\n",
      " 10  slope     303 non-null    int64  \n",
      " 11  ca        303 non-null    int64  \n",
      " 12  thal      303 non-null    int64  \n",
      " 13  target    303 non-null    int64  \n",
      "dtypes: float64(1), int64(13)\n",
      "memory usage: 33.3 KB\n"
     ]
    }
   ],
   "source": [
    "df.info()"
   ]
  },
  {
   "cell_type": "code",
   "execution_count": null,
   "id": "7b0efb34",
   "metadata": {
    "execution": {
     "iopub.execute_input": "2021-10-22T13:39:09.757335Z",
     "iopub.status.busy": "2021-10-22T13:39:09.756458Z",
     "iopub.status.idle": "2021-10-22T13:39:09.793428Z",
     "shell.execute_reply": "2021-10-22T13:39:09.793863Z",
     "shell.execute_reply.started": "2021-10-22T13:18:39.334589Z"
    },
    "papermill": {
     "duration": 0.094519,
     "end_time": "2021-10-22T13:39:09.793998",
     "exception": false,
     "start_time": "2021-10-22T13:39:09.699479",
     "status": "completed"
    },
    "tags": []
   },
   "outputs": [
    {
     "data": {
      "text/html": [
       "<div>\n",
       "<style scoped>\n",
       "    .dataframe tbody tr th:only-of-type {\n",
       "        vertical-align: middle;\n",
       "    }\n",
       "\n",
       "    .dataframe tbody tr th {\n",
       "        vertical-align: top;\n",
       "    }\n",
       "\n",
       "    .dataframe thead th {\n",
       "        text-align: right;\n",
       "    }\n",
       "</style>\n",
       "<table border=\"1\" class=\"dataframe\">\n",
       "  <thead>\n",
       "    <tr style=\"text-align: right;\">\n",
       "      <th></th>\n",
       "      <th>age</th>\n",
       "      <th>sex</th>\n",
       "      <th>cp</th>\n",
       "      <th>trestbps</th>\n",
       "      <th>chol</th>\n",
       "      <th>fbs</th>\n",
       "      <th>restecg</th>\n",
       "      <th>thalach</th>\n",
       "      <th>exang</th>\n",
       "      <th>oldpeak</th>\n",
       "      <th>slope</th>\n",
       "      <th>ca</th>\n",
       "      <th>thal</th>\n",
       "      <th>target</th>\n",
       "    </tr>\n",
       "  </thead>\n",
       "  <tbody>\n",
       "    <tr>\n",
       "      <th>count</th>\n",
       "      <td>303.000000</td>\n",
       "      <td>303.000000</td>\n",
       "      <td>303.000000</td>\n",
       "      <td>303.000000</td>\n",
       "      <td>303.000000</td>\n",
       "      <td>303.000000</td>\n",
       "      <td>303.000000</td>\n",
       "      <td>303.000000</td>\n",
       "      <td>303.000000</td>\n",
       "      <td>303.000000</td>\n",
       "      <td>303.000000</td>\n",
       "      <td>303.000000</td>\n",
       "      <td>303.000000</td>\n",
       "      <td>303.000000</td>\n",
       "    </tr>\n",
       "    <tr>\n",
       "      <th>mean</th>\n",
       "      <td>54.366337</td>\n",
       "      <td>0.683168</td>\n",
       "      <td>0.966997</td>\n",
       "      <td>131.623762</td>\n",
       "      <td>246.264026</td>\n",
       "      <td>0.148515</td>\n",
       "      <td>0.528053</td>\n",
       "      <td>149.646865</td>\n",
       "      <td>0.326733</td>\n",
       "      <td>1.039604</td>\n",
       "      <td>1.399340</td>\n",
       "      <td>0.729373</td>\n",
       "      <td>2.313531</td>\n",
       "      <td>0.544554</td>\n",
       "    </tr>\n",
       "    <tr>\n",
       "      <th>std</th>\n",
       "      <td>9.082101</td>\n",
       "      <td>0.466011</td>\n",
       "      <td>1.032052</td>\n",
       "      <td>17.538143</td>\n",
       "      <td>51.830751</td>\n",
       "      <td>0.356198</td>\n",
       "      <td>0.525860</td>\n",
       "      <td>22.905161</td>\n",
       "      <td>0.469794</td>\n",
       "      <td>1.161075</td>\n",
       "      <td>0.616226</td>\n",
       "      <td>1.022606</td>\n",
       "      <td>0.612277</td>\n",
       "      <td>0.498835</td>\n",
       "    </tr>\n",
       "    <tr>\n",
       "      <th>min</th>\n",
       "      <td>29.000000</td>\n",
       "      <td>0.000000</td>\n",
       "      <td>0.000000</td>\n",
       "      <td>94.000000</td>\n",
       "      <td>126.000000</td>\n",
       "      <td>0.000000</td>\n",
       "      <td>0.000000</td>\n",
       "      <td>71.000000</td>\n",
       "      <td>0.000000</td>\n",
       "      <td>0.000000</td>\n",
       "      <td>0.000000</td>\n",
       "      <td>0.000000</td>\n",
       "      <td>0.000000</td>\n",
       "      <td>0.000000</td>\n",
       "    </tr>\n",
       "    <tr>\n",
       "      <th>25%</th>\n",
       "      <td>47.500000</td>\n",
       "      <td>0.000000</td>\n",
       "      <td>0.000000</td>\n",
       "      <td>120.000000</td>\n",
       "      <td>211.000000</td>\n",
       "      <td>0.000000</td>\n",
       "      <td>0.000000</td>\n",
       "      <td>133.500000</td>\n",
       "      <td>0.000000</td>\n",
       "      <td>0.000000</td>\n",
       "      <td>1.000000</td>\n",
       "      <td>0.000000</td>\n",
       "      <td>2.000000</td>\n",
       "      <td>0.000000</td>\n",
       "    </tr>\n",
       "    <tr>\n",
       "      <th>50%</th>\n",
       "      <td>55.000000</td>\n",
       "      <td>1.000000</td>\n",
       "      <td>1.000000</td>\n",
       "      <td>130.000000</td>\n",
       "      <td>240.000000</td>\n",
       "      <td>0.000000</td>\n",
       "      <td>1.000000</td>\n",
       "      <td>153.000000</td>\n",
       "      <td>0.000000</td>\n",
       "      <td>0.800000</td>\n",
       "      <td>1.000000</td>\n",
       "      <td>0.000000</td>\n",
       "      <td>2.000000</td>\n",
       "      <td>1.000000</td>\n",
       "    </tr>\n",
       "    <tr>\n",
       "      <th>75%</th>\n",
       "      <td>61.000000</td>\n",
       "      <td>1.000000</td>\n",
       "      <td>2.000000</td>\n",
       "      <td>140.000000</td>\n",
       "      <td>274.500000</td>\n",
       "      <td>0.000000</td>\n",
       "      <td>1.000000</td>\n",
       "      <td>166.000000</td>\n",
       "      <td>1.000000</td>\n",
       "      <td>1.600000</td>\n",
       "      <td>2.000000</td>\n",
       "      <td>1.000000</td>\n",
       "      <td>3.000000</td>\n",
       "      <td>1.000000</td>\n",
       "    </tr>\n",
       "    <tr>\n",
       "      <th>max</th>\n",
       "      <td>77.000000</td>\n",
       "      <td>1.000000</td>\n",
       "      <td>3.000000</td>\n",
       "      <td>200.000000</td>\n",
       "      <td>564.000000</td>\n",
       "      <td>1.000000</td>\n",
       "      <td>2.000000</td>\n",
       "      <td>202.000000</td>\n",
       "      <td>1.000000</td>\n",
       "      <td>6.200000</td>\n",
       "      <td>2.000000</td>\n",
       "      <td>4.000000</td>\n",
       "      <td>3.000000</td>\n",
       "      <td>1.000000</td>\n",
       "    </tr>\n",
       "  </tbody>\n",
       "</table>\n",
       "</div>"
      ],
      "text/plain": [
       "              age         sex          cp    trestbps        chol         fbs  \\\n",
       "count  303.000000  303.000000  303.000000  303.000000  303.000000  303.000000   \n",
       "mean    54.366337    0.683168    0.966997  131.623762  246.264026    0.148515   \n",
       "std      9.082101    0.466011    1.032052   17.538143   51.830751    0.356198   \n",
       "min     29.000000    0.000000    0.000000   94.000000  126.000000    0.000000   \n",
       "25%     47.500000    0.000000    0.000000  120.000000  211.000000    0.000000   \n",
       "50%     55.000000    1.000000    1.000000  130.000000  240.000000    0.000000   \n",
       "75%     61.000000    1.000000    2.000000  140.000000  274.500000    0.000000   \n",
       "max     77.000000    1.000000    3.000000  200.000000  564.000000    1.000000   \n",
       "\n",
       "          restecg     thalach       exang     oldpeak       slope          ca  \\\n",
       "count  303.000000  303.000000  303.000000  303.000000  303.000000  303.000000   \n",
       "mean     0.528053  149.646865    0.326733    1.039604    1.399340    0.729373   \n",
       "std      0.525860   22.905161    0.469794    1.161075    0.616226    1.022606   \n",
       "min      0.000000   71.000000    0.000000    0.000000    0.000000    0.000000   \n",
       "25%      0.000000  133.500000    0.000000    0.000000    1.000000    0.000000   \n",
       "50%      1.000000  153.000000    0.000000    0.800000    1.000000    0.000000   \n",
       "75%      1.000000  166.000000    1.000000    1.600000    2.000000    1.000000   \n",
       "max      2.000000  202.000000    1.000000    6.200000    2.000000    4.000000   \n",
       "\n",
       "             thal      target  \n",
       "count  303.000000  303.000000  \n",
       "mean     2.313531    0.544554  \n",
       "std      0.612277    0.498835  \n",
       "min      0.000000    0.000000  \n",
       "25%      2.000000    0.000000  \n",
       "50%      2.000000    1.000000  \n",
       "75%      3.000000    1.000000  \n",
       "max      3.000000    1.000000  "
      ]
     },
     "execution_count": 11,
     "metadata": {},
     "output_type": "execute_result"
    }
   ],
   "source": [
    "df.describe()"
   ]
  },
  {
   "cell_type": "markdown",
   "id": "db43537a",
   "metadata": {
    "papermill": {
     "duration": 0.049079,
     "end_time": "2021-10-22T13:39:09.893272",
     "exception": false,
     "start_time": "2021-10-22T13:39:09.844193",
     "status": "completed"
    },
    "tags": []
   },
   "source": [
    "# dtale lib is very help full for automation EDA and very fast"
   ]
  },
  {
   "cell_type": "code",
   "execution_count": null,
   "id": "da43e5c0",
   "metadata": {
    "execution": {
     "iopub.execute_input": "2021-10-22T13:39:09.994120Z",
     "iopub.status.busy": "2021-10-22T13:39:09.992396Z",
     "iopub.status.idle": "2021-10-22T13:39:09.994726Z",
     "shell.execute_reply": "2021-10-22T13:39:09.995166Z",
     "shell.execute_reply.started": "2021-10-22T13:18:39.386204Z"
    },
    "papermill": {
     "duration": 0.054157,
     "end_time": "2021-10-22T13:39:09.995296",
     "exception": false,
     "start_time": "2021-10-22T13:39:09.941139",
     "status": "completed"
    },
    "tags": []
   },
   "outputs": [],
   "source": [
    "df2=df"
   ]
  },
  {
   "cell_type": "code",
   "execution_count": null,
   "id": "715586b2",
   "metadata": {
    "execution": {
     "iopub.execute_input": "2021-10-22T13:39:10.095256Z",
     "iopub.status.busy": "2021-10-22T13:39:10.094462Z",
     "iopub.status.idle": "2021-10-22T13:39:10.096405Z",
     "shell.execute_reply": "2021-10-22T13:39:10.096843Z",
     "shell.execute_reply.started": "2021-10-22T13:18:39.391967Z"
    },
    "papermill": {
     "duration": 0.053564,
     "end_time": "2021-10-22T13:39:10.096971",
     "exception": false,
     "start_time": "2021-10-22T13:39:10.043407",
     "status": "completed"
    },
    "tags": []
   },
   "outputs": [],
   "source": [
    "#!pip install dtale"
   ]
  },
  {
   "cell_type": "code",
   "execution_count": null,
   "id": "f6d2cab2",
   "metadata": {
    "execution": {
     "iopub.execute_input": "2021-10-22T13:39:10.205229Z",
     "iopub.status.busy": "2021-10-22T13:39:10.204520Z",
     "iopub.status.idle": "2021-10-22T13:39:10.206701Z",
     "shell.execute_reply": "2021-10-22T13:39:10.207117Z",
     "shell.execute_reply.started": "2021-10-22T13:18:39.401063Z"
    },
    "papermill": {
     "duration": 0.053976,
     "end_time": "2021-10-22T13:39:10.207248",
     "exception": false,
     "start_time": "2021-10-22T13:39:10.153272",
     "status": "completed"
    },
    "tags": []
   },
   "outputs": [],
   "source": [
    "#import dtale"
   ]
  },
  {
   "cell_type": "code",
   "execution_count": null,
   "id": "b4b3089d",
   "metadata": {
    "execution": {
     "iopub.execute_input": "2021-10-22T13:39:10.307092Z",
     "iopub.status.busy": "2021-10-22T13:39:10.306312Z",
     "iopub.status.idle": "2021-10-22T13:39:10.308690Z",
     "shell.execute_reply": "2021-10-22T13:39:10.308268Z",
     "shell.execute_reply.started": "2021-10-22T13:18:39.407959Z"
    },
    "papermill": {
     "duration": 0.053334,
     "end_time": "2021-10-22T13:39:10.308793",
     "exception": false,
     "start_time": "2021-10-22T13:39:10.255459",
     "status": "completed"
    },
    "tags": []
   },
   "outputs": [],
   "source": [
    "#dtale.show(df2)"
   ]
  },
  {
   "cell_type": "markdown",
   "id": "cdb7a11c",
   "metadata": {
    "papermill": {
     "duration": 0.047849,
     "end_time": "2021-10-22T13:39:10.405152",
     "exception": false,
     "start_time": "2021-10-22T13:39:10.357303",
     "status": "completed"
    },
    "tags": []
   },
   "source": [
    "# Now check Correlation"
   ]
  },
  {
   "cell_type": "code",
   "execution_count": null,
   "id": "2e4317bb",
   "metadata": {
    "execution": {
     "iopub.execute_input": "2021-10-22T13:39:10.507257Z",
     "iopub.status.busy": "2021-10-22T13:39:10.506454Z",
     "iopub.status.idle": "2021-10-22T13:39:10.525315Z",
     "shell.execute_reply": "2021-10-22T13:39:10.525687Z",
     "shell.execute_reply.started": "2021-10-22T13:18:39.415909Z"
    },
    "papermill": {
     "duration": 0.072537,
     "end_time": "2021-10-22T13:39:10.525835",
     "exception": false,
     "start_time": "2021-10-22T13:39:10.453298",
     "status": "completed"
    },
    "tags": []
   },
   "outputs": [
    {
     "data": {
      "text/html": [
       "<div>\n",
       "<style scoped>\n",
       "    .dataframe tbody tr th:only-of-type {\n",
       "        vertical-align: middle;\n",
       "    }\n",
       "\n",
       "    .dataframe tbody tr th {\n",
       "        vertical-align: top;\n",
       "    }\n",
       "\n",
       "    .dataframe thead th {\n",
       "        text-align: right;\n",
       "    }\n",
       "</style>\n",
       "<table border=\"1\" class=\"dataframe\">\n",
       "  <thead>\n",
       "    <tr style=\"text-align: right;\">\n",
       "      <th></th>\n",
       "      <th>age</th>\n",
       "      <th>sex</th>\n",
       "      <th>cp</th>\n",
       "      <th>trestbps</th>\n",
       "      <th>chol</th>\n",
       "      <th>fbs</th>\n",
       "      <th>restecg</th>\n",
       "      <th>thalach</th>\n",
       "      <th>exang</th>\n",
       "      <th>oldpeak</th>\n",
       "      <th>slope</th>\n",
       "      <th>ca</th>\n",
       "      <th>thal</th>\n",
       "      <th>target</th>\n",
       "    </tr>\n",
       "  </thead>\n",
       "  <tbody>\n",
       "    <tr>\n",
       "      <th>age</th>\n",
       "      <td>1.000000</td>\n",
       "      <td>-0.098447</td>\n",
       "      <td>-0.068653</td>\n",
       "      <td>0.279351</td>\n",
       "      <td>0.213678</td>\n",
       "      <td>0.121308</td>\n",
       "      <td>-0.116211</td>\n",
       "      <td>-0.398522</td>\n",
       "      <td>0.096801</td>\n",
       "      <td>0.210013</td>\n",
       "      <td>-0.168814</td>\n",
       "      <td>0.276326</td>\n",
       "      <td>0.068001</td>\n",
       "      <td>-0.225439</td>\n",
       "    </tr>\n",
       "    <tr>\n",
       "      <th>sex</th>\n",
       "      <td>-0.098447</td>\n",
       "      <td>1.000000</td>\n",
       "      <td>-0.049353</td>\n",
       "      <td>-0.056769</td>\n",
       "      <td>-0.197912</td>\n",
       "      <td>0.045032</td>\n",
       "      <td>-0.058196</td>\n",
       "      <td>-0.044020</td>\n",
       "      <td>0.141664</td>\n",
       "      <td>0.096093</td>\n",
       "      <td>-0.030711</td>\n",
       "      <td>0.118261</td>\n",
       "      <td>0.210041</td>\n",
       "      <td>-0.280937</td>\n",
       "    </tr>\n",
       "    <tr>\n",
       "      <th>cp</th>\n",
       "      <td>-0.068653</td>\n",
       "      <td>-0.049353</td>\n",
       "      <td>1.000000</td>\n",
       "      <td>0.047608</td>\n",
       "      <td>-0.076904</td>\n",
       "      <td>0.094444</td>\n",
       "      <td>0.044421</td>\n",
       "      <td>0.295762</td>\n",
       "      <td>-0.394280</td>\n",
       "      <td>-0.149230</td>\n",
       "      <td>0.119717</td>\n",
       "      <td>-0.181053</td>\n",
       "      <td>-0.161736</td>\n",
       "      <td>0.433798</td>\n",
       "    </tr>\n",
       "    <tr>\n",
       "      <th>trestbps</th>\n",
       "      <td>0.279351</td>\n",
       "      <td>-0.056769</td>\n",
       "      <td>0.047608</td>\n",
       "      <td>1.000000</td>\n",
       "      <td>0.123174</td>\n",
       "      <td>0.177531</td>\n",
       "      <td>-0.114103</td>\n",
       "      <td>-0.046698</td>\n",
       "      <td>0.067616</td>\n",
       "      <td>0.193216</td>\n",
       "      <td>-0.121475</td>\n",
       "      <td>0.101389</td>\n",
       "      <td>0.062210</td>\n",
       "      <td>-0.144931</td>\n",
       "    </tr>\n",
       "    <tr>\n",
       "      <th>chol</th>\n",
       "      <td>0.213678</td>\n",
       "      <td>-0.197912</td>\n",
       "      <td>-0.076904</td>\n",
       "      <td>0.123174</td>\n",
       "      <td>1.000000</td>\n",
       "      <td>0.013294</td>\n",
       "      <td>-0.151040</td>\n",
       "      <td>-0.009940</td>\n",
       "      <td>0.067023</td>\n",
       "      <td>0.053952</td>\n",
       "      <td>-0.004038</td>\n",
       "      <td>0.070511</td>\n",
       "      <td>0.098803</td>\n",
       "      <td>-0.085239</td>\n",
       "    </tr>\n",
       "    <tr>\n",
       "      <th>fbs</th>\n",
       "      <td>0.121308</td>\n",
       "      <td>0.045032</td>\n",
       "      <td>0.094444</td>\n",
       "      <td>0.177531</td>\n",
       "      <td>0.013294</td>\n",
       "      <td>1.000000</td>\n",
       "      <td>-0.084189</td>\n",
       "      <td>-0.008567</td>\n",
       "      <td>0.025665</td>\n",
       "      <td>0.005747</td>\n",
       "      <td>-0.059894</td>\n",
       "      <td>0.137979</td>\n",
       "      <td>-0.032019</td>\n",
       "      <td>-0.028046</td>\n",
       "    </tr>\n",
       "    <tr>\n",
       "      <th>restecg</th>\n",
       "      <td>-0.116211</td>\n",
       "      <td>-0.058196</td>\n",
       "      <td>0.044421</td>\n",
       "      <td>-0.114103</td>\n",
       "      <td>-0.151040</td>\n",
       "      <td>-0.084189</td>\n",
       "      <td>1.000000</td>\n",
       "      <td>0.044123</td>\n",
       "      <td>-0.070733</td>\n",
       "      <td>-0.058770</td>\n",
       "      <td>0.093045</td>\n",
       "      <td>-0.072042</td>\n",
       "      <td>-0.011981</td>\n",
       "      <td>0.137230</td>\n",
       "    </tr>\n",
       "    <tr>\n",
       "      <th>thalach</th>\n",
       "      <td>-0.398522</td>\n",
       "      <td>-0.044020</td>\n",
       "      <td>0.295762</td>\n",
       "      <td>-0.046698</td>\n",
       "      <td>-0.009940</td>\n",
       "      <td>-0.008567</td>\n",
       "      <td>0.044123</td>\n",
       "      <td>1.000000</td>\n",
       "      <td>-0.378812</td>\n",
       "      <td>-0.344187</td>\n",
       "      <td>0.386784</td>\n",
       "      <td>-0.213177</td>\n",
       "      <td>-0.096439</td>\n",
       "      <td>0.421741</td>\n",
       "    </tr>\n",
       "    <tr>\n",
       "      <th>exang</th>\n",
       "      <td>0.096801</td>\n",
       "      <td>0.141664</td>\n",
       "      <td>-0.394280</td>\n",
       "      <td>0.067616</td>\n",
       "      <td>0.067023</td>\n",
       "      <td>0.025665</td>\n",
       "      <td>-0.070733</td>\n",
       "      <td>-0.378812</td>\n",
       "      <td>1.000000</td>\n",
       "      <td>0.288223</td>\n",
       "      <td>-0.257748</td>\n",
       "      <td>0.115739</td>\n",
       "      <td>0.206754</td>\n",
       "      <td>-0.436757</td>\n",
       "    </tr>\n",
       "    <tr>\n",
       "      <th>oldpeak</th>\n",
       "      <td>0.210013</td>\n",
       "      <td>0.096093</td>\n",
       "      <td>-0.149230</td>\n",
       "      <td>0.193216</td>\n",
       "      <td>0.053952</td>\n",
       "      <td>0.005747</td>\n",
       "      <td>-0.058770</td>\n",
       "      <td>-0.344187</td>\n",
       "      <td>0.288223</td>\n",
       "      <td>1.000000</td>\n",
       "      <td>-0.577537</td>\n",
       "      <td>0.222682</td>\n",
       "      <td>0.210244</td>\n",
       "      <td>-0.430696</td>\n",
       "    </tr>\n",
       "    <tr>\n",
       "      <th>slope</th>\n",
       "      <td>-0.168814</td>\n",
       "      <td>-0.030711</td>\n",
       "      <td>0.119717</td>\n",
       "      <td>-0.121475</td>\n",
       "      <td>-0.004038</td>\n",
       "      <td>-0.059894</td>\n",
       "      <td>0.093045</td>\n",
       "      <td>0.386784</td>\n",
       "      <td>-0.257748</td>\n",
       "      <td>-0.577537</td>\n",
       "      <td>1.000000</td>\n",
       "      <td>-0.080155</td>\n",
       "      <td>-0.104764</td>\n",
       "      <td>0.345877</td>\n",
       "    </tr>\n",
       "    <tr>\n",
       "      <th>ca</th>\n",
       "      <td>0.276326</td>\n",
       "      <td>0.118261</td>\n",
       "      <td>-0.181053</td>\n",
       "      <td>0.101389</td>\n",
       "      <td>0.070511</td>\n",
       "      <td>0.137979</td>\n",
       "      <td>-0.072042</td>\n",
       "      <td>-0.213177</td>\n",
       "      <td>0.115739</td>\n",
       "      <td>0.222682</td>\n",
       "      <td>-0.080155</td>\n",
       "      <td>1.000000</td>\n",
       "      <td>0.151832</td>\n",
       "      <td>-0.391724</td>\n",
       "    </tr>\n",
       "    <tr>\n",
       "      <th>thal</th>\n",
       "      <td>0.068001</td>\n",
       "      <td>0.210041</td>\n",
       "      <td>-0.161736</td>\n",
       "      <td>0.062210</td>\n",
       "      <td>0.098803</td>\n",
       "      <td>-0.032019</td>\n",
       "      <td>-0.011981</td>\n",
       "      <td>-0.096439</td>\n",
       "      <td>0.206754</td>\n",
       "      <td>0.210244</td>\n",
       "      <td>-0.104764</td>\n",
       "      <td>0.151832</td>\n",
       "      <td>1.000000</td>\n",
       "      <td>-0.344029</td>\n",
       "    </tr>\n",
       "    <tr>\n",
       "      <th>target</th>\n",
       "      <td>-0.225439</td>\n",
       "      <td>-0.280937</td>\n",
       "      <td>0.433798</td>\n",
       "      <td>-0.144931</td>\n",
       "      <td>-0.085239</td>\n",
       "      <td>-0.028046</td>\n",
       "      <td>0.137230</td>\n",
       "      <td>0.421741</td>\n",
       "      <td>-0.436757</td>\n",
       "      <td>-0.430696</td>\n",
       "      <td>0.345877</td>\n",
       "      <td>-0.391724</td>\n",
       "      <td>-0.344029</td>\n",
       "      <td>1.000000</td>\n",
       "    </tr>\n",
       "  </tbody>\n",
       "</table>\n",
       "</div>"
      ],
      "text/plain": [
       "               age       sex        cp  trestbps      chol       fbs  \\\n",
       "age       1.000000 -0.098447 -0.068653  0.279351  0.213678  0.121308   \n",
       "sex      -0.098447  1.000000 -0.049353 -0.056769 -0.197912  0.045032   \n",
       "cp       -0.068653 -0.049353  1.000000  0.047608 -0.076904  0.094444   \n",
       "trestbps  0.279351 -0.056769  0.047608  1.000000  0.123174  0.177531   \n",
       "chol      0.213678 -0.197912 -0.076904  0.123174  1.000000  0.013294   \n",
       "fbs       0.121308  0.045032  0.094444  0.177531  0.013294  1.000000   \n",
       "restecg  -0.116211 -0.058196  0.044421 -0.114103 -0.151040 -0.084189   \n",
       "thalach  -0.398522 -0.044020  0.295762 -0.046698 -0.009940 -0.008567   \n",
       "exang     0.096801  0.141664 -0.394280  0.067616  0.067023  0.025665   \n",
       "oldpeak   0.210013  0.096093 -0.149230  0.193216  0.053952  0.005747   \n",
       "slope    -0.168814 -0.030711  0.119717 -0.121475 -0.004038 -0.059894   \n",
       "ca        0.276326  0.118261 -0.181053  0.101389  0.070511  0.137979   \n",
       "thal      0.068001  0.210041 -0.161736  0.062210  0.098803 -0.032019   \n",
       "target   -0.225439 -0.280937  0.433798 -0.144931 -0.085239 -0.028046   \n",
       "\n",
       "           restecg   thalach     exang   oldpeak     slope        ca  \\\n",
       "age      -0.116211 -0.398522  0.096801  0.210013 -0.168814  0.276326   \n",
       "sex      -0.058196 -0.044020  0.141664  0.096093 -0.030711  0.118261   \n",
       "cp        0.044421  0.295762 -0.394280 -0.149230  0.119717 -0.181053   \n",
       "trestbps -0.114103 -0.046698  0.067616  0.193216 -0.121475  0.101389   \n",
       "chol     -0.151040 -0.009940  0.067023  0.053952 -0.004038  0.070511   \n",
       "fbs      -0.084189 -0.008567  0.025665  0.005747 -0.059894  0.137979   \n",
       "restecg   1.000000  0.044123 -0.070733 -0.058770  0.093045 -0.072042   \n",
       "thalach   0.044123  1.000000 -0.378812 -0.344187  0.386784 -0.213177   \n",
       "exang    -0.070733 -0.378812  1.000000  0.288223 -0.257748  0.115739   \n",
       "oldpeak  -0.058770 -0.344187  0.288223  1.000000 -0.577537  0.222682   \n",
       "slope     0.093045  0.386784 -0.257748 -0.577537  1.000000 -0.080155   \n",
       "ca       -0.072042 -0.213177  0.115739  0.222682 -0.080155  1.000000   \n",
       "thal     -0.011981 -0.096439  0.206754  0.210244 -0.104764  0.151832   \n",
       "target    0.137230  0.421741 -0.436757 -0.430696  0.345877 -0.391724   \n",
       "\n",
       "              thal    target  \n",
       "age       0.068001 -0.225439  \n",
       "sex       0.210041 -0.280937  \n",
       "cp       -0.161736  0.433798  \n",
       "trestbps  0.062210 -0.144931  \n",
       "chol      0.098803 -0.085239  \n",
       "fbs      -0.032019 -0.028046  \n",
       "restecg  -0.011981  0.137230  \n",
       "thalach  -0.096439  0.421741  \n",
       "exang     0.206754 -0.436757  \n",
       "oldpeak   0.210244 -0.430696  \n",
       "slope    -0.104764  0.345877  \n",
       "ca        0.151832 -0.391724  \n",
       "thal      1.000000 -0.344029  \n",
       "target   -0.344029  1.000000  "
      ]
     },
     "execution_count": 17,
     "metadata": {},
     "output_type": "execute_result"
    }
   ],
   "source": [
    "df.corr()"
   ]
  },
  {
   "cell_type": "markdown",
   "id": "e1806a0b",
   "metadata": {
    "papermill": {
     "duration": 0.048613,
     "end_time": "2021-10-22T13:39:10.623734",
     "exception": false,
     "start_time": "2021-10-22T13:39:10.575121",
     "status": "completed"
    },
    "tags": []
   },
   "source": [
    "# Now Use Klib lib for Check for data and also See Plots and Preprossing.\n",
    "# This Lib also help to perform auto EDA and its also very quick and fast lib to perform some specific task"
   ]
  },
  {
   "cell_type": "code",
   "execution_count": null,
   "id": "a7386773",
   "metadata": {
    "execution": {
     "iopub.execute_input": "2021-10-22T13:39:10.726304Z",
     "iopub.status.busy": "2021-10-22T13:39:10.725504Z",
     "iopub.status.idle": "2021-10-22T13:39:10.727575Z",
     "shell.execute_reply": "2021-10-22T13:39:10.727975Z",
     "shell.execute_reply.started": "2021-10-22T13:18:39.449406Z"
    },
    "papermill": {
     "duration": 0.05442,
     "end_time": "2021-10-22T13:39:10.728117",
     "exception": false,
     "start_time": "2021-10-22T13:39:10.673697",
     "status": "completed"
    },
    "tags": []
   },
   "outputs": [],
   "source": [
    "# firstly install klib\n",
    "#!pip install klib"
   ]
  },
  {
   "cell_type": "markdown",
   "id": "30230655",
   "metadata": {
    "papermill": {
     "duration": 0.051138,
     "end_time": "2021-10-22T13:39:10.828211",
     "exception": false,
     "start_time": "2021-10-22T13:39:10.777073",
     "status": "completed"
    },
    "tags": []
   },
   "source": [
    "# klib.describe - functions for visualizing datasets\n",
    "- klib.cat_plot(df) # returns a visualization of the number and frequency of categorical features\n",
    "- klib.corr_mat(df) # returns a color-encoded correlation matrix\n",
    "- klib.corr_plot(df) # returns a color-encoded heatmap, ideal for correlations\n",
    "- klib.dist_plot(df) # returns a distribution plot for every numeric feature\n",
    "- klib.missingval_plot(df) # returns a figure containing information about missing values\n",
    "\n",
    "# klib.clean - functions for cleaning datasets\n",
    "- klib.data_cleaning(df) # performs datacleaning (drop duplicates & empty rows/cols, adjust dtypes,...)\n",
    "- klib.clean_column_names(df) # cleans and standardizes column names, also called inside data_cleaning()\n",
    "- klib.convert_datatypes(df) # converts existing to more efficient dtypes, also called inside data_cleaning()\n",
    "- klib.drop_missing(df) # drops missing values, also called in data_cleaning()\n",
    "- klib.mv_col_handling(df) # drops features with high ratio of missing vals based on informational content\n",
    "- klib.pool_duplicate_subsets(df) # pools subset of cols based on duplicates with min. loss of information\n",
    "\n",
    "# klib.preprocess - functions for data preprocessing (feature selection, scaling, ...)\n",
    "- klib.train_dev_test_split(df) # splits a dataset and a label into train, optionally dev and test sets\n",
    "- klib.feature_selection_pipe() # provides common operations for feature selection\n",
    "- klib.num_pipe() # provides common operations for preprocessing of numerical data\n",
    "- klib.cat_pipe() # provides common operations for preprocessing of categorical data\n",
    "- klib.preprocess.ColumnSelector() # selects num or cat columns, ideal for a Feature Union or Pipeline\n",
    "- klib.preprocess.PipeInfo() # prints out the shape of the data at the specified step of a Pipeline"
   ]
  },
  {
   "cell_type": "code",
   "execution_count": null,
   "id": "28c3b075",
   "metadata": {
    "execution": {
     "iopub.execute_input": "2021-10-22T13:39:10.931750Z",
     "iopub.status.busy": "2021-10-22T13:39:10.930933Z",
     "iopub.status.idle": "2021-10-22T13:39:10.933464Z",
     "shell.execute_reply": "2021-10-22T13:39:10.932967Z",
     "shell.execute_reply.started": "2021-10-22T13:18:39.456391Z"
    },
    "papermill": {
     "duration": 0.055812,
     "end_time": "2021-10-22T13:39:10.933570",
     "exception": false,
     "start_time": "2021-10-22T13:39:10.877758",
     "status": "completed"
    },
    "tags": []
   },
   "outputs": [],
   "source": [
    "#import klib.describe "
   ]
  },
  {
   "cell_type": "code",
   "execution_count": null,
   "id": "c1c0511c",
   "metadata": {
    "execution": {
     "iopub.execute_input": "2021-10-22T13:39:11.035851Z",
     "iopub.status.busy": "2021-10-22T13:39:11.035109Z",
     "iopub.status.idle": "2021-10-22T13:39:11.037837Z",
     "shell.execute_reply": "2021-10-22T13:39:11.037367Z",
     "shell.execute_reply.started": "2021-10-22T13:18:39.463111Z"
    },
    "papermill": {
     "duration": 0.055418,
     "end_time": "2021-10-22T13:39:11.037961",
     "exception": false,
     "start_time": "2021-10-22T13:39:10.982543",
     "status": "completed"
    },
    "tags": []
   },
   "outputs": [],
   "source": [
    "#df3=df"
   ]
  },
  {
   "cell_type": "code",
   "execution_count": null,
   "id": "1c3edaf7",
   "metadata": {
    "execution": {
     "iopub.execute_input": "2021-10-22T13:39:11.157353Z",
     "iopub.status.busy": "2021-10-22T13:39:11.156648Z",
     "iopub.status.idle": "2021-10-22T13:39:11.158346Z",
     "shell.execute_reply": "2021-10-22T13:39:11.157895Z",
     "shell.execute_reply.started": "2021-10-22T13:18:39.471791Z"
    },
    "papermill": {
     "duration": 0.070699,
     "end_time": "2021-10-22T13:39:11.158454",
     "exception": false,
     "start_time": "2021-10-22T13:39:11.087755",
     "status": "completed"
    },
    "tags": []
   },
   "outputs": [],
   "source": [
    "#klib.corr_mat(df3)"
   ]
  },
  {
   "cell_type": "code",
   "execution_count": null,
   "id": "bfca78f0",
   "metadata": {
    "execution": {
     "iopub.execute_input": "2021-10-22T13:39:11.339143Z",
     "iopub.status.busy": "2021-10-22T13:39:11.338145Z",
     "iopub.status.idle": "2021-10-22T13:39:11.340558Z",
     "shell.execute_reply": "2021-10-22T13:39:11.339893Z",
     "shell.execute_reply.started": "2021-10-22T13:18:39.479441Z"
    },
    "papermill": {
     "duration": 0.089935,
     "end_time": "2021-10-22T13:39:11.340723",
     "exception": false,
     "start_time": "2021-10-22T13:39:11.250788",
     "status": "completed"
    },
    "tags": []
   },
   "outputs": [],
   "source": [
    "#klib.corr_plot(df3)"
   ]
  },
  {
   "cell_type": "code",
   "execution_count": null,
   "id": "84e3da7e",
   "metadata": {
    "execution": {
     "iopub.execute_input": "2021-10-22T13:39:11.506353Z",
     "iopub.status.busy": "2021-10-22T13:39:11.505485Z",
     "iopub.status.idle": "2021-10-22T13:39:11.507746Z",
     "shell.execute_reply": "2021-10-22T13:39:11.507079Z",
     "shell.execute_reply.started": "2021-10-22T13:18:39.487294Z"
    },
    "papermill": {
     "duration": 0.087505,
     "end_time": "2021-10-22T13:39:11.507912",
     "exception": false,
     "start_time": "2021-10-22T13:39:11.420407",
     "status": "completed"
    },
    "tags": []
   },
   "outputs": [],
   "source": [
    "#klib.dist_plot(df3)"
   ]
  },
  {
   "cell_type": "code",
   "execution_count": null,
   "id": "bfded59f",
   "metadata": {
    "execution": {
     "iopub.execute_input": "2021-10-22T13:39:11.675606Z",
     "iopub.status.busy": "2021-10-22T13:39:11.674745Z",
     "iopub.status.idle": "2021-10-22T13:39:11.676960Z",
     "shell.execute_reply": "2021-10-22T13:39:11.676304Z",
     "shell.execute_reply.started": "2021-10-22T13:18:39.494356Z"
    },
    "papermill": {
     "duration": 0.088493,
     "end_time": "2021-10-22T13:39:11.677121",
     "exception": false,
     "start_time": "2021-10-22T13:39:11.588628",
     "status": "completed"
    },
    "tags": []
   },
   "outputs": [],
   "source": [
    "#import klib.clean"
   ]
  },
  {
   "cell_type": "code",
   "execution_count": null,
   "id": "3886e2d9",
   "metadata": {
    "execution": {
     "iopub.execute_input": "2021-10-22T13:39:11.790127Z",
     "iopub.status.busy": "2021-10-22T13:39:11.789372Z",
     "iopub.status.idle": "2021-10-22T13:39:11.792091Z",
     "shell.execute_reply": "2021-10-22T13:39:11.791612Z",
     "shell.execute_reply.started": "2021-10-22T13:18:39.503286Z"
    },
    "papermill": {
     "duration": 0.055103,
     "end_time": "2021-10-22T13:39:11.792208",
     "exception": false,
     "start_time": "2021-10-22T13:39:11.737105",
     "status": "completed"
    },
    "tags": []
   },
   "outputs": [],
   "source": [
    "#klib.data_cleaning(df3)"
   ]
  },
  {
   "cell_type": "markdown",
   "id": "e76b00d0",
   "metadata": {
    "papermill": {
     "duration": 0.048871,
     "end_time": "2021-10-22T13:39:11.890315",
     "exception": false,
     "start_time": "2021-10-22T13:39:11.841444",
     "status": "completed"
    },
    "tags": []
   },
   "source": [
    "# Normalization"
   ]
  },
  {
   "cell_type": "code",
   "execution_count": null,
   "id": "8b508860",
   "metadata": {
    "execution": {
     "iopub.execute_input": "2021-10-22T13:39:12.159235Z",
     "iopub.status.busy": "2021-10-22T13:39:12.121691Z",
     "iopub.status.idle": "2021-10-22T13:39:12.787531Z",
     "shell.execute_reply": "2021-10-22T13:39:12.786611Z",
     "shell.execute_reply.started": "2021-10-22T13:18:39.510288Z"
    },
    "papermill": {
     "duration": 0.848712,
     "end_time": "2021-10-22T13:39:12.787676",
     "exception": false,
     "start_time": "2021-10-22T13:39:11.938964",
     "status": "completed"
    },
    "tags": []
   },
   "outputs": [],
   "source": [
    "for i in df.columns:\n",
    "    for each in df[i].values:\n",
    "        \n",
    "        if each > 1 or each < -1:\n",
    "            df[i] = (df[i] - np.min(df[i]))/(np.max(df[i]) - np.min(df[i]))\n",
    "        else:\n",
    "            pass"
   ]
  },
  {
   "cell_type": "code",
   "execution_count": null,
   "id": "3410c0b4",
   "metadata": {
    "execution": {
     "iopub.execute_input": "2021-10-22T13:39:12.894460Z",
     "iopub.status.busy": "2021-10-22T13:39:12.893603Z",
     "iopub.status.idle": "2021-10-22T13:39:12.895378Z",
     "shell.execute_reply": "2021-10-22T13:39:12.895791Z",
     "shell.execute_reply.started": "2021-10-22T13:18:40.438999Z"
    },
    "papermill": {
     "duration": 0.058434,
     "end_time": "2021-10-22T13:39:12.895939",
     "exception": false,
     "start_time": "2021-10-22T13:39:12.837505",
     "status": "completed"
    },
    "tags": []
   },
   "outputs": [],
   "source": [
    "y = df[\"target\"]\n",
    "X = df.drop([\"target\"],axis = 1)"
   ]
  },
  {
   "cell_type": "markdown",
   "id": "ad815343",
   "metadata": {
    "papermill": {
     "duration": 0.049075,
     "end_time": "2021-10-22T13:39:12.995795",
     "exception": false,
     "start_time": "2021-10-22T13:39:12.946720",
     "status": "completed"
    },
    "tags": []
   },
   "source": [
    "# Now Train Test Split"
   ]
  },
  {
   "cell_type": "code",
   "execution_count": null,
   "id": "32d862dc",
   "metadata": {
    "execution": {
     "iopub.execute_input": "2021-10-22T13:39:13.098763Z",
     "iopub.status.busy": "2021-10-22T13:39:13.098093Z",
     "iopub.status.idle": "2021-10-22T13:39:13.851673Z",
     "shell.execute_reply": "2021-10-22T13:39:13.851163Z",
     "shell.execute_reply.started": "2021-10-22T13:18:40.446793Z"
    },
    "papermill": {
     "duration": 0.807183,
     "end_time": "2021-10-22T13:39:13.851828",
     "exception": false,
     "start_time": "2021-10-22T13:39:13.044645",
     "status": "completed"
    },
    "tags": []
   },
   "outputs": [],
   "source": [
    "from sklearn.model_selection import train_test_split"
   ]
  },
  {
   "cell_type": "code",
   "execution_count": null,
   "id": "9e7b4e1c",
   "metadata": {
    "execution": {
     "iopub.execute_input": "2021-10-22T13:39:13.960328Z",
     "iopub.status.busy": "2021-10-22T13:39:13.959489Z",
     "iopub.status.idle": "2021-10-22T13:39:13.964371Z",
     "shell.execute_reply": "2021-10-22T13:39:13.963942Z",
     "shell.execute_reply.started": "2021-10-22T13:18:41.226106Z"
    },
    "papermill": {
     "duration": 0.06225,
     "end_time": "2021-10-22T13:39:13.964486",
     "exception": false,
     "start_time": "2021-10-22T13:39:13.902236",
     "status": "completed"
    },
    "tags": []
   },
   "outputs": [],
   "source": [
    "X_train, X_test, y_train, y_test = train_test_split(X,y,test_size = 0.25,random_state = 0)"
   ]
  },
  {
   "cell_type": "code",
   "execution_count": null,
   "id": "608e2d4a",
   "metadata": {
    "execution": {
     "iopub.execute_input": "2021-10-22T13:39:14.070171Z",
     "iopub.status.busy": "2021-10-22T13:39:14.069453Z",
     "iopub.status.idle": "2021-10-22T13:39:14.073434Z",
     "shell.execute_reply": "2021-10-22T13:39:14.073895Z",
     "shell.execute_reply.started": "2021-10-22T13:18:41.236244Z"
    },
    "papermill": {
     "duration": 0.059671,
     "end_time": "2021-10-22T13:39:14.074040",
     "exception": false,
     "start_time": "2021-10-22T13:39:14.014369",
     "status": "completed"
    },
    "tags": []
   },
   "outputs": [
    {
     "data": {
      "text/plain": [
       "173    0\n",
       "261    0\n",
       "37     1\n",
       "101    1\n",
       "166    0\n",
       "      ..\n",
       "251    0\n",
       "192    0\n",
       "117    1\n",
       "47     1\n",
       "172    0\n",
       "Name: target, Length: 227, dtype: int64"
      ]
     },
     "execution_count": 30,
     "metadata": {},
     "output_type": "execute_result"
    }
   ],
   "source": [
    "y_train"
   ]
  },
  {
   "cell_type": "code",
   "execution_count": null,
   "id": "dc1e617c",
   "metadata": {
    "execution": {
     "iopub.execute_input": "2021-10-22T13:39:14.179965Z",
     "iopub.status.busy": "2021-10-22T13:39:14.178317Z",
     "iopub.status.idle": "2021-10-22T13:39:14.182385Z",
     "shell.execute_reply": "2021-10-22T13:39:14.181752Z",
     "shell.execute_reply.started": "2021-10-22T13:18:41.246647Z"
    },
    "papermill": {
     "duration": 0.05832,
     "end_time": "2021-10-22T13:39:14.182531",
     "exception": false,
     "start_time": "2021-10-22T13:39:14.124211",
     "status": "completed"
    },
    "tags": []
   },
   "outputs": [
    {
     "name": "stdout",
     "output_type": "stream",
     "text": [
      "(227, 13)\n",
      "(227,)\n"
     ]
    }
   ],
   "source": [
    "print(X_train.shape)\n",
    "print(y_train.shape)"
   ]
  },
  {
   "cell_type": "markdown",
   "id": "7f08b269",
   "metadata": {
    "papermill": {
     "duration": 0.049162,
     "end_time": "2021-10-22T13:39:14.282747",
     "exception": false,
     "start_time": "2021-10-22T13:39:14.233585",
     "status": "completed"
    },
    "tags": []
   },
   "source": [
    "# Machine Learning (Classification)\n",
    "Logistic Regression\n",
    "\n",
    "KNN(K Neighbors)\n",
    "\n",
    "Decision Tree\n",
    "\n",
    "Random Forests\n",
    "\n",
    "SVM\n",
    "\n",
    "GBM (Gradient Boosting Machine)\n",
    "\n",
    "AdaBoost\n",
    "\n",
    "Bagging"
   ]
  },
  {
   "cell_type": "markdown",
   "id": "9cb3e232",
   "metadata": {
    "papermill": {
     "duration": 0.050267,
     "end_time": "2021-10-22T13:39:14.382170",
     "exception": false,
     "start_time": "2021-10-22T13:39:14.331903",
     "status": "completed"
    },
    "tags": []
   },
   "source": [
    "# Now Import Some important libs"
   ]
  },
  {
   "cell_type": "code",
   "execution_count": null,
   "id": "7e9e4b0b",
   "metadata": {
    "execution": {
     "iopub.execute_input": "2021-10-22T13:39:14.486821Z",
     "iopub.status.busy": "2021-10-22T13:39:14.486171Z",
     "iopub.status.idle": "2021-10-22T13:39:14.731626Z",
     "shell.execute_reply": "2021-10-22T13:39:14.730647Z",
     "shell.execute_reply.started": "2021-10-22T13:18:41.255441Z"
    },
    "papermill": {
     "duration": 0.300138,
     "end_time": "2021-10-22T13:39:14.731779",
     "exception": false,
     "start_time": "2021-10-22T13:39:14.431641",
     "status": "completed"
    },
    "tags": []
   },
   "outputs": [],
   "source": [
    "from sklearn.metrics import r2_score, mean_squared_error, confusion_matrix, roc_curve, classification_report\n",
    "from sklearn.model_selection import train_test_split, cross_val_score, GridSearchCV\n",
    "from sklearn.preprocessing import LabelEncoder\n",
    "from sklearn.linear_model import LogisticRegression\n",
    "from sklearn.tree import DecisionTreeClassifier\n",
    "from sklearn.ensemble import RandomForestClassifier,AdaBoostClassifier,BaggingClassifier,GradientBoostingClassifier\n",
    "from sklearn.neighbors import KNeighborsClassifier\n",
    "from sklearn.svm import SVC\n",
    "from collections import Counter\n",
    "from sklearn.metrics import r2_score\n",
    "\n",
    "import warnings\n",
    "warnings.filterwarnings('ignore')"
   ]
  },
  {
   "cell_type": "markdown",
   "id": "508378fe",
   "metadata": {
    "papermill": {
     "duration": 0.053433,
     "end_time": "2021-10-22T13:39:14.841075",
     "exception": false,
     "start_time": "2021-10-22T13:39:14.787642",
     "status": "completed"
    },
    "tags": []
   },
   "source": [
    "# Logistic Regression"
   ]
  },
  {
   "cell_type": "code",
   "execution_count": null,
   "id": "8b874470",
   "metadata": {
    "execution": {
     "iopub.execute_input": "2021-10-22T13:39:14.950792Z",
     "iopub.status.busy": "2021-10-22T13:39:14.949956Z",
     "iopub.status.idle": "2021-10-22T13:39:14.952297Z",
     "shell.execute_reply": "2021-10-22T13:39:14.951763Z",
     "shell.execute_reply.started": "2021-10-22T13:18:41.505373Z"
    },
    "papermill": {
     "duration": 0.056344,
     "end_time": "2021-10-22T13:39:14.952404",
     "exception": false,
     "start_time": "2021-10-22T13:39:14.896060",
     "status": "completed"
    },
    "tags": []
   },
   "outputs": [],
   "source": [
    "log_reg=LogisticRegression(random_state=0,max_iter=900)"
   ]
  },
  {
   "cell_type": "code",
   "execution_count": null,
   "id": "dd7a7d09",
   "metadata": {
    "execution": {
     "iopub.execute_input": "2021-10-22T13:39:15.057874Z",
     "iopub.status.busy": "2021-10-22T13:39:15.057063Z",
     "iopub.status.idle": "2021-10-22T13:39:15.073541Z",
     "shell.execute_reply": "2021-10-22T13:39:15.074028Z",
     "shell.execute_reply.started": "2021-10-22T13:18:41.510936Z"
    },
    "papermill": {
     "duration": 0.072084,
     "end_time": "2021-10-22T13:39:15.074168",
     "exception": false,
     "start_time": "2021-10-22T13:39:15.002084",
     "status": "completed"
    },
    "tags": []
   },
   "outputs": [
    {
     "data": {
      "text/plain": [
       "LogisticRegression(max_iter=900, random_state=0)"
      ]
     },
     "execution_count": 34,
     "metadata": {},
     "output_type": "execute_result"
    }
   ],
   "source": [
    "log_reg.fit(X_train,y_train)"
   ]
  },
  {
   "cell_type": "code",
   "execution_count": null,
   "id": "3cce8473",
   "metadata": {
    "execution": {
     "iopub.execute_input": "2021-10-22T13:39:15.186960Z",
     "iopub.status.busy": "2021-10-22T13:39:15.186176Z",
     "iopub.status.idle": "2021-10-22T13:39:15.191369Z",
     "shell.execute_reply": "2021-10-22T13:39:15.191833Z",
     "shell.execute_reply.started": "2021-10-22T13:18:41.543644Z"
    },
    "papermill": {
     "duration": 0.060718,
     "end_time": "2021-10-22T13:39:15.191963",
     "exception": false,
     "start_time": "2021-10-22T13:39:15.131245",
     "status": "completed"
    },
    "tags": []
   },
   "outputs": [],
   "source": [
    "y_pred=log_reg.predict(X_test)"
   ]
  },
  {
   "cell_type": "code",
   "execution_count": null,
   "id": "12b2f0c1",
   "metadata": {
    "execution": {
     "iopub.execute_input": "2021-10-22T13:39:15.303026Z",
     "iopub.status.busy": "2021-10-22T13:39:15.302287Z",
     "iopub.status.idle": "2021-10-22T13:39:15.305200Z",
     "shell.execute_reply": "2021-10-22T13:39:15.305648Z",
     "shell.execute_reply.started": "2021-10-22T13:18:41.551870Z"
    },
    "papermill": {
     "duration": 0.060364,
     "end_time": "2021-10-22T13:39:15.305781",
     "exception": false,
     "start_time": "2021-10-22T13:39:15.245417",
     "status": "completed"
    },
    "tags": []
   },
   "outputs": [
    {
     "data": {
      "text/plain": [
       "0.8157894736842105"
      ]
     },
     "execution_count": 36,
     "metadata": {},
     "output_type": "execute_result"
    }
   ],
   "source": [
    "log_reg.score(X_test,y_test)"
   ]
  },
  {
   "cell_type": "markdown",
   "id": "25524634",
   "metadata": {
    "papermill": {
     "duration": 0.05077,
     "end_time": "2021-10-22T13:39:15.410154",
     "exception": false,
     "start_time": "2021-10-22T13:39:15.359384",
     "status": "completed"
    },
    "tags": []
   },
   "source": [
    "# GridSearchCV"
   ]
  },
  {
   "cell_type": "code",
   "execution_count": null,
   "id": "b63ea5bd",
   "metadata": {
    "execution": {
     "iopub.execute_input": "2021-10-22T13:39:15.517550Z",
     "iopub.status.busy": "2021-10-22T13:39:15.516765Z",
     "iopub.status.idle": "2021-10-22T13:39:15.970972Z",
     "shell.execute_reply": "2021-10-22T13:39:15.970447Z",
     "shell.execute_reply.started": "2021-10-22T13:18:41.565062Z"
    },
    "papermill": {
     "duration": 0.510969,
     "end_time": "2021-10-22T13:39:15.971114",
     "exception": false,
     "start_time": "2021-10-22T13:39:15.460145",
     "status": "completed"
    },
    "tags": []
   },
   "outputs": [
    {
     "data": {
      "text/plain": [
       "{'C': 1.0, 'penalty': 'l2'}"
      ]
     },
     "execution_count": 37,
     "metadata": {},
     "output_type": "execute_result"
    }
   ],
   "source": [
    "params = {'C': np.logspace(-3, 3, 7), 'penalty': ['l1', 'l2']}\n",
    "lr_model = LogisticRegression(random_state = 0)\n",
    "lr_cv = GridSearchCV(lr_model,params,cv = 5).fit(X_train,y_train)\n",
    "lr_cv.best_params_"
   ]
  },
  {
   "cell_type": "code",
   "execution_count": null,
   "id": "2e8741d5",
   "metadata": {
    "execution": {
     "iopub.execute_input": "2021-10-22T13:39:16.081353Z",
     "iopub.status.busy": "2021-10-22T13:39:16.080437Z",
     "iopub.status.idle": "2021-10-22T13:39:16.094571Z",
     "shell.execute_reply": "2021-10-22T13:39:16.094099Z",
     "shell.execute_reply.started": "2021-10-22T13:18:42.181907Z"
    },
    "papermill": {
     "duration": 0.071694,
     "end_time": "2021-10-22T13:39:16.094687",
     "exception": false,
     "start_time": "2021-10-22T13:39:16.022993",
     "status": "completed"
    },
    "tags": []
   },
   "outputs": [
    {
     "data": {
      "text/plain": [
       "LogisticRegression(C=1, random_state=0)"
      ]
     },
     "execution_count": 38,
     "metadata": {},
     "output_type": "execute_result"
    }
   ],
   "source": [
    "log_reg2 = LogisticRegression(C = 1,random_state = 0)\n",
    "log_reg2.fit(X_train,y_train)"
   ]
  },
  {
   "cell_type": "code",
   "execution_count": null,
   "id": "a578d077",
   "metadata": {
    "execution": {
     "iopub.execute_input": "2021-10-22T13:39:16.205564Z",
     "iopub.status.busy": "2021-10-22T13:39:16.204596Z",
     "iopub.status.idle": "2021-10-22T13:39:16.209029Z",
     "shell.execute_reply": "2021-10-22T13:39:16.209477Z",
     "shell.execute_reply.started": "2021-10-22T13:18:42.214436Z"
    },
    "papermill": {
     "duration": 0.063953,
     "end_time": "2021-10-22T13:39:16.209642",
     "exception": false,
     "start_time": "2021-10-22T13:39:16.145689",
     "status": "completed"
    },
    "tags": []
   },
   "outputs": [
    {
     "data": {
      "text/plain": [
       "array([0, 1, 1, 0, 0, 0, 0, 0, 0, 0, 1, 1, 0, 1, 1, 1, 0, 1, 0, 1, 1, 0,\n",
       "       0, 0, 1, 1, 0, 0, 1, 1, 1, 0, 1, 1, 1, 1, 0, 1, 0, 0, 1, 1, 0, 0,\n",
       "       1, 1, 1, 1, 0, 1, 1, 1, 1, 1, 1, 0, 1, 1, 1, 1, 1, 1, 1, 1, 1, 1,\n",
       "       1, 0, 1, 0, 0, 1, 1, 0, 0, 1], dtype=int64)"
      ]
     },
     "execution_count": 39,
     "metadata": {},
     "output_type": "execute_result"
    }
   ],
   "source": [
    "log_reg2.predict(X_test)"
   ]
  },
  {
   "cell_type": "code",
   "execution_count": null,
   "id": "87281422",
   "metadata": {
    "execution": {
     "iopub.execute_input": "2021-10-22T13:39:16.332064Z",
     "iopub.status.busy": "2021-10-22T13:39:16.331062Z",
     "iopub.status.idle": "2021-10-22T13:39:16.336323Z",
     "shell.execute_reply": "2021-10-22T13:39:16.336870Z",
     "shell.execute_reply.started": "2021-10-22T13:18:42.233086Z"
    },
    "papermill": {
     "duration": 0.068075,
     "end_time": "2021-10-22T13:39:16.337035",
     "exception": false,
     "start_time": "2021-10-22T13:39:16.268960",
     "status": "completed"
    },
    "tags": []
   },
   "outputs": [
    {
     "data": {
      "text/plain": [
       "0.8157894736842105"
      ]
     },
     "execution_count": 40,
     "metadata": {},
     "output_type": "execute_result"
    }
   ],
   "source": [
    "log_reg2.score(X_test,y_test)"
   ]
  },
  {
   "cell_type": "markdown",
   "id": "6095c73d",
   "metadata": {
    "papermill": {
     "duration": 0.050781,
     "end_time": "2021-10-22T13:39:16.450617",
     "exception": false,
     "start_time": "2021-10-22T13:39:16.399836",
     "status": "completed"
    },
    "tags": []
   },
   "source": [
    "# KNN (K Neighbors)"
   ]
  },
  {
   "cell_type": "code",
   "execution_count": null,
   "id": "83af9a5c",
   "metadata": {
    "execution": {
     "iopub.execute_input": "2021-10-22T13:39:16.563682Z",
     "iopub.status.busy": "2021-10-22T13:39:16.555305Z",
     "iopub.status.idle": "2021-10-22T13:39:16.569910Z",
     "shell.execute_reply": "2021-10-22T13:39:16.570343Z",
     "shell.execute_reply.started": "2021-10-22T13:18:42.254068Z"
    },
    "papermill": {
     "duration": 0.068661,
     "end_time": "2021-10-22T13:39:16.570483",
     "exception": false,
     "start_time": "2021-10-22T13:39:16.501822",
     "status": "completed"
    },
    "tags": []
   },
   "outputs": [
    {
     "data": {
      "text/plain": [
       "0.8026315789473685"
      ]
     },
     "execution_count": 41,
     "metadata": {},
     "output_type": "execute_result"
    }
   ],
   "source": [
    "knn = KNeighborsClassifier(n_neighbors = 2).fit(X_train,y_train)\n",
    "knn.score(X_test,y_test)"
   ]
  },
  {
   "cell_type": "code",
   "execution_count": null,
   "id": "ecb11ed9",
   "metadata": {
    "execution": {
     "iopub.execute_input": "2021-10-22T13:39:16.679560Z",
     "iopub.status.busy": "2021-10-22T13:39:16.678720Z",
     "iopub.status.idle": "2021-10-22T13:39:21.674581Z",
     "shell.execute_reply": "2021-10-22T13:39:21.675689Z",
     "shell.execute_reply.started": "2021-10-22T13:18:42.284155Z"
    },
    "papermill": {
     "duration": 5.053733,
     "end_time": "2021-10-22T13:39:21.675931",
     "exception": false,
     "start_time": "2021-10-22T13:39:16.622198",
     "status": "completed"
    },
    "tags": []
   },
   "outputs": [
    {
     "data": {
      "text/plain": [
       "{'n_neighbors': 5}"
      ]
     },
     "execution_count": 42,
     "metadata": {},
     "output_type": "execute_result"
    }
   ],
   "source": [
    "params = {\"n_neighbors\": range(1,50)}\n",
    "knn_model = KNeighborsClassifier()\n",
    "knn_cv = GridSearchCV(knn_model, params, cv = 10, n_jobs = -1).fit(X_train,y_train)\n",
    "knn_cv.best_params_"
   ]
  },
  {
   "cell_type": "code",
   "execution_count": null,
   "id": "ef76bc21",
   "metadata": {
    "execution": {
     "iopub.execute_input": "2021-10-22T13:39:21.846300Z",
     "iopub.status.busy": "2021-10-22T13:39:21.844640Z",
     "iopub.status.idle": "2021-10-22T13:39:21.865779Z",
     "shell.execute_reply": "2021-10-22T13:39:21.866866Z",
     "shell.execute_reply.started": "2021-10-22T13:18:46.737703Z"
    },
    "papermill": {
     "duration": 0.109107,
     "end_time": "2021-10-22T13:39:21.867111",
     "exception": false,
     "start_time": "2021-10-22T13:39:21.758004",
     "status": "completed"
    },
    "tags": []
   },
   "outputs": [
    {
     "data": {
      "text/plain": [
       "0.8552631578947368"
      ]
     },
     "execution_count": 40,
     "metadata": {},
     "output_type": "execute_result"
    }
   ],
   "source": [
    "knn_tuned = KNeighborsClassifier(n_neighbors = 5).fit(X_train,y_train)\n",
    "knn_tuned.score(X_test,y_test)"
   ]
  },
  {
   "cell_type": "markdown",
   "id": "b0985a13",
   "metadata": {
    "papermill": {
     "duration": 0.087199,
     "end_time": "2021-10-22T13:39:22.041351",
     "exception": false,
     "start_time": "2021-10-22T13:39:21.954152",
     "status": "completed"
    },
    "tags": []
   },
   "source": [
    "# Decision Tree"
   ]
  },
  {
   "cell_type": "code",
   "execution_count": null,
   "id": "4a77ceea",
   "metadata": {
    "execution": {
     "iopub.execute_input": "2021-10-22T13:39:22.263292Z",
     "iopub.status.busy": "2021-10-22T13:39:22.262485Z",
     "iopub.status.idle": "2021-10-22T13:39:22.276141Z",
     "shell.execute_reply": "2021-10-22T13:39:22.279067Z",
     "shell.execute_reply.started": "2021-10-22T13:18:46.756934Z"
    },
    "papermill": {
     "duration": 0.14705,
     "end_time": "2021-10-22T13:39:22.279263",
     "exception": false,
     "start_time": "2021-10-22T13:39:22.132213",
     "status": "completed"
    },
    "tags": []
   },
   "outputs": [
    {
     "data": {
      "text/plain": [
       "0.7763157894736842"
      ]
     },
     "execution_count": 43,
     "metadata": {},
     "output_type": "execute_result"
    }
   ],
   "source": [
    "tree = DecisionTreeClassifier(random_state = 0).fit(X_train,y_train)\n",
    "tree.score(X_test,y_test)"
   ]
  },
  {
   "cell_type": "code",
   "execution_count": null,
   "id": "f11b148e",
   "metadata": {
    "execution": {
     "iopub.execute_input": "2021-10-22T13:39:22.683238Z",
     "iopub.status.busy": "2021-10-22T13:39:22.676381Z",
     "iopub.status.idle": "2021-10-22T13:39:38.029823Z",
     "shell.execute_reply": "2021-10-22T13:39:38.030222Z",
     "shell.execute_reply.started": "2021-10-22T13:18:46.770215Z"
    },
    "papermill": {
     "duration": 15.596448,
     "end_time": "2021-10-22T13:39:38.030379",
     "exception": false,
     "start_time": "2021-10-22T13:39:22.433931",
     "status": "completed"
    },
    "tags": []
   },
   "outputs": [
    {
     "data": {
      "text/plain": [
       "{'max_depth': 4, 'min_samples_split': 35}"
      ]
     },
     "execution_count": 44,
     "metadata": {},
     "output_type": "execute_result"
    }
   ],
   "source": [
    "params = {\"max_depth\": range(1,10),\n",
    "            \"min_samples_split\" : list(range(2,50))}\n",
    "tree_model = DecisionTreeClassifier(random_state = 0)\n",
    "tree_cv = GridSearchCV(tree_model, params, cv = 10, n_jobs = -1).fit(X_train,y_train)\n",
    "tree_cv.best_params_"
   ]
  },
  {
   "cell_type": "code",
   "execution_count": null,
   "id": "ce477c23",
   "metadata": {
    "execution": {
     "iopub.execute_input": "2021-10-22T13:39:38.145576Z",
     "iopub.status.busy": "2021-10-22T13:39:38.144729Z",
     "iopub.status.idle": "2021-10-22T13:39:38.150638Z",
     "shell.execute_reply": "2021-10-22T13:39:38.151122Z",
     "shell.execute_reply.started": "2021-10-22T13:19:01.946681Z"
    },
    "papermill": {
     "duration": 0.067327,
     "end_time": "2021-10-22T13:39:38.151259",
     "exception": false,
     "start_time": "2021-10-22T13:39:38.083932",
     "status": "completed"
    },
    "tags": []
   },
   "outputs": [
    {
     "data": {
      "text/plain": [
       "0.7894736842105263"
      ]
     },
     "execution_count": 45,
     "metadata": {},
     "output_type": "execute_result"
    }
   ],
   "source": [
    "tree_tuned = DecisionTreeClassifier(max_depth = 5, min_samples_leaf = 7, min_samples_split = 2,random_state = 42).fit(X_train,y_train)\n",
    "tree_tuned.score(X_test,y_test)"
   ]
  },
  {
   "cell_type": "markdown",
   "id": "46b5b0d7",
   "metadata": {
    "papermill": {
     "duration": 0.052866,
     "end_time": "2021-10-22T13:39:38.257439",
     "exception": false,
     "start_time": "2021-10-22T13:39:38.204573",
     "status": "completed"
    },
    "tags": []
   },
   "source": [
    "# Random Forest"
   ]
  },
  {
   "cell_type": "code",
   "execution_count": null,
   "id": "a08f0f21",
   "metadata": {
    "execution": {
     "iopub.execute_input": "2021-10-22T13:39:38.405484Z",
     "iopub.status.busy": "2021-10-22T13:39:38.369325Z",
     "iopub.status.idle": "2021-10-22T13:39:38.549564Z",
     "shell.execute_reply": "2021-10-22T13:39:38.548897Z",
     "shell.execute_reply.started": "2021-10-22T13:19:01.963393Z"
    },
    "papermill": {
     "duration": 0.239379,
     "end_time": "2021-10-22T13:39:38.549704",
     "exception": false,
     "start_time": "2021-10-22T13:39:38.310325",
     "status": "completed"
    },
    "tags": []
   },
   "outputs": [
    {
     "data": {
      "text/plain": [
       "0.868421052631579"
      ]
     },
     "execution_count": 46,
     "metadata": {},
     "output_type": "execute_result"
    }
   ],
   "source": [
    "rf = RandomForestClassifier(random_state = 0).fit(X_train,y_train)\n",
    "rf.score(X_test,y_test)"
   ]
  },
  {
   "cell_type": "code",
   "execution_count": null,
   "id": "0b3462a4",
   "metadata": {
    "execution": {
     "iopub.execute_input": "2021-10-22T13:39:38.671035Z",
     "iopub.status.busy": "2021-10-22T13:39:38.670217Z",
     "iopub.status.idle": "2021-10-22T13:44:21.497953Z",
     "shell.execute_reply": "2021-10-22T13:44:21.497397Z",
     "shell.execute_reply.started": "2021-10-22T13:19:02.146165Z"
    },
    "papermill": {
     "duration": 282.889855,
     "end_time": "2021-10-22T13:44:21.498114",
     "exception": false,
     "start_time": "2021-10-22T13:39:38.608259",
     "status": "completed"
    },
    "tags": []
   },
   "outputs": [
    {
     "data": {
      "text/plain": [
       "{'max_depth': 5,\n",
       " 'max_features': 3,\n",
       " 'min_samples_leaf': 9,\n",
       " 'min_samples_split': 2}"
      ]
     },
     "execution_count": 47,
     "metadata": {},
     "output_type": "execute_result"
    }
   ],
   "source": [
    "params = {\"max_depth\": range(1,30),\n",
    "         \"min_samples_split\" : [2,3,5,6,7,10,11,15],\n",
    "         \"min_samples_leaf\": [2,5,7,8,9],\n",
    "         \"max_features\" : [2,3,5,7,9,12,15],\n",
    "         }\n",
    "rf_model = DecisionTreeClassifier(random_state = 0)\n",
    "rf_cv = GridSearchCV(rf_model, params, cv = 10, n_jobs = -1).fit(X_train,y_train)\n",
    "rf_cv.best_params_"
   ]
  },
  {
   "cell_type": "code",
   "execution_count": null,
   "id": "8c3deb20",
   "metadata": {
    "execution": {
     "iopub.execute_input": "2021-10-22T13:44:22.250165Z",
     "iopub.status.busy": "2021-10-22T13:44:22.212934Z",
     "iopub.status.idle": "2021-10-22T13:44:22.410712Z",
     "shell.execute_reply": "2021-10-22T13:44:22.411472Z",
     "shell.execute_reply.started": "2021-10-22T13:23:34.275236Z"
    },
    "papermill": {
     "duration": 0.556737,
     "end_time": "2021-10-22T13:44:22.411638",
     "exception": false,
     "start_time": "2021-10-22T13:44:21.854901",
     "status": "completed"
    },
    "tags": []
   },
   "outputs": [
    {
     "data": {
      "text/plain": [
       "0.8289473684210527"
      ]
     },
     "execution_count": 48,
     "metadata": {},
     "output_type": "execute_result"
    }
   ],
   "source": [
    "rf_tuned = RandomForestClassifier(max_depth = 5, max_features  = 9, min_samples_leaf = 8, min_samples_split = 2,random_state = 0).fit(X_train,y_train)\n",
    "rf_tuned.score(X_test,y_test)"
   ]
  },
  {
   "cell_type": "markdown",
   "id": "d488176e",
   "metadata": {
    "papermill": {
     "duration": 0.318173,
     "end_time": "2021-10-22T13:44:23.070611",
     "exception": false,
     "start_time": "2021-10-22T13:44:22.752438",
     "status": "completed"
    },
    "tags": []
   },
   "source": [
    "# SVM"
   ]
  },
  {
   "cell_type": "code",
   "execution_count": null,
   "id": "2a3b124f",
   "metadata": {
    "execution": {
     "iopub.execute_input": "2021-10-22T13:44:23.696446Z",
     "iopub.status.busy": "2021-10-22T13:44:23.695295Z",
     "iopub.status.idle": "2021-10-22T13:44:23.704857Z",
     "shell.execute_reply": "2021-10-22T13:44:23.704378Z",
     "shell.execute_reply.started": "2021-10-22T13:23:34.465299Z"
    },
    "papermill": {
     "duration": 0.326687,
     "end_time": "2021-10-22T13:44:23.704977",
     "exception": false,
     "start_time": "2021-10-22T13:44:23.378290",
     "status": "completed"
    },
    "tags": []
   },
   "outputs": [
    {
     "data": {
      "text/plain": [
       "0.8421052631578947"
      ]
     },
     "execution_count": 49,
     "metadata": {},
     "output_type": "execute_result"
    }
   ],
   "source": [
    "svm = SVC(random_state = 42).fit(X_train,y_train)\n",
    "svm.score(X_test,y_test)"
   ]
  },
  {
   "cell_type": "code",
   "execution_count": null,
   "id": "be2a7364",
   "metadata": {
    "execution": {
     "iopub.execute_input": "2021-10-22T13:44:24.327483Z",
     "iopub.status.busy": "2021-10-22T13:44:24.326482Z",
     "iopub.status.idle": "2021-10-22T13:44:27.430591Z",
     "shell.execute_reply": "2021-10-22T13:44:27.429976Z",
     "shell.execute_reply.started": "2021-10-22T13:23:34.480290Z"
    },
    "papermill": {
     "duration": 3.418873,
     "end_time": "2021-10-22T13:44:27.430723",
     "exception": false,
     "start_time": "2021-10-22T13:44:24.011850",
     "status": "completed"
    },
    "tags": []
   },
   "outputs": [
    {
     "data": {
      "text/plain": [
       "{'C': 100, 'gamma': 0.001}"
      ]
     },
     "execution_count": 50,
     "metadata": {},
     "output_type": "execute_result"
    }
   ],
   "source": [
    "params = {\"C\": [0.0001, 0.001, 0.1, 1, 5, 10 ,50 ,100],\n",
    "             \"gamma\": [0.0001, 0.001, 0.1, 1, 5, 10 ,50 ,100]}\n",
    "svm_model = SVC(random_state = 42)\n",
    "svm_cv = GridSearchCV(svm_model,params,cv = 10,n_jobs = -1).fit(X_train,y_train)\n",
    "svm_cv.best_params_"
   ]
  },
  {
   "cell_type": "code",
   "execution_count": null,
   "id": "f3efbecd",
   "metadata": {
    "execution": {
     "iopub.execute_input": "2021-10-22T13:44:28.072491Z",
     "iopub.status.busy": "2021-10-22T13:44:28.071621Z",
     "iopub.status.idle": "2021-10-22T13:44:28.081541Z",
     "shell.execute_reply": "2021-10-22T13:44:28.081123Z",
     "shell.execute_reply.started": "2021-10-22T13:23:37.501275Z"
    },
    "papermill": {
     "duration": 0.325141,
     "end_time": "2021-10-22T13:44:28.081661",
     "exception": false,
     "start_time": "2021-10-22T13:44:27.756520",
     "status": "completed"
    },
    "tags": []
   },
   "outputs": [
    {
     "data": {
      "text/plain": [
       "0.8421052631578947"
      ]
     },
     "execution_count": 51,
     "metadata": {},
     "output_type": "execute_result"
    }
   ],
   "source": [
    "svm_tuned = SVC(C = 10, degree = 1, gamma = 0.1, random_state = 42).fit(X_train,y_train)\n",
    "svm_tuned.score(X_test,y_test)"
   ]
  },
  {
   "cell_type": "markdown",
   "id": "744513e9",
   "metadata": {
    "papermill": {
     "duration": 0.30451,
     "end_time": "2021-10-22T13:44:28.688852",
     "exception": false,
     "start_time": "2021-10-22T13:44:28.384342",
     "status": "completed"
    },
    "tags": []
   },
   "source": [
    "# GBM"
   ]
  },
  {
   "cell_type": "code",
   "execution_count": null,
   "id": "640fd734",
   "metadata": {
    "execution": {
     "iopub.execute_input": "2021-10-22T13:44:29.326498Z",
     "iopub.status.busy": "2021-10-22T13:44:29.325627Z",
     "iopub.status.idle": "2021-10-22T13:44:29.412105Z",
     "shell.execute_reply": "2021-10-22T13:44:29.412535Z",
     "shell.execute_reply.started": "2021-10-22T13:23:37.520028Z"
    },
    "papermill": {
     "duration": 0.414691,
     "end_time": "2021-10-22T13:44:29.412681",
     "exception": false,
     "start_time": "2021-10-22T13:44:28.997990",
     "status": "completed"
    },
    "tags": []
   },
   "outputs": [
    {
     "data": {
      "text/plain": [
       "0.8026315789473685"
      ]
     },
     "execution_count": 52,
     "metadata": {},
     "output_type": "execute_result"
    }
   ],
   "source": [
    "gbm = GradientBoostingClassifier(random_state = 42).fit(X_train,y_train)\n",
    "gbm.score(X_test,y_test)"
   ]
  },
  {
   "cell_type": "code",
   "execution_count": null,
   "id": "01e57a41",
   "metadata": {
    "execution": {
     "iopub.execute_input": "2021-10-22T13:44:30.036848Z",
     "iopub.status.busy": "2021-10-22T13:44:30.035907Z",
     "iopub.status.idle": "2021-10-22T13:55:17.872173Z",
     "shell.execute_reply": "2021-10-22T13:55:17.872819Z",
     "shell.execute_reply.started": "2021-10-22T13:23:37.611071Z"
    },
    "papermill": {
     "duration": 648.155558,
     "end_time": "2021-10-22T13:55:17.872995",
     "exception": false,
     "start_time": "2021-10-22T13:44:29.717437",
     "status": "completed"
    },
    "tags": []
   },
   "outputs": [
    {
     "data": {
      "text/plain": [
       "{'learning_rate': 0.001,\n",
       " 'max_depth': 3,\n",
       " 'min_samples_split': 2,\n",
       " 'n_estimators': 500}"
      ]
     },
     "execution_count": 54,
     "metadata": {},
     "output_type": "execute_result"
    }
   ],
   "source": [
    "gbm_params = {\"learning_rate\" : [0.001, 0.01, 0.1, 0.05],\n",
    "             \"n_estimators\": [100,500,1000],\n",
    "             \"max_depth\": [3,5,10],\n",
    "             \"min_samples_split\": [2,5,10]}\n",
    "gbm_model = GradientBoostingClassifier(random_state = 42)\n",
    "gbm_cv = GridSearchCV(gbm_model, gbm_params, cv = 10, n_jobs = -1).fit(X_train,y_train)\n",
    "gbm_cv.best_params_"
   ]
  },
  {
   "cell_type": "code",
   "execution_count": null,
   "id": "8d945c23",
   "metadata": {
    "execution": {
     "iopub.execute_input": "2021-10-22T13:55:18.502159Z",
     "iopub.status.busy": "2021-10-22T13:55:18.501317Z",
     "iopub.status.idle": "2021-10-22T13:55:18.567055Z",
     "shell.execute_reply": "2021-10-22T13:55:18.566593Z",
     "shell.execute_reply.started": "2021-10-22T13:34:13.703778Z"
    },
    "papermill": {
     "duration": 0.383152,
     "end_time": "2021-10-22T13:55:18.567183",
     "exception": false,
     "start_time": "2021-10-22T13:55:18.184031",
     "status": "completed"
    },
    "tags": []
   },
   "outputs": [
    {
     "data": {
      "text/plain": [
       "0.8289473684210527"
      ]
     },
     "execution_count": 55,
     "metadata": {},
     "output_type": "execute_result"
    }
   ],
   "source": [
    "gbm_tuned = GradientBoostingClassifier(max_depth = 2, learning_rate = 0.01, min_samples_split = 2, n_estimators = 100, random_state = 42).fit(X_train,y_train)\n",
    "gbm_tuned.score(X_test,y_test)"
   ]
  },
  {
   "cell_type": "markdown",
   "id": "622b8068",
   "metadata": {
    "papermill": {
     "duration": 0.357438,
     "end_time": "2021-10-22T13:55:19.229364",
     "exception": false,
     "start_time": "2021-10-22T13:55:18.871926",
     "status": "completed"
    },
    "tags": []
   },
   "source": [
    "# Adaboost"
   ]
  },
  {
   "cell_type": "code",
   "execution_count": null,
   "id": "9ca68e8c",
   "metadata": {
    "execution": {
     "iopub.execute_input": "2021-10-22T13:55:20.075260Z",
     "iopub.status.busy": "2021-10-22T13:55:20.074286Z",
     "iopub.status.idle": "2021-10-22T13:55:20.165599Z",
     "shell.execute_reply": "2021-10-22T13:55:20.166048Z",
     "shell.execute_reply.started": "2021-10-22T13:34:13.775774Z"
    },
    "papermill": {
     "duration": 0.40841,
     "end_time": "2021-10-22T13:55:20.166201",
     "exception": false,
     "start_time": "2021-10-22T13:55:19.757791",
     "status": "completed"
    },
    "tags": []
   },
   "outputs": [
    {
     "data": {
      "text/plain": [
       "0.8421052631578947"
      ]
     },
     "execution_count": 56,
     "metadata": {},
     "output_type": "execute_result"
    }
   ],
   "source": [
    "ada = AdaBoostClassifier(random_state = 42).fit(X_train,y_train)\n",
    "ada.score(X_test,y_test)"
   ]
  },
  {
   "cell_type": "code",
   "execution_count": null,
   "id": "ab3dcc30",
   "metadata": {
    "execution": {
     "iopub.execute_input": "2021-10-22T13:55:20.790745Z",
     "iopub.status.busy": "2021-10-22T13:55:20.786666Z",
     "iopub.status.idle": "2021-10-22T13:58:40.977848Z",
     "shell.execute_reply": "2021-10-22T13:58:40.978296Z",
     "shell.execute_reply.started": "2021-10-22T13:34:13.870379Z"
    },
    "papermill": {
     "duration": 200.503082,
     "end_time": "2021-10-22T13:58:40.978458",
     "exception": false,
     "start_time": "2021-10-22T13:55:20.475376",
     "status": "completed"
    },
    "tags": []
   },
   "outputs": [
    {
     "data": {
      "text/plain": [
       "{'learning_rate': 0.3, 'n_estimators': 10}"
      ]
     },
     "execution_count": 57,
     "metadata": {},
     "output_type": "execute_result"
    }
   ],
   "source": [
    "params = {\"n_estimators\":[10,100,200,300,500,1000],\"learning_rate\":[0.0001,0.001,0.01,0.1,0.2,0.3,0.7]}\n",
    "ada_model = AdaBoostClassifier(random_state = 42)\n",
    "ada_cv = GridSearchCV(ada_model,params,cv = 10,n_jobs = -1).fit(X_train,y_train)\n",
    "ada_cv.best_params_"
   ]
  },
  {
   "cell_type": "code",
   "execution_count": null,
   "id": "0a901ef6",
   "metadata": {
    "execution": {
     "iopub.execute_input": "2021-10-22T13:58:41.610741Z",
     "iopub.status.busy": "2021-10-22T13:58:41.608592Z",
     "iopub.status.idle": "2021-10-22T13:58:43.305253Z",
     "shell.execute_reply": "2021-10-22T13:58:43.304733Z",
     "shell.execute_reply.started": "2021-10-22T13:37:33.043402Z"
    },
    "papermill": {
     "duration": 2.017261,
     "end_time": "2021-10-22T13:58:43.305383",
     "exception": false,
     "start_time": "2021-10-22T13:58:41.288122",
     "status": "completed"
    },
    "tags": []
   },
   "outputs": [
    {
     "data": {
      "text/plain": [
       "0.8421052631578947"
      ]
     },
     "execution_count": 58,
     "metadata": {},
     "output_type": "execute_result"
    }
   ],
   "source": [
    "ada_tuned = AdaBoostClassifier(learning_rate = 0.01,n_estimators = 1000,random_state = 42).fit(X_train,y_train)\n",
    "ada_tuned.score(X_test,y_test)"
   ]
  },
  {
   "cell_type": "markdown",
   "id": "b44d1bbb",
   "metadata": {
    "papermill": {
     "duration": 0.310996,
     "end_time": "2021-10-22T13:58:43.945059",
     "exception": false,
     "start_time": "2021-10-22T13:58:43.634063",
     "status": "completed"
    },
    "tags": []
   },
   "source": [
    "# Bagging"
   ]
  },
  {
   "cell_type": "code",
   "execution_count": null,
   "id": "a78389f1",
   "metadata": {
    "execution": {
     "iopub.execute_input": "2021-10-22T13:58:44.584445Z",
     "iopub.status.busy": "2021-10-22T13:58:44.583457Z",
     "iopub.status.idle": "2021-10-22T13:58:44.613466Z",
     "shell.execute_reply": "2021-10-22T13:58:44.613009Z",
     "shell.execute_reply.started": "2021-10-22T13:37:34.742086Z"
    },
    "papermill": {
     "duration": 0.355926,
     "end_time": "2021-10-22T13:58:44.613581",
     "exception": false,
     "start_time": "2021-10-22T13:58:44.257655",
     "status": "completed"
    },
    "tags": []
   },
   "outputs": [
    {
     "data": {
      "text/plain": [
       "0.7894736842105263"
      ]
     },
     "execution_count": 69,
     "metadata": {},
     "output_type": "execute_result"
    }
   ],
   "source": [
    "bag = BaggingClassifier(random_state = 42).fit(X_train,y_train)\n",
    "bag.score(X_test,y_test)"
   ]
  },
  {
   "cell_type": "code",
   "execution_count": null,
   "id": "72761889",
   "metadata": {
    "execution": {
     "iopub.execute_input": "2021-10-22T13:58:45.233700Z",
     "iopub.status.busy": "2021-10-22T13:58:45.232844Z",
     "iopub.status.idle": "2021-10-22T13:59:08.732120Z",
     "shell.execute_reply": "2021-10-22T13:59:08.731287Z",
     "shell.execute_reply.started": "2021-10-22T13:37:34.794984Z"
    },
    "papermill": {
     "duration": 23.813696,
     "end_time": "2021-10-22T13:59:08.732273",
     "exception": false,
     "start_time": "2021-10-22T13:58:44.918577",
     "status": "completed"
    },
    "tags": []
   },
   "outputs": [
    {
     "data": {
      "text/plain": [
       "{'n_estimators': 5}"
      ]
     },
     "execution_count": 70,
     "metadata": {},
     "output_type": "execute_result"
    }
   ],
   "source": [
    "params = {\"n_estimators\": range(1,50)}\n",
    "bag_model = BaggingClassifier(random_state = 42)\n",
    "bag_cv = GridSearchCV(bag_model, params, cv = 10, n_jobs = -1).fit(X_train,y_train)\n",
    "bag_cv.best_params_"
   ]
  },
  {
   "cell_type": "code",
   "execution_count": null,
   "id": "f5a4440f",
   "metadata": {
    "execution": {
     "iopub.execute_input": "2021-10-22T13:59:09.375433Z",
     "iopub.status.busy": "2021-10-22T13:59:09.374601Z",
     "iopub.status.idle": "2021-10-22T13:59:09.484954Z",
     "shell.execute_reply": "2021-10-22T13:59:09.484498Z",
     "shell.execute_reply.started": "2021-10-22T13:37:58.691126Z"
    },
    "papermill": {
     "duration": 0.43926,
     "end_time": "2021-10-22T13:59:09.485080",
     "exception": false,
     "start_time": "2021-10-22T13:59:09.045820",
     "status": "completed"
    },
    "tags": []
   },
   "outputs": [
    {
     "data": {
      "text/plain": [
       "0.8289473684210527"
      ]
     },
     "execution_count": 61,
     "metadata": {},
     "output_type": "execute_result"
    }
   ],
   "source": [
    "bag_tuned = BaggingClassifier(n_estimators = 45,random_state = 42).fit(X_train,y_train)\n",
    "bag_tuned.score(X_test,y_test)"
   ]
  }
 ],
 "metadata": {
  "kernelspec": {
   "display_name": "Python 3",
   "language": "python",
   "name": "python3"
  },
  "language_info": {
   "codemirror_mode": {
    "name": "ipython",
    "version": 3
   },
   "file_extension": ".py",
   "mimetype": "text/x-python",
   "name": "python",
   "nbconvert_exporter": "python",
   "pygments_lexer": "ipython3",
   "version": "3.11.1 (tags/v3.11.1:a7a450f, Dec  6 2022, 19:58:39) [MSC v.1934 64 bit (AMD64)]"
  },
  "papermill": {
   "default_parameters": {},
   "duration": 1214.813405,
   "end_time": "2021-10-22T13:59:16.088410",
   "environment_variables": {},
   "exception": null,
   "input_path": "__notebook__.ipynb",
   "output_path": "__notebook__.ipynb",
   "parameters": {},
   "start_time": "2021-10-22T13:39:01.275005",
   "version": "2.3.3"
  },
  "vscode": {
   "interpreter": {
    "hash": "e956c49ae0caa224b5fdd754cbc353d7e61c6c61f7329ee680c7f7b4f1b71a8e"
   }
  }
 },
 "nbformat": 4,
 "nbformat_minor": 5
}
